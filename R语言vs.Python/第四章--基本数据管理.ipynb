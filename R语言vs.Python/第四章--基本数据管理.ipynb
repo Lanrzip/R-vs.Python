{
 "cells": [
  {
   "cell_type": "markdown",
   "metadata": {},
   "source": [
    "# 基本数据管理"
   ]
  },
  {
   "cell_type": "markdown",
   "metadata": {},
   "source": [
    "## 一个示例"
   ]
  },
  {
   "cell_type": "code",
   "execution_count": 1,
   "metadata": {
    "execution": {
     "iopub.execute_input": "2020-10-12T10:42:23.205813Z",
     "iopub.status.busy": "2020-10-12T10:42:23.205813Z",
     "iopub.status.idle": "2020-10-12T10:42:30.604691Z",
     "shell.execute_reply": "2020-10-12T10:42:30.604691Z",
     "shell.execute_reply.started": "2020-10-12T10:42:23.205813Z"
    }
   },
   "outputs": [],
   "source": [
    "import numpy as np\n",
    "import pandas as pd"
   ]
  },
  {
   "cell_type": "code",
   "execution_count": 2,
   "metadata": {
    "execution": {
     "iopub.execute_input": "2020-10-12T10:42:30.613005Z",
     "iopub.status.busy": "2020-10-12T10:42:30.613005Z",
     "iopub.status.idle": "2020-10-12T10:42:30.723690Z",
     "shell.execute_reply": "2020-10-12T10:42:30.723690Z",
     "shell.execute_reply.started": "2020-10-12T10:42:30.613005Z"
    }
   },
   "outputs": [],
   "source": [
    "manager = [1, 2, 3, 4, 5]\n",
    "date = [\"10/24/08\", \"10/28/08\", \"10/1/08\", \"10/12/08\", \"5/1/09\"]\n",
    "country = [\"US\", \"US\", \"UK\", \"UK\", \"UK\"]\n",
    "gender = [\"M\", \"F\", \"F\", \"M\", \"F\"]\n",
    "age = [32, 45, 25, 39, 99]\n",
    "q1 = [5, 3, 3, 3, 2]\n",
    "q2 = [4, 5, 5, 3, 2]\n",
    "q3 = [5, 2, 5, 4, 1]\n",
    "q4 = [5, 5, 5, np.nan, 2]\n",
    "q5 = [5, 5, 2, np.nan, 1]\n",
    "\n",
    "leadership = pd.DataFrame({'manager': manager,\n",
    "                           'date': date,\n",
    "                           'country': country,\n",
    "                           'gender': gender,\n",
    "                           'age': age,\n",
    "                           'q1': q1, 'q2': q2, 'q3': q3,\n",
    "                           'q4': q4, 'q5': q5})"
   ]
  },
  {
   "cell_type": "code",
   "execution_count": 3,
   "metadata": {
    "execution": {
     "iopub.execute_input": "2020-10-12T10:42:30.731542Z",
     "iopub.status.busy": "2020-10-12T10:42:30.731542Z",
     "iopub.status.idle": "2020-10-12T10:42:30.945757Z",
     "shell.execute_reply": "2020-10-12T10:42:30.941239Z",
     "shell.execute_reply.started": "2020-10-12T10:42:30.731542Z"
    }
   },
   "outputs": [
    {
     "data": {
      "text/html": [
       "<div>\n",
       "<style scoped>\n",
       "    .dataframe tbody tr th:only-of-type {\n",
       "        vertical-align: middle;\n",
       "    }\n",
       "\n",
       "    .dataframe tbody tr th {\n",
       "        vertical-align: top;\n",
       "    }\n",
       "\n",
       "    .dataframe thead th {\n",
       "        text-align: right;\n",
       "    }\n",
       "</style>\n",
       "<table border=\"1\" class=\"dataframe\">\n",
       "  <thead>\n",
       "    <tr style=\"text-align: right;\">\n",
       "      <th></th>\n",
       "      <th>manager</th>\n",
       "      <th>date</th>\n",
       "      <th>country</th>\n",
       "      <th>gender</th>\n",
       "      <th>age</th>\n",
       "      <th>q1</th>\n",
       "      <th>q2</th>\n",
       "      <th>q3</th>\n",
       "      <th>q4</th>\n",
       "      <th>q5</th>\n",
       "    </tr>\n",
       "  </thead>\n",
       "  <tbody>\n",
       "    <tr>\n",
       "      <th>0</th>\n",
       "      <td>1</td>\n",
       "      <td>10/24/08</td>\n",
       "      <td>US</td>\n",
       "      <td>M</td>\n",
       "      <td>32</td>\n",
       "      <td>5</td>\n",
       "      <td>4</td>\n",
       "      <td>5</td>\n",
       "      <td>5.0</td>\n",
       "      <td>5.0</td>\n",
       "    </tr>\n",
       "    <tr>\n",
       "      <th>1</th>\n",
       "      <td>2</td>\n",
       "      <td>10/28/08</td>\n",
       "      <td>US</td>\n",
       "      <td>F</td>\n",
       "      <td>45</td>\n",
       "      <td>3</td>\n",
       "      <td>5</td>\n",
       "      <td>2</td>\n",
       "      <td>5.0</td>\n",
       "      <td>5.0</td>\n",
       "    </tr>\n",
       "    <tr>\n",
       "      <th>2</th>\n",
       "      <td>3</td>\n",
       "      <td>10/1/08</td>\n",
       "      <td>UK</td>\n",
       "      <td>F</td>\n",
       "      <td>25</td>\n",
       "      <td>3</td>\n",
       "      <td>5</td>\n",
       "      <td>5</td>\n",
       "      <td>5.0</td>\n",
       "      <td>2.0</td>\n",
       "    </tr>\n",
       "    <tr>\n",
       "      <th>3</th>\n",
       "      <td>4</td>\n",
       "      <td>10/12/08</td>\n",
       "      <td>UK</td>\n",
       "      <td>M</td>\n",
       "      <td>39</td>\n",
       "      <td>3</td>\n",
       "      <td>3</td>\n",
       "      <td>4</td>\n",
       "      <td>NaN</td>\n",
       "      <td>NaN</td>\n",
       "    </tr>\n",
       "    <tr>\n",
       "      <th>4</th>\n",
       "      <td>5</td>\n",
       "      <td>5/1/09</td>\n",
       "      <td>UK</td>\n",
       "      <td>F</td>\n",
       "      <td>99</td>\n",
       "      <td>2</td>\n",
       "      <td>2</td>\n",
       "      <td>1</td>\n",
       "      <td>2.0</td>\n",
       "      <td>1.0</td>\n",
       "    </tr>\n",
       "  </tbody>\n",
       "</table>\n",
       "</div>"
      ],
      "text/plain": [
       "   manager      date country gender  age  q1  q2  q3   q4   q5\n",
       "0        1  10/24/08      US      M   32   5   4   5  5.0  5.0\n",
       "1        2  10/28/08      US      F   45   3   5   2  5.0  5.0\n",
       "2        3   10/1/08      UK      F   25   3   5   5  5.0  2.0\n",
       "3        4  10/12/08      UK      M   39   3   3   4  NaN  NaN\n",
       "4        5    5/1/09      UK      F   99   2   2   1  2.0  1.0"
      ]
     },
     "execution_count": 3,
     "metadata": {},
     "output_type": "execute_result"
    }
   ],
   "source": [
    "leadership"
   ]
  },
  {
   "cell_type": "markdown",
   "metadata": {},
   "source": [
    "## 创建新变量"
   ]
  },
  {
   "cell_type": "markdown",
   "metadata": {},
   "source": [
    "**方法一：直接创建列**"
   ]
  },
  {
   "cell_type": "code",
   "execution_count": 4,
   "metadata": {
    "execution": {
     "iopub.execute_input": "2020-10-12T10:42:30.953757Z",
     "iopub.status.busy": "2020-10-12T10:42:30.953757Z",
     "iopub.status.idle": "2020-10-12T10:42:31.046640Z",
     "shell.execute_reply": "2020-10-12T10:42:31.046640Z",
     "shell.execute_reply.started": "2020-10-12T10:42:30.953757Z"
    }
   },
   "outputs": [
    {
     "data": {
      "text/html": [
       "<div>\n",
       "<style scoped>\n",
       "    .dataframe tbody tr th:only-of-type {\n",
       "        vertical-align: middle;\n",
       "    }\n",
       "\n",
       "    .dataframe tbody tr th {\n",
       "        vertical-align: top;\n",
       "    }\n",
       "\n",
       "    .dataframe thead th {\n",
       "        text-align: right;\n",
       "    }\n",
       "</style>\n",
       "<table border=\"1\" class=\"dataframe\">\n",
       "  <thead>\n",
       "    <tr style=\"text-align: right;\">\n",
       "      <th></th>\n",
       "      <th>manager</th>\n",
       "      <th>date</th>\n",
       "      <th>country</th>\n",
       "      <th>gender</th>\n",
       "      <th>age</th>\n",
       "      <th>q1</th>\n",
       "      <th>q2</th>\n",
       "      <th>q3</th>\n",
       "      <th>q4</th>\n",
       "      <th>q5</th>\n",
       "      <th>sumx</th>\n",
       "      <th>meanx</th>\n",
       "    </tr>\n",
       "  </thead>\n",
       "  <tbody>\n",
       "    <tr>\n",
       "      <th>0</th>\n",
       "      <td>1</td>\n",
       "      <td>10/24/08</td>\n",
       "      <td>US</td>\n",
       "      <td>M</td>\n",
       "      <td>32</td>\n",
       "      <td>5</td>\n",
       "      <td>4</td>\n",
       "      <td>5</td>\n",
       "      <td>5.0</td>\n",
       "      <td>5.0</td>\n",
       "      <td>9</td>\n",
       "      <td>4.5</td>\n",
       "    </tr>\n",
       "    <tr>\n",
       "      <th>1</th>\n",
       "      <td>2</td>\n",
       "      <td>10/28/08</td>\n",
       "      <td>US</td>\n",
       "      <td>F</td>\n",
       "      <td>45</td>\n",
       "      <td>3</td>\n",
       "      <td>5</td>\n",
       "      <td>2</td>\n",
       "      <td>5.0</td>\n",
       "      <td>5.0</td>\n",
       "      <td>8</td>\n",
       "      <td>4.0</td>\n",
       "    </tr>\n",
       "    <tr>\n",
       "      <th>2</th>\n",
       "      <td>3</td>\n",
       "      <td>10/1/08</td>\n",
       "      <td>UK</td>\n",
       "      <td>F</td>\n",
       "      <td>25</td>\n",
       "      <td>3</td>\n",
       "      <td>5</td>\n",
       "      <td>5</td>\n",
       "      <td>5.0</td>\n",
       "      <td>2.0</td>\n",
       "      <td>8</td>\n",
       "      <td>4.0</td>\n",
       "    </tr>\n",
       "    <tr>\n",
       "      <th>3</th>\n",
       "      <td>4</td>\n",
       "      <td>10/12/08</td>\n",
       "      <td>UK</td>\n",
       "      <td>M</td>\n",
       "      <td>39</td>\n",
       "      <td>3</td>\n",
       "      <td>3</td>\n",
       "      <td>4</td>\n",
       "      <td>NaN</td>\n",
       "      <td>NaN</td>\n",
       "      <td>6</td>\n",
       "      <td>3.0</td>\n",
       "    </tr>\n",
       "    <tr>\n",
       "      <th>4</th>\n",
       "      <td>5</td>\n",
       "      <td>5/1/09</td>\n",
       "      <td>UK</td>\n",
       "      <td>F</td>\n",
       "      <td>99</td>\n",
       "      <td>2</td>\n",
       "      <td>2</td>\n",
       "      <td>1</td>\n",
       "      <td>2.0</td>\n",
       "      <td>1.0</td>\n",
       "      <td>4</td>\n",
       "      <td>2.0</td>\n",
       "    </tr>\n",
       "  </tbody>\n",
       "</table>\n",
       "</div>"
      ],
      "text/plain": [
       "   manager      date country gender  age  q1  q2  q3   q4   q5  sumx  meanx\n",
       "0        1  10/24/08      US      M   32   5   4   5  5.0  5.0     9    4.5\n",
       "1        2  10/28/08      US      F   45   3   5   2  5.0  5.0     8    4.0\n",
       "2        3   10/1/08      UK      F   25   3   5   5  5.0  2.0     8    4.0\n",
       "3        4  10/12/08      UK      M   39   3   3   4  NaN  NaN     6    3.0\n",
       "4        5    5/1/09      UK      F   99   2   2   1  2.0  1.0     4    2.0"
      ]
     },
     "execution_count": 4,
     "metadata": {},
     "output_type": "execute_result"
    }
   ],
   "source": [
    "mydata = leadership.copy() # 复制一个一样的\n",
    "mydata['sumx'] = mydata.q1 + mydata.q2\n",
    "mydata['meanx'] = (mydata.q1 + mydata.q2) / 2\n",
    "mydata"
   ]
  },
  {
   "cell_type": "markdown",
   "metadata": {},
   "source": [
    "**方法二：使用assign**"
   ]
  },
  {
   "cell_type": "code",
   "execution_count": 5,
   "metadata": {
    "execution": {
     "iopub.execute_input": "2020-10-12T10:42:31.050637Z",
     "iopub.status.busy": "2020-10-12T10:42:31.050637Z",
     "iopub.status.idle": "2020-10-12T10:42:31.117341Z",
     "shell.execute_reply": "2020-10-12T10:42:31.114347Z",
     "shell.execute_reply.started": "2020-10-12T10:42:31.050637Z"
    }
   },
   "outputs": [
    {
     "data": {
      "text/html": [
       "<div>\n",
       "<style scoped>\n",
       "    .dataframe tbody tr th:only-of-type {\n",
       "        vertical-align: middle;\n",
       "    }\n",
       "\n",
       "    .dataframe tbody tr th {\n",
       "        vertical-align: top;\n",
       "    }\n",
       "\n",
       "    .dataframe thead th {\n",
       "        text-align: right;\n",
       "    }\n",
       "</style>\n",
       "<table border=\"1\" class=\"dataframe\">\n",
       "  <thead>\n",
       "    <tr style=\"text-align: right;\">\n",
       "      <th></th>\n",
       "      <th>manager</th>\n",
       "      <th>date</th>\n",
       "      <th>country</th>\n",
       "      <th>gender</th>\n",
       "      <th>age</th>\n",
       "      <th>q1</th>\n",
       "      <th>q2</th>\n",
       "      <th>q3</th>\n",
       "      <th>q4</th>\n",
       "      <th>q5</th>\n",
       "      <th>sumx</th>\n",
       "      <th>meanx</th>\n",
       "    </tr>\n",
       "  </thead>\n",
       "  <tbody>\n",
       "    <tr>\n",
       "      <th>0</th>\n",
       "      <td>1</td>\n",
       "      <td>10/24/08</td>\n",
       "      <td>US</td>\n",
       "      <td>M</td>\n",
       "      <td>32</td>\n",
       "      <td>5</td>\n",
       "      <td>4</td>\n",
       "      <td>5</td>\n",
       "      <td>5.0</td>\n",
       "      <td>5.0</td>\n",
       "      <td>9</td>\n",
       "      <td>4.5</td>\n",
       "    </tr>\n",
       "    <tr>\n",
       "      <th>1</th>\n",
       "      <td>2</td>\n",
       "      <td>10/28/08</td>\n",
       "      <td>US</td>\n",
       "      <td>F</td>\n",
       "      <td>45</td>\n",
       "      <td>3</td>\n",
       "      <td>5</td>\n",
       "      <td>2</td>\n",
       "      <td>5.0</td>\n",
       "      <td>5.0</td>\n",
       "      <td>8</td>\n",
       "      <td>4.0</td>\n",
       "    </tr>\n",
       "    <tr>\n",
       "      <th>2</th>\n",
       "      <td>3</td>\n",
       "      <td>10/1/08</td>\n",
       "      <td>UK</td>\n",
       "      <td>F</td>\n",
       "      <td>25</td>\n",
       "      <td>3</td>\n",
       "      <td>5</td>\n",
       "      <td>5</td>\n",
       "      <td>5.0</td>\n",
       "      <td>2.0</td>\n",
       "      <td>8</td>\n",
       "      <td>4.0</td>\n",
       "    </tr>\n",
       "    <tr>\n",
       "      <th>3</th>\n",
       "      <td>4</td>\n",
       "      <td>10/12/08</td>\n",
       "      <td>UK</td>\n",
       "      <td>M</td>\n",
       "      <td>39</td>\n",
       "      <td>3</td>\n",
       "      <td>3</td>\n",
       "      <td>4</td>\n",
       "      <td>NaN</td>\n",
       "      <td>NaN</td>\n",
       "      <td>6</td>\n",
       "      <td>3.0</td>\n",
       "    </tr>\n",
       "    <tr>\n",
       "      <th>4</th>\n",
       "      <td>5</td>\n",
       "      <td>5/1/09</td>\n",
       "      <td>UK</td>\n",
       "      <td>F</td>\n",
       "      <td>99</td>\n",
       "      <td>2</td>\n",
       "      <td>2</td>\n",
       "      <td>1</td>\n",
       "      <td>2.0</td>\n",
       "      <td>1.0</td>\n",
       "      <td>4</td>\n",
       "      <td>2.0</td>\n",
       "    </tr>\n",
       "  </tbody>\n",
       "</table>\n",
       "</div>"
      ],
      "text/plain": [
       "   manager      date country gender  age  q1  q2  q3   q4   q5  sumx  meanx\n",
       "0        1  10/24/08      US      M   32   5   4   5  5.0  5.0     9    4.5\n",
       "1        2  10/28/08      US      F   45   3   5   2  5.0  5.0     8    4.0\n",
       "2        3   10/1/08      UK      F   25   3   5   5  5.0  2.0     8    4.0\n",
       "3        4  10/12/08      UK      M   39   3   3   4  NaN  NaN     6    3.0\n",
       "4        5    5/1/09      UK      F   99   2   2   1  2.0  1.0     4    2.0"
      ]
     },
     "execution_count": 5,
     "metadata": {},
     "output_type": "execute_result"
    }
   ],
   "source": [
    "mydata.assign(sumx = mydata.q1 + mydata.q2,\n",
    "              meanx = (mydata.q1 + mydata.q2) / 2) # 非原地修改"
   ]
  },
  {
   "cell_type": "markdown",
   "metadata": {},
   "source": [
    "## 变量的重编码"
   ]
  },
  {
   "cell_type": "code",
   "execution_count": 6,
   "metadata": {
    "execution": {
     "iopub.execute_input": "2020-10-12T10:42:31.123550Z",
     "iopub.status.busy": "2020-10-12T10:42:31.122327Z",
     "iopub.status.idle": "2020-10-12T10:42:31.141218Z",
     "shell.execute_reply": "2020-10-12T10:42:31.137198Z",
     "shell.execute_reply.started": "2020-10-12T10:42:31.123550Z"
    }
   },
   "outputs": [],
   "source": [
    "# 将99岁的年龄值重编码为缺失值\n",
    "leadership.loc[leadership['age'] == 99, 'age'] = np.nan"
   ]
  },
  {
   "cell_type": "code",
   "execution_count": 7,
   "metadata": {
    "execution": {
     "iopub.execute_input": "2020-10-12T10:42:31.148198Z",
     "iopub.status.busy": "2020-10-12T10:42:31.146206Z",
     "iopub.status.idle": "2020-10-12T10:42:31.237397Z",
     "shell.execute_reply": "2020-10-12T10:42:31.237397Z",
     "shell.execute_reply.started": "2020-10-12T10:42:31.148198Z"
    }
   },
   "outputs": [
    {
     "data": {
      "text/html": [
       "<div>\n",
       "<style scoped>\n",
       "    .dataframe tbody tr th:only-of-type {\n",
       "        vertical-align: middle;\n",
       "    }\n",
       "\n",
       "    .dataframe tbody tr th {\n",
       "        vertical-align: top;\n",
       "    }\n",
       "\n",
       "    .dataframe thead th {\n",
       "        text-align: right;\n",
       "    }\n",
       "</style>\n",
       "<table border=\"1\" class=\"dataframe\">\n",
       "  <thead>\n",
       "    <tr style=\"text-align: right;\">\n",
       "      <th></th>\n",
       "      <th>manager</th>\n",
       "      <th>date</th>\n",
       "      <th>country</th>\n",
       "      <th>gender</th>\n",
       "      <th>age</th>\n",
       "      <th>q1</th>\n",
       "      <th>q2</th>\n",
       "      <th>q3</th>\n",
       "      <th>q4</th>\n",
       "      <th>q5</th>\n",
       "      <th>agecat</th>\n",
       "    </tr>\n",
       "  </thead>\n",
       "  <tbody>\n",
       "    <tr>\n",
       "      <th>0</th>\n",
       "      <td>1</td>\n",
       "      <td>10/24/08</td>\n",
       "      <td>US</td>\n",
       "      <td>M</td>\n",
       "      <td>32.0</td>\n",
       "      <td>5</td>\n",
       "      <td>4</td>\n",
       "      <td>5</td>\n",
       "      <td>5.0</td>\n",
       "      <td>5.0</td>\n",
       "      <td>Young</td>\n",
       "    </tr>\n",
       "    <tr>\n",
       "      <th>1</th>\n",
       "      <td>2</td>\n",
       "      <td>10/28/08</td>\n",
       "      <td>US</td>\n",
       "      <td>F</td>\n",
       "      <td>45.0</td>\n",
       "      <td>3</td>\n",
       "      <td>5</td>\n",
       "      <td>2</td>\n",
       "      <td>5.0</td>\n",
       "      <td>5.0</td>\n",
       "      <td>Young</td>\n",
       "    </tr>\n",
       "    <tr>\n",
       "      <th>2</th>\n",
       "      <td>3</td>\n",
       "      <td>10/1/08</td>\n",
       "      <td>UK</td>\n",
       "      <td>F</td>\n",
       "      <td>25.0</td>\n",
       "      <td>3</td>\n",
       "      <td>5</td>\n",
       "      <td>5</td>\n",
       "      <td>5.0</td>\n",
       "      <td>2.0</td>\n",
       "      <td>Young</td>\n",
       "    </tr>\n",
       "    <tr>\n",
       "      <th>3</th>\n",
       "      <td>4</td>\n",
       "      <td>10/12/08</td>\n",
       "      <td>UK</td>\n",
       "      <td>M</td>\n",
       "      <td>39.0</td>\n",
       "      <td>3</td>\n",
       "      <td>3</td>\n",
       "      <td>4</td>\n",
       "      <td>NaN</td>\n",
       "      <td>NaN</td>\n",
       "      <td>Young</td>\n",
       "    </tr>\n",
       "    <tr>\n",
       "      <th>4</th>\n",
       "      <td>5</td>\n",
       "      <td>5/1/09</td>\n",
       "      <td>UK</td>\n",
       "      <td>F</td>\n",
       "      <td>NaN</td>\n",
       "      <td>2</td>\n",
       "      <td>2</td>\n",
       "      <td>1</td>\n",
       "      <td>2.0</td>\n",
       "      <td>1.0</td>\n",
       "      <td>NaN</td>\n",
       "    </tr>\n",
       "  </tbody>\n",
       "</table>\n",
       "</div>"
      ],
      "text/plain": [
       "   manager      date country gender   age  q1  q2  q3   q4   q5 agecat\n",
       "0        1  10/24/08      US      M  32.0   5   4   5  5.0  5.0  Young\n",
       "1        2  10/28/08      US      F  45.0   3   5   2  5.0  5.0  Young\n",
       "2        3   10/1/08      UK      F  25.0   3   5   5  5.0  2.0  Young\n",
       "3        4  10/12/08      UK      M  39.0   3   3   4  NaN  NaN  Young\n",
       "4        5    5/1/09      UK      F   NaN   2   2   1  2.0  1.0    NaN"
      ]
     },
     "execution_count": 7,
     "metadata": {},
     "output_type": "execute_result"
    }
   ],
   "source": [
    "leadership.loc[leadership.age > 75, 'agecat'] = \"Elder\"\n",
    "leadership.loc[(leadership.age >= 55) & (leadership.age <= 75), 'agecat'] = \"Middle Aged\"\n",
    "leadership.loc[leadership.age < 55, 'agecat'] = \"Young\"\n",
    "leadership"
   ]
  },
  {
   "cell_type": "markdown",
   "metadata": {},
   "source": [
    "**或使用如下方式**"
   ]
  },
  {
   "cell_type": "code",
   "execution_count": 8,
   "metadata": {
    "execution": {
     "iopub.execute_input": "2020-10-12T10:42:31.253397Z",
     "iopub.status.busy": "2020-10-12T10:42:31.253397Z",
     "iopub.status.idle": "2020-10-12T10:42:31.276612Z",
     "shell.execute_reply": "2020-10-12T10:42:31.273620Z",
     "shell.execute_reply.started": "2020-10-12T10:42:31.253397Z"
    }
   },
   "outputs": [],
   "source": [
    "def recode(x):\n",
    "    if x > 75:\n",
    "        code = \"Elder\"\n",
    "    elif 55 <= x <= 75:\n",
    "        code = \"Middle Aged\"\n",
    "    elif x < 55:\n",
    "        code = \"Young\"\n",
    "    else:\n",
    "        code = x\n",
    "    return code\n",
    "\n",
    "leadership['agecat'] = leadership.age.map(recode)"
   ]
  },
  {
   "cell_type": "markdown",
   "metadata": {},
   "source": [
    "## 变量的重命名"
   ]
  },
  {
   "cell_type": "markdown",
   "metadata": {},
   "source": [
    "**方法一：直接为数据框的columns属性赋新值，但要保证长度一致**"
   ]
  },
  {
   "cell_type": "code",
   "execution_count": 9,
   "metadata": {
    "execution": {
     "iopub.execute_input": "2020-10-12T10:42:31.284591Z",
     "iopub.status.busy": "2020-10-12T10:42:31.282596Z",
     "iopub.status.idle": "2020-10-12T10:42:31.296833Z",
     "shell.execute_reply": "2020-10-12T10:42:31.293322Z",
     "shell.execute_reply.started": "2020-10-12T10:42:31.284591Z"
    }
   },
   "outputs": [],
   "source": [
    "# leadership.columns = list(range(12))"
   ]
  },
  {
   "cell_type": "markdown",
   "metadata": {
    "execution": {
     "iopub.execute_input": "2020-10-11T11:28:20.551428Z",
     "iopub.status.busy": "2020-10-11T11:28:20.547422Z",
     "iopub.status.idle": "2020-10-11T11:28:20.969464Z",
     "shell.execute_reply": "2020-10-11T11:28:20.965375Z",
     "shell.execute_reply.started": "2020-10-11T11:28:20.551428Z"
    }
   },
   "source": [
    "**方法二：使用rename方法**"
   ]
  },
  {
   "cell_type": "code",
   "execution_count": 10,
   "metadata": {
    "execution": {
     "iopub.execute_input": "2020-10-12T10:42:31.304819Z",
     "iopub.status.busy": "2020-10-12T10:42:31.302824Z",
     "iopub.status.idle": "2020-10-12T10:42:31.386568Z",
     "shell.execute_reply": "2020-10-12T10:42:31.383501Z",
     "shell.execute_reply.started": "2020-10-12T10:42:31.303813Z"
    }
   },
   "outputs": [
    {
     "data": {
      "text/html": [
       "<div>\n",
       "<style scoped>\n",
       "    .dataframe tbody tr th:only-of-type {\n",
       "        vertical-align: middle;\n",
       "    }\n",
       "\n",
       "    .dataframe tbody tr th {\n",
       "        vertical-align: top;\n",
       "    }\n",
       "\n",
       "    .dataframe thead th {\n",
       "        text-align: right;\n",
       "    }\n",
       "</style>\n",
       "<table border=\"1\" class=\"dataframe\">\n",
       "  <thead>\n",
       "    <tr style=\"text-align: right;\">\n",
       "      <th></th>\n",
       "      <th>managerID</th>\n",
       "      <th>testDate</th>\n",
       "      <th>country</th>\n",
       "      <th>gender</th>\n",
       "      <th>age</th>\n",
       "      <th>q1</th>\n",
       "      <th>q2</th>\n",
       "      <th>q3</th>\n",
       "      <th>q4</th>\n",
       "      <th>q5</th>\n",
       "      <th>agecat</th>\n",
       "    </tr>\n",
       "  </thead>\n",
       "  <tbody>\n",
       "    <tr>\n",
       "      <th>0</th>\n",
       "      <td>1</td>\n",
       "      <td>10/24/08</td>\n",
       "      <td>US</td>\n",
       "      <td>M</td>\n",
       "      <td>32.0</td>\n",
       "      <td>5</td>\n",
       "      <td>4</td>\n",
       "      <td>5</td>\n",
       "      <td>5.0</td>\n",
       "      <td>5.0</td>\n",
       "      <td>Young</td>\n",
       "    </tr>\n",
       "    <tr>\n",
       "      <th>1</th>\n",
       "      <td>2</td>\n",
       "      <td>10/28/08</td>\n",
       "      <td>US</td>\n",
       "      <td>F</td>\n",
       "      <td>45.0</td>\n",
       "      <td>3</td>\n",
       "      <td>5</td>\n",
       "      <td>2</td>\n",
       "      <td>5.0</td>\n",
       "      <td>5.0</td>\n",
       "      <td>Young</td>\n",
       "    </tr>\n",
       "    <tr>\n",
       "      <th>2</th>\n",
       "      <td>3</td>\n",
       "      <td>10/1/08</td>\n",
       "      <td>UK</td>\n",
       "      <td>F</td>\n",
       "      <td>25.0</td>\n",
       "      <td>3</td>\n",
       "      <td>5</td>\n",
       "      <td>5</td>\n",
       "      <td>5.0</td>\n",
       "      <td>2.0</td>\n",
       "      <td>Young</td>\n",
       "    </tr>\n",
       "    <tr>\n",
       "      <th>3</th>\n",
       "      <td>4</td>\n",
       "      <td>10/12/08</td>\n",
       "      <td>UK</td>\n",
       "      <td>M</td>\n",
       "      <td>39.0</td>\n",
       "      <td>3</td>\n",
       "      <td>3</td>\n",
       "      <td>4</td>\n",
       "      <td>NaN</td>\n",
       "      <td>NaN</td>\n",
       "      <td>Young</td>\n",
       "    </tr>\n",
       "    <tr>\n",
       "      <th>4</th>\n",
       "      <td>5</td>\n",
       "      <td>5/1/09</td>\n",
       "      <td>UK</td>\n",
       "      <td>F</td>\n",
       "      <td>NaN</td>\n",
       "      <td>2</td>\n",
       "      <td>2</td>\n",
       "      <td>1</td>\n",
       "      <td>2.0</td>\n",
       "      <td>1.0</td>\n",
       "      <td>NaN</td>\n",
       "    </tr>\n",
       "  </tbody>\n",
       "</table>\n",
       "</div>"
      ],
      "text/plain": [
       "   managerID  testDate country gender   age  q1  q2  q3   q4   q5 agecat\n",
       "0          1  10/24/08      US      M  32.0   5   4   5  5.0  5.0  Young\n",
       "1          2  10/28/08      US      F  45.0   3   5   2  5.0  5.0  Young\n",
       "2          3   10/1/08      UK      F  25.0   3   5   5  5.0  2.0  Young\n",
       "3          4  10/12/08      UK      M  39.0   3   3   4  NaN  NaN  Young\n",
       "4          5    5/1/09      UK      F   NaN   2   2   1  2.0  1.0    NaN"
      ]
     },
     "execution_count": 10,
     "metadata": {},
     "output_type": "execute_result"
    }
   ],
   "source": [
    "leadership.rename(columns={'date':'testDate',\n",
    "                           'manager':'managerID'}) # 非原地操作"
   ]
  },
  {
   "cell_type": "markdown",
   "metadata": {},
   "source": [
    "## 缺失值"
   ]
  },
  {
   "cell_type": "code",
   "execution_count": 11,
   "metadata": {
    "execution": {
     "iopub.execute_input": "2020-10-12T10:42:31.394557Z",
     "iopub.status.busy": "2020-10-12T10:42:31.390556Z",
     "iopub.status.idle": "2020-10-12T10:42:31.420033Z",
     "shell.execute_reply": "2020-10-12T10:42:31.416039Z",
     "shell.execute_reply.started": "2020-10-12T10:42:31.394557Z"
    }
   },
   "outputs": [
    {
     "data": {
      "text/plain": [
       "array([False, False, False,  True])"
      ]
     },
     "execution_count": 11,
     "metadata": {},
     "output_type": "execute_result"
    }
   ],
   "source": [
    "pd.isna([1, 2, 3, np.nan])"
   ]
  },
  {
   "cell_type": "code",
   "execution_count": 12,
   "metadata": {
    "execution": {
     "iopub.execute_input": "2020-10-12T10:42:31.426012Z",
     "iopub.status.busy": "2020-10-12T10:42:31.424017Z",
     "iopub.status.idle": "2020-10-12T10:42:31.489791Z",
     "shell.execute_reply": "2020-10-12T10:42:31.485803Z",
     "shell.execute_reply.started": "2020-10-12T10:42:31.426012Z"
    }
   },
   "outputs": [
    {
     "data": {
      "text/html": [
       "<div>\n",
       "<style scoped>\n",
       "    .dataframe tbody tr th:only-of-type {\n",
       "        vertical-align: middle;\n",
       "    }\n",
       "\n",
       "    .dataframe tbody tr th {\n",
       "        vertical-align: top;\n",
       "    }\n",
       "\n",
       "    .dataframe thead th {\n",
       "        text-align: right;\n",
       "    }\n",
       "</style>\n",
       "<table border=\"1\" class=\"dataframe\">\n",
       "  <thead>\n",
       "    <tr style=\"text-align: right;\">\n",
       "      <th></th>\n",
       "      <th>q1</th>\n",
       "      <th>q2</th>\n",
       "      <th>q3</th>\n",
       "      <th>q4</th>\n",
       "      <th>q5</th>\n",
       "    </tr>\n",
       "  </thead>\n",
       "  <tbody>\n",
       "    <tr>\n",
       "      <th>0</th>\n",
       "      <td>False</td>\n",
       "      <td>False</td>\n",
       "      <td>False</td>\n",
       "      <td>False</td>\n",
       "      <td>False</td>\n",
       "    </tr>\n",
       "    <tr>\n",
       "      <th>1</th>\n",
       "      <td>False</td>\n",
       "      <td>False</td>\n",
       "      <td>False</td>\n",
       "      <td>False</td>\n",
       "      <td>False</td>\n",
       "    </tr>\n",
       "    <tr>\n",
       "      <th>2</th>\n",
       "      <td>False</td>\n",
       "      <td>False</td>\n",
       "      <td>False</td>\n",
       "      <td>False</td>\n",
       "      <td>False</td>\n",
       "    </tr>\n",
       "    <tr>\n",
       "      <th>3</th>\n",
       "      <td>False</td>\n",
       "      <td>False</td>\n",
       "      <td>False</td>\n",
       "      <td>True</td>\n",
       "      <td>True</td>\n",
       "    </tr>\n",
       "    <tr>\n",
       "      <th>4</th>\n",
       "      <td>False</td>\n",
       "      <td>False</td>\n",
       "      <td>False</td>\n",
       "      <td>False</td>\n",
       "      <td>False</td>\n",
       "    </tr>\n",
       "  </tbody>\n",
       "</table>\n",
       "</div>"
      ],
      "text/plain": [
       "      q1     q2     q3     q4     q5\n",
       "0  False  False  False  False  False\n",
       "1  False  False  False  False  False\n",
       "2  False  False  False  False  False\n",
       "3  False  False  False   True   True\n",
       "4  False  False  False  False  False"
      ]
     },
     "execution_count": 12,
     "metadata": {},
     "output_type": "execute_result"
    }
   ],
   "source": [
    "pd.isna(leadership.iloc[:,5:10])"
   ]
  },
  {
   "cell_type": "code",
   "execution_count": 13,
   "metadata": {
    "execution": {
     "iopub.execute_input": "2020-10-12T10:42:31.495119Z",
     "iopub.status.busy": "2020-10-12T10:42:31.494121Z",
     "iopub.status.idle": "2020-10-12T10:42:31.514722Z",
     "shell.execute_reply": "2020-10-12T10:42:31.510731Z",
     "shell.execute_reply.started": "2020-10-12T10:42:31.495119Z"
    }
   },
   "outputs": [
    {
     "data": {
      "text/plain": [
       "False"
      ]
     },
     "execution_count": 13,
     "metadata": {},
     "output_type": "execute_result"
    }
   ],
   "source": [
    "## 注意：缺失值不可比较\n",
    "np.nan == np.nan"
   ]
  },
  {
   "cell_type": "markdown",
   "metadata": {},
   "source": [
    "### 重编码某些值位缺失值"
   ]
  },
  {
   "cell_type": "code",
   "execution_count": 14,
   "metadata": {
    "execution": {
     "iopub.execute_input": "2020-10-12T10:42:31.520705Z",
     "iopub.status.busy": "2020-10-12T10:42:31.519712Z",
     "iopub.status.idle": "2020-10-12T10:42:31.543835Z",
     "shell.execute_reply": "2020-10-12T10:42:31.537529Z",
     "shell.execute_reply.started": "2020-10-12T10:42:31.520705Z"
    }
   },
   "outputs": [],
   "source": [
    "leadership.loc[leadership['age'] == 99, 'age'] = np.nan"
   ]
  },
  {
   "cell_type": "markdown",
   "metadata": {},
   "source": [
    "### 在分析中排除缺失值（非原地操作）"
   ]
  },
  {
   "cell_type": "code",
   "execution_count": 15,
   "metadata": {
    "execution": {
     "iopub.execute_input": "2020-10-12T10:42:31.555934Z",
     "iopub.status.busy": "2020-10-12T10:42:31.550492Z",
     "iopub.status.idle": "2020-10-12T10:42:31.669362Z",
     "shell.execute_reply": "2020-10-12T10:42:31.665364Z",
     "shell.execute_reply.started": "2020-10-12T10:42:31.555934Z"
    }
   },
   "outputs": [
    {
     "data": {
      "text/html": [
       "<div>\n",
       "<style scoped>\n",
       "    .dataframe tbody tr th:only-of-type {\n",
       "        vertical-align: middle;\n",
       "    }\n",
       "\n",
       "    .dataframe tbody tr th {\n",
       "        vertical-align: top;\n",
       "    }\n",
       "\n",
       "    .dataframe thead th {\n",
       "        text-align: right;\n",
       "    }\n",
       "</style>\n",
       "<table border=\"1\" class=\"dataframe\">\n",
       "  <thead>\n",
       "    <tr style=\"text-align: right;\">\n",
       "      <th></th>\n",
       "      <th>manager</th>\n",
       "      <th>date</th>\n",
       "      <th>country</th>\n",
       "      <th>gender</th>\n",
       "      <th>age</th>\n",
       "      <th>q1</th>\n",
       "      <th>q2</th>\n",
       "      <th>q3</th>\n",
       "      <th>q4</th>\n",
       "      <th>q5</th>\n",
       "      <th>agecat</th>\n",
       "    </tr>\n",
       "  </thead>\n",
       "  <tbody>\n",
       "    <tr>\n",
       "      <th>0</th>\n",
       "      <td>1</td>\n",
       "      <td>10/24/08</td>\n",
       "      <td>US</td>\n",
       "      <td>M</td>\n",
       "      <td>32.0</td>\n",
       "      <td>5</td>\n",
       "      <td>4</td>\n",
       "      <td>5</td>\n",
       "      <td>5.0</td>\n",
       "      <td>5.0</td>\n",
       "      <td>Young</td>\n",
       "    </tr>\n",
       "    <tr>\n",
       "      <th>1</th>\n",
       "      <td>2</td>\n",
       "      <td>10/28/08</td>\n",
       "      <td>US</td>\n",
       "      <td>F</td>\n",
       "      <td>45.0</td>\n",
       "      <td>3</td>\n",
       "      <td>5</td>\n",
       "      <td>2</td>\n",
       "      <td>5.0</td>\n",
       "      <td>5.0</td>\n",
       "      <td>Young</td>\n",
       "    </tr>\n",
       "    <tr>\n",
       "      <th>2</th>\n",
       "      <td>3</td>\n",
       "      <td>10/1/08</td>\n",
       "      <td>UK</td>\n",
       "      <td>F</td>\n",
       "      <td>25.0</td>\n",
       "      <td>3</td>\n",
       "      <td>5</td>\n",
       "      <td>5</td>\n",
       "      <td>5.0</td>\n",
       "      <td>2.0</td>\n",
       "      <td>Young</td>\n",
       "    </tr>\n",
       "    <tr>\n",
       "      <th>3</th>\n",
       "      <td>4</td>\n",
       "      <td>10/12/08</td>\n",
       "      <td>UK</td>\n",
       "      <td>M</td>\n",
       "      <td>39.0</td>\n",
       "      <td>3</td>\n",
       "      <td>3</td>\n",
       "      <td>4</td>\n",
       "      <td>NaN</td>\n",
       "      <td>NaN</td>\n",
       "      <td>Young</td>\n",
       "    </tr>\n",
       "    <tr>\n",
       "      <th>4</th>\n",
       "      <td>5</td>\n",
       "      <td>5/1/09</td>\n",
       "      <td>UK</td>\n",
       "      <td>F</td>\n",
       "      <td>NaN</td>\n",
       "      <td>2</td>\n",
       "      <td>2</td>\n",
       "      <td>1</td>\n",
       "      <td>2.0</td>\n",
       "      <td>1.0</td>\n",
       "      <td>NaN</td>\n",
       "    </tr>\n",
       "  </tbody>\n",
       "</table>\n",
       "</div>"
      ],
      "text/plain": [
       "   manager      date country gender   age  q1  q2  q3   q4   q5 agecat\n",
       "0        1  10/24/08      US      M  32.0   5   4   5  5.0  5.0  Young\n",
       "1        2  10/28/08      US      F  45.0   3   5   2  5.0  5.0  Young\n",
       "2        3   10/1/08      UK      F  25.0   3   5   5  5.0  2.0  Young\n",
       "3        4  10/12/08      UK      M  39.0   3   3   4  NaN  NaN  Young\n",
       "4        5    5/1/09      UK      F   NaN   2   2   1  2.0  1.0    NaN"
      ]
     },
     "execution_count": 15,
     "metadata": {},
     "output_type": "execute_result"
    }
   ],
   "source": [
    "leadership.dropna(axis=0, how='any') # 删除任意含有缺失值的行\n",
    "leadership.dropna(axis=1, how='all') # 删除全部为缺失值的列"
   ]
  },
  {
   "cell_type": "markdown",
   "metadata": {},
   "source": [
    "## 日期值"
   ]
  },
  {
   "cell_type": "code",
   "execution_count": 16,
   "metadata": {
    "execution": {
     "iopub.execute_input": "2020-10-12T10:42:31.674762Z",
     "iopub.status.busy": "2020-10-12T10:42:31.673411Z",
     "iopub.status.idle": "2020-10-12T10:42:31.736775Z",
     "shell.execute_reply": "2020-10-12T10:42:31.732772Z",
     "shell.execute_reply.started": "2020-10-12T10:42:31.674762Z"
    }
   },
   "outputs": [
    {
     "data": {
      "text/plain": [
       "DatetimeIndex(['2000-08-08', '2020-10-11'], dtype='datetime64[ns]', freq=None)"
      ]
     },
     "execution_count": 16,
     "metadata": {},
     "output_type": "execute_result"
    }
   ],
   "source": [
    "# 转化为日期\n",
    "pd.to_datetime(['2000-08-08', '2020-10-11'])"
   ]
  },
  {
   "cell_type": "code",
   "execution_count": 17,
   "metadata": {
    "execution": {
     "iopub.execute_input": "2020-10-12T10:42:31.745998Z",
     "iopub.status.busy": "2020-10-12T10:42:31.743019Z",
     "iopub.status.idle": "2020-10-12T10:42:31.803116Z",
     "shell.execute_reply": "2020-10-12T10:42:31.803116Z",
     "shell.execute_reply.started": "2020-10-12T10:42:31.745998Z"
    }
   },
   "outputs": [
    {
     "data": {
      "text/plain": [
       "DatetimeIndex(['1997-01-05', '2018-05-07'], dtype='datetime64[ns]', freq=None)"
      ]
     },
     "execution_count": 17,
     "metadata": {},
     "output_type": "execute_result"
    }
   ],
   "source": [
    "# 自定义传入格式\n",
    "str_dates = ['01/05/1997', '05/07/2018']\n",
    "pd.to_datetime(str_dates, format='%m/%d/%Y') # 以mm/dd/yyyy的格式读取"
   ]
  },
  {
   "cell_type": "code",
   "execution_count": 18,
   "metadata": {
    "execution": {
     "iopub.execute_input": "2020-10-12T10:42:31.811070Z",
     "iopub.status.busy": "2020-10-12T10:42:31.807069Z",
     "iopub.status.idle": "2020-10-12T10:42:31.863833Z",
     "shell.execute_reply": "2020-10-12T10:42:31.860259Z",
     "shell.execute_reply.started": "2020-10-12T10:42:31.811070Z"
    }
   },
   "outputs": [
    {
     "data": {
      "text/plain": [
       "0   2008-10-24\n",
       "1   2008-10-28\n",
       "2   2008-10-01\n",
       "3   2008-10-12\n",
       "4   2009-05-01\n",
       "Name: date, dtype: datetime64[ns]"
      ]
     },
     "execution_count": 18,
     "metadata": {},
     "output_type": "execute_result"
    }
   ],
   "source": [
    "leadership['date'] = pd.to_datetime(leadership.date, format='%m/%d/%y') # 以mm/dd/yy的格式读取\n",
    "leadership.date"
   ]
  },
  {
   "cell_type": "code",
   "execution_count": 19,
   "metadata": {
    "execution": {
     "iopub.execute_input": "2020-10-12T10:42:31.867835Z",
     "iopub.status.busy": "2020-10-12T10:42:31.867835Z",
     "iopub.status.idle": "2020-10-12T10:42:31.895565Z",
     "shell.execute_reply": "2020-10-12T10:42:31.891572Z",
     "shell.execute_reply.started": "2020-10-12T10:42:31.867835Z"
    }
   },
   "outputs": [
    {
     "data": {
      "text/plain": [
       "datetime.datetime(2020, 10, 12, 18, 42, 31, 875835)"
      ]
     },
     "execution_count": 19,
     "metadata": {},
     "output_type": "execute_result"
    }
   ],
   "source": [
    "from datetime import datetime\n",
    "# 获取当前时刻信息\n",
    "now = datetime.now()\n",
    "now"
   ]
  },
  {
   "cell_type": "code",
   "execution_count": 20,
   "metadata": {
    "execution": {
     "iopub.execute_input": "2020-10-12T10:42:31.901551Z",
     "iopub.status.busy": "2020-10-12T10:42:31.899557Z",
     "iopub.status.idle": "2020-10-12T10:42:31.926163Z",
     "shell.execute_reply": "2020-10-12T10:42:31.922170Z",
     "shell.execute_reply.started": "2020-10-12T10:42:31.901551Z"
    }
   },
   "outputs": [
    {
     "data": {
      "text/plain": [
       "(2020, 10, 12)"
      ]
     },
     "execution_count": 20,
     "metadata": {},
     "output_type": "execute_result"
    }
   ],
   "source": [
    "now.year, now.month, now.day"
   ]
  },
  {
   "cell_type": "code",
   "execution_count": 21,
   "metadata": {
    "execution": {
     "iopub.execute_input": "2020-10-12T10:42:31.934143Z",
     "iopub.status.busy": "2020-10-12T10:42:31.932146Z",
     "iopub.status.idle": "2020-10-12T10:42:31.950801Z",
     "shell.execute_reply": "2020-10-12T10:42:31.946815Z",
     "shell.execute_reply.started": "2020-10-12T10:42:31.934143Z"
    }
   },
   "outputs": [
    {
     "data": {
      "text/plain": [
       "0"
      ]
     },
     "execution_count": 21,
     "metadata": {},
     "output_type": "execute_result"
    }
   ],
   "source": [
    "now.weekday() # Monday=0，Sunday=6"
   ]
  },
  {
   "cell_type": "code",
   "execution_count": 22,
   "metadata": {
    "execution": {
     "iopub.execute_input": "2020-10-12T10:42:31.958782Z",
     "iopub.status.busy": "2020-10-12T10:42:31.956785Z",
     "iopub.status.idle": "2020-10-12T10:42:31.979212Z",
     "shell.execute_reply": "2020-10-12T10:42:31.975226Z",
     "shell.execute_reply.started": "2020-10-12T10:42:31.958782Z"
    }
   },
   "outputs": [
    {
     "data": {
      "text/plain": [
       "'October 12 2020'"
      ]
     },
     "execution_count": 22,
     "metadata": {},
     "output_type": "execute_result"
    }
   ],
   "source": [
    "# 解析为字符串\n",
    "now.strftime('%B %d %Y')"
   ]
  },
  {
   "cell_type": "code",
   "execution_count": 23,
   "metadata": {
    "execution": {
     "iopub.execute_input": "2020-10-12T10:42:31.995695Z",
     "iopub.status.busy": "2020-10-12T10:42:31.995695Z",
     "iopub.status.idle": "2020-10-12T10:42:32.019425Z",
     "shell.execute_reply": "2020-10-12T10:42:32.014436Z",
     "shell.execute_reply.started": "2020-10-12T10:42:31.995695Z"
    }
   },
   "outputs": [
    {
     "data": {
      "text/plain": [
       "'Monday'"
      ]
     },
     "execution_count": 23,
     "metadata": {},
     "output_type": "execute_result"
    }
   ],
   "source": [
    "now.strftime('%A')"
   ]
  },
  {
   "cell_type": "code",
   "execution_count": 24,
   "metadata": {
    "execution": {
     "iopub.execute_input": "2020-10-12T10:42:32.035382Z",
     "iopub.status.busy": "2020-10-12T10:42:32.033764Z",
     "iopub.status.idle": "2020-10-12T10:42:32.099566Z",
     "shell.execute_reply": "2020-10-12T10:42:32.094580Z",
     "shell.execute_reply.started": "2020-10-12T10:42:32.035382Z"
    }
   },
   "outputs": [
    {
     "data": {
      "text/plain": [
       "Timedelta('7370 days 18:42:32.040633')"
      ]
     },
     "execution_count": 24,
     "metadata": {},
     "output_type": "execute_result"
    }
   ],
   "source": [
    "# 计算时间差\n",
    "startdate = pd.to_datetime(\"2000-08-08\")\n",
    "enddate = datetime.now()\n",
    "days = enddate - startdate\n",
    "days"
   ]
  },
  {
   "cell_type": "code",
   "execution_count": 25,
   "metadata": {
    "execution": {
     "iopub.execute_input": "2020-10-12T10:42:32.106548Z",
     "iopub.status.busy": "2020-10-12T10:42:32.104555Z",
     "iopub.status.idle": "2020-10-12T10:42:32.128090Z",
     "shell.execute_reply": "2020-10-12T10:42:32.123303Z",
     "shell.execute_reply.started": "2020-10-12T10:42:32.106548Z"
    }
   },
   "outputs": [
    {
     "data": {
      "text/plain": [
       "7370"
      ]
     },
     "execution_count": 25,
     "metadata": {},
     "output_type": "execute_result"
    }
   ],
   "source": [
    "days.days"
   ]
  },
  {
   "cell_type": "code",
   "execution_count": 26,
   "metadata": {
    "execution": {
     "iopub.execute_input": "2020-10-12T10:42:32.138163Z",
     "iopub.status.busy": "2020-10-12T10:42:32.136068Z",
     "iopub.status.idle": "2020-10-12T10:42:32.161133Z",
     "shell.execute_reply": "2020-10-12T10:42:32.157144Z",
     "shell.execute_reply.started": "2020-10-12T10:42:32.138163Z"
    }
   },
   "outputs": [
    {
     "data": {
      "text/plain": [
       "67352"
      ]
     },
     "execution_count": 26,
     "metadata": {},
     "output_type": "execute_result"
    }
   ],
   "source": [
    "days.seconds"
   ]
  },
  {
   "cell_type": "markdown",
   "metadata": {},
   "source": [
    "### 将日期转换为字符型变量"
   ]
  },
  {
   "cell_type": "code",
   "execution_count": 27,
   "metadata": {
    "execution": {
     "iopub.execute_input": "2020-10-12T10:42:32.169113Z",
     "iopub.status.busy": "2020-10-12T10:42:32.167118Z",
     "iopub.status.idle": "2020-10-12T10:42:32.193407Z",
     "shell.execute_reply": "2020-10-12T10:42:32.189419Z",
     "shell.execute_reply.started": "2020-10-12T10:42:32.169113Z"
    }
   },
   "outputs": [
    {
     "data": {
      "text/plain": [
       "'7370 days 18:42:32.040633'"
      ]
     },
     "execution_count": 27,
     "metadata": {},
     "output_type": "execute_result"
    }
   ],
   "source": [
    "str(days)"
   ]
  },
  {
   "cell_type": "code",
   "execution_count": 28,
   "metadata": {
    "execution": {
     "iopub.execute_input": "2020-10-12T10:42:32.202385Z",
     "iopub.status.busy": "2020-10-12T10:42:32.199398Z",
     "iopub.status.idle": "2020-10-12T10:42:32.224333Z",
     "shell.execute_reply": "2020-10-12T10:42:32.220345Z",
     "shell.execute_reply.started": "2020-10-12T10:42:32.201387Z"
    }
   },
   "outputs": [
    {
     "data": {
      "text/plain": [
       "'2020-10-11'"
      ]
     },
     "execution_count": 28,
     "metadata": {},
     "output_type": "execute_result"
    }
   ],
   "source": [
    "stamp = datetime(2020, 10, 11)\n",
    "stamp.strftime('%Y-%m-%d')"
   ]
  },
  {
   "cell_type": "markdown",
   "metadata": {
    "execution": {
     "iopub.execute_input": "2020-10-11T12:24:55.882822Z",
     "iopub.status.busy": "2020-10-11T12:24:55.880816Z",
     "iopub.status.idle": "2020-10-11T12:24:55.895775Z",
     "shell.execute_reply": "2020-10-11T12:24:55.891788Z",
     "shell.execute_reply.started": "2020-10-11T12:24:55.881814Z"
    }
   },
   "source": [
    "## 类型转换"
   ]
  },
  {
   "cell_type": "code",
   "execution_count": 29,
   "metadata": {
    "execution": {
     "iopub.execute_input": "2020-10-12T10:42:32.230319Z",
     "iopub.status.busy": "2020-10-12T10:42:32.229326Z",
     "iopub.status.idle": "2020-10-12T10:42:32.257295Z",
     "shell.execute_reply": "2020-10-12T10:42:32.252203Z",
     "shell.execute_reply.started": "2020-10-12T10:42:32.230319Z"
    }
   },
   "outputs": [
    {
     "data": {
      "text/plain": [
       "dtype('O')"
      ]
     },
     "execution_count": 29,
     "metadata": {},
     "output_type": "execute_result"
    }
   ],
   "source": [
    "# 查看series数据类型\n",
    "leadership.country.dtype"
   ]
  },
  {
   "cell_type": "code",
   "execution_count": 30,
   "metadata": {
    "execution": {
     "iopub.execute_input": "2020-10-12T10:42:32.265297Z",
     "iopub.status.busy": "2020-10-12T10:42:32.265297Z",
     "iopub.status.idle": "2020-10-12T10:42:32.292293Z",
     "shell.execute_reply": "2020-10-12T10:42:32.292293Z",
     "shell.execute_reply.started": "2020-10-12T10:42:32.265297Z"
    }
   },
   "outputs": [
    {
     "data": {
      "text/plain": [
       "0    US\n",
       "1    US\n",
       "2    UK\n",
       "3    UK\n",
       "4    UK\n",
       "Name: country, dtype: object"
      ]
     },
     "execution_count": 30,
     "metadata": {},
     "output_type": "execute_result"
    }
   ],
   "source": [
    "# 转换series数据类型\n",
    "leadership.country.astype(str)"
   ]
  },
  {
   "cell_type": "code",
   "execution_count": 31,
   "metadata": {
    "execution": {
     "iopub.execute_input": "2020-10-12T10:42:32.303164Z",
     "iopub.status.busy": "2020-10-12T10:42:32.300157Z",
     "iopub.status.idle": "2020-10-12T10:42:32.332008Z",
     "shell.execute_reply": "2020-10-12T10:42:32.327016Z",
     "shell.execute_reply.started": "2020-10-12T10:42:32.300157Z"
    }
   },
   "outputs": [
    {
     "data": {
      "text/plain": [
       "manager             int64\n",
       "date       datetime64[ns]\n",
       "country            object\n",
       "gender             object\n",
       "age               float64\n",
       "q1                  int64\n",
       "q2                  int64\n",
       "q3                  int64\n",
       "q4                float64\n",
       "q5                float64\n",
       "agecat             object\n",
       "dtype: object"
      ]
     },
     "execution_count": 31,
     "metadata": {},
     "output_type": "execute_result"
    }
   ],
   "source": [
    "# 查看数据框数据类型\n",
    "leadership.dtypes"
   ]
  },
  {
   "cell_type": "code",
   "execution_count": 32,
   "metadata": {
    "execution": {
     "iopub.execute_input": "2020-10-12T10:42:32.337992Z",
     "iopub.status.busy": "2020-10-12T10:42:32.336991Z",
     "iopub.status.idle": "2020-10-12T10:42:32.386145Z",
     "shell.execute_reply": "2020-10-12T10:42:32.381939Z",
     "shell.execute_reply.started": "2020-10-12T10:42:32.337992Z"
    }
   },
   "outputs": [
    {
     "data": {
      "text/plain": [
       "manager             int32\n",
       "date       datetime64[ns]\n",
       "country            object\n",
       "gender             object\n",
       "age               float64\n",
       "q1                  int64\n",
       "q2                  int64\n",
       "q3                  int64\n",
       "q4                float64\n",
       "q5                float64\n",
       "agecat             object\n",
       "dtype: object"
      ]
     },
     "execution_count": 32,
     "metadata": {},
     "output_type": "execute_result"
    }
   ],
   "source": [
    "# 转换数据框数据类型\n",
    "leadership.astype({'manager':int,\n",
    "                   'age':'int32'}, errors='ignore').dtypes"
   ]
  },
  {
   "cell_type": "markdown",
   "metadata": {},
   "source": [
    "## 数据排序"
   ]
  },
  {
   "cell_type": "code",
   "execution_count": 33,
   "metadata": {
    "execution": {
     "iopub.execute_input": "2020-10-12T10:42:32.391262Z",
     "iopub.status.busy": "2020-10-12T10:42:32.390136Z",
     "iopub.status.idle": "2020-10-12T10:42:32.470180Z",
     "shell.execute_reply": "2020-10-12T10:42:32.466196Z",
     "shell.execute_reply.started": "2020-10-12T10:42:32.391262Z"
    }
   },
   "outputs": [
    {
     "data": {
      "text/html": [
       "<div>\n",
       "<style scoped>\n",
       "    .dataframe tbody tr th:only-of-type {\n",
       "        vertical-align: middle;\n",
       "    }\n",
       "\n",
       "    .dataframe tbody tr th {\n",
       "        vertical-align: top;\n",
       "    }\n",
       "\n",
       "    .dataframe thead th {\n",
       "        text-align: right;\n",
       "    }\n",
       "</style>\n",
       "<table border=\"1\" class=\"dataframe\">\n",
       "  <thead>\n",
       "    <tr style=\"text-align: right;\">\n",
       "      <th></th>\n",
       "      <th>manager</th>\n",
       "      <th>date</th>\n",
       "      <th>country</th>\n",
       "      <th>gender</th>\n",
       "      <th>age</th>\n",
       "      <th>q1</th>\n",
       "      <th>q2</th>\n",
       "      <th>q3</th>\n",
       "      <th>q4</th>\n",
       "      <th>q5</th>\n",
       "      <th>agecat</th>\n",
       "    </tr>\n",
       "  </thead>\n",
       "  <tbody>\n",
       "    <tr>\n",
       "      <th>2</th>\n",
       "      <td>3</td>\n",
       "      <td>2008-10-01</td>\n",
       "      <td>UK</td>\n",
       "      <td>F</td>\n",
       "      <td>25.0</td>\n",
       "      <td>3</td>\n",
       "      <td>5</td>\n",
       "      <td>5</td>\n",
       "      <td>5.0</td>\n",
       "      <td>2.0</td>\n",
       "      <td>Young</td>\n",
       "    </tr>\n",
       "    <tr>\n",
       "      <th>0</th>\n",
       "      <td>1</td>\n",
       "      <td>2008-10-24</td>\n",
       "      <td>US</td>\n",
       "      <td>M</td>\n",
       "      <td>32.0</td>\n",
       "      <td>5</td>\n",
       "      <td>4</td>\n",
       "      <td>5</td>\n",
       "      <td>5.0</td>\n",
       "      <td>5.0</td>\n",
       "      <td>Young</td>\n",
       "    </tr>\n",
       "    <tr>\n",
       "      <th>3</th>\n",
       "      <td>4</td>\n",
       "      <td>2008-10-12</td>\n",
       "      <td>UK</td>\n",
       "      <td>M</td>\n",
       "      <td>39.0</td>\n",
       "      <td>3</td>\n",
       "      <td>3</td>\n",
       "      <td>4</td>\n",
       "      <td>NaN</td>\n",
       "      <td>NaN</td>\n",
       "      <td>Young</td>\n",
       "    </tr>\n",
       "    <tr>\n",
       "      <th>1</th>\n",
       "      <td>2</td>\n",
       "      <td>2008-10-28</td>\n",
       "      <td>US</td>\n",
       "      <td>F</td>\n",
       "      <td>45.0</td>\n",
       "      <td>3</td>\n",
       "      <td>5</td>\n",
       "      <td>2</td>\n",
       "      <td>5.0</td>\n",
       "      <td>5.0</td>\n",
       "      <td>Young</td>\n",
       "    </tr>\n",
       "    <tr>\n",
       "      <th>4</th>\n",
       "      <td>5</td>\n",
       "      <td>2009-05-01</td>\n",
       "      <td>UK</td>\n",
       "      <td>F</td>\n",
       "      <td>NaN</td>\n",
       "      <td>2</td>\n",
       "      <td>2</td>\n",
       "      <td>1</td>\n",
       "      <td>2.0</td>\n",
       "      <td>1.0</td>\n",
       "      <td>NaN</td>\n",
       "    </tr>\n",
       "  </tbody>\n",
       "</table>\n",
       "</div>"
      ],
      "text/plain": [
       "   manager       date country gender   age  q1  q2  q3   q4   q5 agecat\n",
       "2        3 2008-10-01      UK      F  25.0   3   5   5  5.0  2.0  Young\n",
       "0        1 2008-10-24      US      M  32.0   5   4   5  5.0  5.0  Young\n",
       "3        4 2008-10-12      UK      M  39.0   3   3   4  NaN  NaN  Young\n",
       "1        2 2008-10-28      US      F  45.0   3   5   2  5.0  5.0  Young\n",
       "4        5 2009-05-01      UK      F   NaN   2   2   1  2.0  1.0    NaN"
      ]
     },
     "execution_count": 33,
     "metadata": {},
     "output_type": "execute_result"
    }
   ],
   "source": [
    "leadership.sort_values(by='age') # 按年龄升序(默认)排序"
   ]
  },
  {
   "cell_type": "code",
   "execution_count": 34,
   "metadata": {
    "execution": {
     "iopub.execute_input": "2020-10-12T10:42:32.472377Z",
     "iopub.status.busy": "2020-10-12T10:42:32.472377Z",
     "iopub.status.idle": "2020-10-12T10:42:32.631037Z",
     "shell.execute_reply": "2020-10-12T10:42:32.627038Z",
     "shell.execute_reply.started": "2020-10-12T10:42:32.472377Z"
    }
   },
   "outputs": [
    {
     "data": {
      "text/html": [
       "<div>\n",
       "<style scoped>\n",
       "    .dataframe tbody tr th:only-of-type {\n",
       "        vertical-align: middle;\n",
       "    }\n",
       "\n",
       "    .dataframe tbody tr th {\n",
       "        vertical-align: top;\n",
       "    }\n",
       "\n",
       "    .dataframe thead th {\n",
       "        text-align: right;\n",
       "    }\n",
       "</style>\n",
       "<table border=\"1\" class=\"dataframe\">\n",
       "  <thead>\n",
       "    <tr style=\"text-align: right;\">\n",
       "      <th></th>\n",
       "      <th>manager</th>\n",
       "      <th>date</th>\n",
       "      <th>country</th>\n",
       "      <th>gender</th>\n",
       "      <th>age</th>\n",
       "      <th>q1</th>\n",
       "      <th>q2</th>\n",
       "      <th>q3</th>\n",
       "      <th>q4</th>\n",
       "      <th>q5</th>\n",
       "      <th>agecat</th>\n",
       "    </tr>\n",
       "  </thead>\n",
       "  <tbody>\n",
       "    <tr>\n",
       "      <th>1</th>\n",
       "      <td>2</td>\n",
       "      <td>2008-10-28</td>\n",
       "      <td>US</td>\n",
       "      <td>F</td>\n",
       "      <td>45.0</td>\n",
       "      <td>3</td>\n",
       "      <td>5</td>\n",
       "      <td>2</td>\n",
       "      <td>5.0</td>\n",
       "      <td>5.0</td>\n",
       "      <td>Young</td>\n",
       "    </tr>\n",
       "    <tr>\n",
       "      <th>2</th>\n",
       "      <td>3</td>\n",
       "      <td>2008-10-01</td>\n",
       "      <td>UK</td>\n",
       "      <td>F</td>\n",
       "      <td>25.0</td>\n",
       "      <td>3</td>\n",
       "      <td>5</td>\n",
       "      <td>5</td>\n",
       "      <td>5.0</td>\n",
       "      <td>2.0</td>\n",
       "      <td>Young</td>\n",
       "    </tr>\n",
       "    <tr>\n",
       "      <th>4</th>\n",
       "      <td>5</td>\n",
       "      <td>2009-05-01</td>\n",
       "      <td>UK</td>\n",
       "      <td>F</td>\n",
       "      <td>NaN</td>\n",
       "      <td>2</td>\n",
       "      <td>2</td>\n",
       "      <td>1</td>\n",
       "      <td>2.0</td>\n",
       "      <td>1.0</td>\n",
       "      <td>NaN</td>\n",
       "    </tr>\n",
       "    <tr>\n",
       "      <th>3</th>\n",
       "      <td>4</td>\n",
       "      <td>2008-10-12</td>\n",
       "      <td>UK</td>\n",
       "      <td>M</td>\n",
       "      <td>39.0</td>\n",
       "      <td>3</td>\n",
       "      <td>3</td>\n",
       "      <td>4</td>\n",
       "      <td>NaN</td>\n",
       "      <td>NaN</td>\n",
       "      <td>Young</td>\n",
       "    </tr>\n",
       "    <tr>\n",
       "      <th>0</th>\n",
       "      <td>1</td>\n",
       "      <td>2008-10-24</td>\n",
       "      <td>US</td>\n",
       "      <td>M</td>\n",
       "      <td>32.0</td>\n",
       "      <td>5</td>\n",
       "      <td>4</td>\n",
       "      <td>5</td>\n",
       "      <td>5.0</td>\n",
       "      <td>5.0</td>\n",
       "      <td>Young</td>\n",
       "    </tr>\n",
       "  </tbody>\n",
       "</table>\n",
       "</div>"
      ],
      "text/plain": [
       "   manager       date country gender   age  q1  q2  q3   q4   q5 agecat\n",
       "1        2 2008-10-28      US      F  45.0   3   5   2  5.0  5.0  Young\n",
       "2        3 2008-10-01      UK      F  25.0   3   5   5  5.0  2.0  Young\n",
       "4        5 2009-05-01      UK      F   NaN   2   2   1  2.0  1.0    NaN\n",
       "3        4 2008-10-12      UK      M  39.0   3   3   4  NaN  NaN  Young\n",
       "0        1 2008-10-24      US      M  32.0   5   4   5  5.0  5.0  Young"
      ]
     },
     "execution_count": 34,
     "metadata": {},
     "output_type": "execute_result"
    }
   ],
   "source": [
    "# 按性别升序，年龄降序排序\n",
    "leadership.sort_values(by=['gender','age'], ascending=[True, False])"
   ]
  },
  {
   "cell_type": "markdown",
   "metadata": {},
   "source": [
    "## 数据集的合并"
   ]
  },
  {
   "cell_type": "markdown",
   "metadata": {},
   "source": [
    "### 向数据框添加列"
   ]
  },
  {
   "cell_type": "code",
   "execution_count": 35,
   "metadata": {
    "execution": {
     "iopub.execute_input": "2020-10-12T10:42:32.635039Z",
     "iopub.status.busy": "2020-10-12T10:42:32.635039Z",
     "iopub.status.idle": "2020-10-12T10:42:32.662107Z",
     "shell.execute_reply": "2020-10-12T10:42:32.658117Z",
     "shell.execute_reply.started": "2020-10-12T10:42:32.635039Z"
    }
   },
   "outputs": [],
   "source": [
    "df1 = pd.DataFrame({'key': ['K0', 'K1', 'K2', 'K3', 'K4', 'K5'],\n",
    "                   'A': ['A0', 'A1', 'A2', 'A3', 'A4', 'A5']})\n",
    "df2 = pd.DataFrame({'key': ['K0', 'K1', 'K2'],\n",
    "                      'B': ['B0', 'B1', 'B2']})"
   ]
  },
  {
   "cell_type": "code",
   "execution_count": 36,
   "metadata": {
    "execution": {
     "iopub.execute_input": "2020-10-12T10:42:32.668093Z",
     "iopub.status.busy": "2020-10-12T10:42:32.667095Z",
     "iopub.status.idle": "2020-10-12T10:42:32.711818Z",
     "shell.execute_reply": "2020-10-12T10:42:32.707366Z",
     "shell.execute_reply.started": "2020-10-12T10:42:32.668093Z"
    }
   },
   "outputs": [
    {
     "data": {
      "text/html": [
       "<div>\n",
       "<style scoped>\n",
       "    .dataframe tbody tr th:only-of-type {\n",
       "        vertical-align: middle;\n",
       "    }\n",
       "\n",
       "    .dataframe tbody tr th {\n",
       "        vertical-align: top;\n",
       "    }\n",
       "\n",
       "    .dataframe thead th {\n",
       "        text-align: right;\n",
       "    }\n",
       "</style>\n",
       "<table border=\"1\" class=\"dataframe\">\n",
       "  <thead>\n",
       "    <tr style=\"text-align: right;\">\n",
       "      <th></th>\n",
       "      <th>key</th>\n",
       "      <th>A</th>\n",
       "    </tr>\n",
       "  </thead>\n",
       "  <tbody>\n",
       "    <tr>\n",
       "      <th>0</th>\n",
       "      <td>K0</td>\n",
       "      <td>A0</td>\n",
       "    </tr>\n",
       "    <tr>\n",
       "      <th>1</th>\n",
       "      <td>K1</td>\n",
       "      <td>A1</td>\n",
       "    </tr>\n",
       "    <tr>\n",
       "      <th>2</th>\n",
       "      <td>K2</td>\n",
       "      <td>A2</td>\n",
       "    </tr>\n",
       "    <tr>\n",
       "      <th>3</th>\n",
       "      <td>K3</td>\n",
       "      <td>A3</td>\n",
       "    </tr>\n",
       "    <tr>\n",
       "      <th>4</th>\n",
       "      <td>K4</td>\n",
       "      <td>A4</td>\n",
       "    </tr>\n",
       "    <tr>\n",
       "      <th>5</th>\n",
       "      <td>K5</td>\n",
       "      <td>A5</td>\n",
       "    </tr>\n",
       "  </tbody>\n",
       "</table>\n",
       "</div>"
      ],
      "text/plain": [
       "  key   A\n",
       "0  K0  A0\n",
       "1  K1  A1\n",
       "2  K2  A2\n",
       "3  K3  A3\n",
       "4  K4  A4\n",
       "5  K5  A5"
      ]
     },
     "execution_count": 36,
     "metadata": {},
     "output_type": "execute_result"
    }
   ],
   "source": [
    "df1"
   ]
  },
  {
   "cell_type": "code",
   "execution_count": 37,
   "metadata": {
    "execution": {
     "iopub.execute_input": "2020-10-12T10:42:32.718803Z",
     "iopub.status.busy": "2020-10-12T10:42:32.716804Z",
     "iopub.status.idle": "2020-10-12T10:42:32.759611Z",
     "shell.execute_reply": "2020-10-12T10:42:32.755622Z",
     "shell.execute_reply.started": "2020-10-12T10:42:32.718803Z"
    }
   },
   "outputs": [
    {
     "data": {
      "text/html": [
       "<div>\n",
       "<style scoped>\n",
       "    .dataframe tbody tr th:only-of-type {\n",
       "        vertical-align: middle;\n",
       "    }\n",
       "\n",
       "    .dataframe tbody tr th {\n",
       "        vertical-align: top;\n",
       "    }\n",
       "\n",
       "    .dataframe thead th {\n",
       "        text-align: right;\n",
       "    }\n",
       "</style>\n",
       "<table border=\"1\" class=\"dataframe\">\n",
       "  <thead>\n",
       "    <tr style=\"text-align: right;\">\n",
       "      <th></th>\n",
       "      <th>key</th>\n",
       "      <th>B</th>\n",
       "    </tr>\n",
       "  </thead>\n",
       "  <tbody>\n",
       "    <tr>\n",
       "      <th>0</th>\n",
       "      <td>K0</td>\n",
       "      <td>B0</td>\n",
       "    </tr>\n",
       "    <tr>\n",
       "      <th>1</th>\n",
       "      <td>K1</td>\n",
       "      <td>B1</td>\n",
       "    </tr>\n",
       "    <tr>\n",
       "      <th>2</th>\n",
       "      <td>K2</td>\n",
       "      <td>B2</td>\n",
       "    </tr>\n",
       "  </tbody>\n",
       "</table>\n",
       "</div>"
      ],
      "text/plain": [
       "  key   B\n",
       "0  K0  B0\n",
       "1  K1  B1\n",
       "2  K2  B2"
      ]
     },
     "execution_count": 37,
     "metadata": {},
     "output_type": "execute_result"
    }
   ],
   "source": [
    "df2"
   ]
  },
  {
   "cell_type": "code",
   "execution_count": 38,
   "metadata": {
    "execution": {
     "iopub.execute_input": "2020-10-12T10:42:32.766593Z",
     "iopub.status.busy": "2020-10-12T10:42:32.764602Z",
     "iopub.status.idle": "2020-10-12T10:42:33.287156Z",
     "shell.execute_reply": "2020-10-12T10:42:33.283157Z",
     "shell.execute_reply.started": "2020-10-12T10:42:32.765601Z"
    }
   },
   "outputs": [
    {
     "data": {
      "text/html": [
       "<div>\n",
       "<style scoped>\n",
       "    .dataframe tbody tr th:only-of-type {\n",
       "        vertical-align: middle;\n",
       "    }\n",
       "\n",
       "    .dataframe tbody tr th {\n",
       "        vertical-align: top;\n",
       "    }\n",
       "\n",
       "    .dataframe thead th {\n",
       "        text-align: right;\n",
       "    }\n",
       "</style>\n",
       "<table border=\"1\" class=\"dataframe\">\n",
       "  <thead>\n",
       "    <tr style=\"text-align: right;\">\n",
       "      <th></th>\n",
       "      <th>key</th>\n",
       "      <th>A</th>\n",
       "      <th>B</th>\n",
       "    </tr>\n",
       "  </thead>\n",
       "  <tbody>\n",
       "    <tr>\n",
       "      <th>0</th>\n",
       "      <td>K0</td>\n",
       "      <td>A0</td>\n",
       "      <td>B0</td>\n",
       "    </tr>\n",
       "    <tr>\n",
       "      <th>1</th>\n",
       "      <td>K1</td>\n",
       "      <td>A1</td>\n",
       "      <td>B1</td>\n",
       "    </tr>\n",
       "    <tr>\n",
       "      <th>2</th>\n",
       "      <td>K2</td>\n",
       "      <td>A2</td>\n",
       "      <td>B2</td>\n",
       "    </tr>\n",
       "  </tbody>\n",
       "</table>\n",
       "</div>"
      ],
      "text/plain": [
       "  key   A   B\n",
       "0  K0  A0  B0\n",
       "1  K1  A1  B1\n",
       "2  K2  A2  B2"
      ]
     },
     "execution_count": 38,
     "metadata": {},
     "output_type": "execute_result"
    }
   ],
   "source": [
    "pd.merge(df1, df2, how='inner', on='key')"
   ]
  },
  {
   "cell_type": "markdown",
   "metadata": {},
   "source": [
    "### 向数据框添加行"
   ]
  },
  {
   "cell_type": "code",
   "execution_count": 39,
   "metadata": {
    "execution": {
     "iopub.execute_input": "2020-10-12T10:42:33.301200Z",
     "iopub.status.busy": "2020-10-12T10:42:33.295157Z",
     "iopub.status.idle": "2020-10-12T10:42:33.320104Z",
     "shell.execute_reply": "2020-10-12T10:42:33.316115Z",
     "shell.execute_reply.started": "2020-10-12T10:42:33.301200Z"
    }
   },
   "outputs": [],
   "source": [
    "# 重命名df2使其变量名与df1相同\n",
    "df2.rename(columns={'B':'A'}, inplace=True)"
   ]
  },
  {
   "cell_type": "code",
   "execution_count": 40,
   "metadata": {
    "execution": {
     "iopub.execute_input": "2020-10-12T10:42:33.331075Z",
     "iopub.status.busy": "2020-10-12T10:42:33.329078Z",
     "iopub.status.idle": "2020-10-12T10:42:33.385127Z",
     "shell.execute_reply": "2020-10-12T10:42:33.381136Z",
     "shell.execute_reply.started": "2020-10-12T10:42:33.331075Z"
    }
   },
   "outputs": [
    {
     "data": {
      "text/html": [
       "<div>\n",
       "<style scoped>\n",
       "    .dataframe tbody tr th:only-of-type {\n",
       "        vertical-align: middle;\n",
       "    }\n",
       "\n",
       "    .dataframe tbody tr th {\n",
       "        vertical-align: top;\n",
       "    }\n",
       "\n",
       "    .dataframe thead th {\n",
       "        text-align: right;\n",
       "    }\n",
       "</style>\n",
       "<table border=\"1\" class=\"dataframe\">\n",
       "  <thead>\n",
       "    <tr style=\"text-align: right;\">\n",
       "      <th></th>\n",
       "      <th>key</th>\n",
       "      <th>A</th>\n",
       "    </tr>\n",
       "  </thead>\n",
       "  <tbody>\n",
       "    <tr>\n",
       "      <th>0</th>\n",
       "      <td>K0</td>\n",
       "      <td>A0</td>\n",
       "    </tr>\n",
       "    <tr>\n",
       "      <th>1</th>\n",
       "      <td>K1</td>\n",
       "      <td>A1</td>\n",
       "    </tr>\n",
       "    <tr>\n",
       "      <th>2</th>\n",
       "      <td>K2</td>\n",
       "      <td>A2</td>\n",
       "    </tr>\n",
       "    <tr>\n",
       "      <th>3</th>\n",
       "      <td>K3</td>\n",
       "      <td>A3</td>\n",
       "    </tr>\n",
       "    <tr>\n",
       "      <th>4</th>\n",
       "      <td>K4</td>\n",
       "      <td>A4</td>\n",
       "    </tr>\n",
       "    <tr>\n",
       "      <th>5</th>\n",
       "      <td>K5</td>\n",
       "      <td>A5</td>\n",
       "    </tr>\n",
       "    <tr>\n",
       "      <th>6</th>\n",
       "      <td>K0</td>\n",
       "      <td>B0</td>\n",
       "    </tr>\n",
       "    <tr>\n",
       "      <th>7</th>\n",
       "      <td>K1</td>\n",
       "      <td>B1</td>\n",
       "    </tr>\n",
       "    <tr>\n",
       "      <th>8</th>\n",
       "      <td>K2</td>\n",
       "      <td>B2</td>\n",
       "    </tr>\n",
       "  </tbody>\n",
       "</table>\n",
       "</div>"
      ],
      "text/plain": [
       "  key   A\n",
       "0  K0  A0\n",
       "1  K1  A1\n",
       "2  K2  A2\n",
       "3  K3  A3\n",
       "4  K4  A4\n",
       "5  K5  A5\n",
       "6  K0  B0\n",
       "7  K1  B1\n",
       "8  K2  B2"
      ]
     },
     "execution_count": 40,
     "metadata": {},
     "output_type": "execute_result"
    }
   ],
   "source": [
    "df1.append(df2, ignore_index=True) # 重置索引"
   ]
  },
  {
   "cell_type": "markdown",
   "metadata": {},
   "source": [
    "## 数据集取子集"
   ]
  },
  {
   "cell_type": "markdown",
   "metadata": {},
   "source": [
    "### 选入（保留）变量"
   ]
  },
  {
   "cell_type": "code",
   "execution_count": 41,
   "metadata": {
    "execution": {
     "iopub.execute_input": "2020-10-12T10:42:33.392473Z",
     "iopub.status.busy": "2020-10-12T10:42:33.390116Z",
     "iopub.status.idle": "2020-10-12T10:42:33.420126Z",
     "shell.execute_reply": "2020-10-12T10:42:33.415139Z",
     "shell.execute_reply.started": "2020-10-12T10:42:33.392473Z"
    }
   },
   "outputs": [
    {
     "data": {
      "text/plain": [
       "0    32.0\n",
       "1    45.0\n",
       "2    25.0\n",
       "3    39.0\n",
       "4     NaN\n",
       "Name: age, dtype: float64"
      ]
     },
     "execution_count": 41,
     "metadata": {},
     "output_type": "execute_result"
    }
   ],
   "source": [
    "leadership['age']"
   ]
  },
  {
   "cell_type": "code",
   "execution_count": 42,
   "metadata": {
    "execution": {
     "iopub.execute_input": "2020-10-12T10:42:33.427108Z",
     "iopub.status.busy": "2020-10-12T10:42:33.425118Z",
     "iopub.status.idle": "2020-10-12T10:42:33.483178Z",
     "shell.execute_reply": "2020-10-12T10:42:33.478971Z",
     "shell.execute_reply.started": "2020-10-12T10:42:33.427108Z"
    }
   },
   "outputs": [
    {
     "data": {
      "text/html": [
       "<div>\n",
       "<style scoped>\n",
       "    .dataframe tbody tr th:only-of-type {\n",
       "        vertical-align: middle;\n",
       "    }\n",
       "\n",
       "    .dataframe tbody tr th {\n",
       "        vertical-align: top;\n",
       "    }\n",
       "\n",
       "    .dataframe thead th {\n",
       "        text-align: right;\n",
       "    }\n",
       "</style>\n",
       "<table border=\"1\" class=\"dataframe\">\n",
       "  <thead>\n",
       "    <tr style=\"text-align: right;\">\n",
       "      <th></th>\n",
       "      <th>age</th>\n",
       "      <th>gender</th>\n",
       "    </tr>\n",
       "  </thead>\n",
       "  <tbody>\n",
       "    <tr>\n",
       "      <th>0</th>\n",
       "      <td>32.0</td>\n",
       "      <td>M</td>\n",
       "    </tr>\n",
       "    <tr>\n",
       "      <th>1</th>\n",
       "      <td>45.0</td>\n",
       "      <td>F</td>\n",
       "    </tr>\n",
       "    <tr>\n",
       "      <th>2</th>\n",
       "      <td>25.0</td>\n",
       "      <td>F</td>\n",
       "    </tr>\n",
       "    <tr>\n",
       "      <th>3</th>\n",
       "      <td>39.0</td>\n",
       "      <td>M</td>\n",
       "    </tr>\n",
       "    <tr>\n",
       "      <th>4</th>\n",
       "      <td>NaN</td>\n",
       "      <td>F</td>\n",
       "    </tr>\n",
       "  </tbody>\n",
       "</table>\n",
       "</div>"
      ],
      "text/plain": [
       "    age gender\n",
       "0  32.0      M\n",
       "1  45.0      F\n",
       "2  25.0      F\n",
       "3  39.0      M\n",
       "4   NaN      F"
      ]
     },
     "execution_count": 42,
     "metadata": {},
     "output_type": "execute_result"
    }
   ],
   "source": [
    "leadership[['age','gender']]"
   ]
  },
  {
   "cell_type": "code",
   "execution_count": 43,
   "metadata": {
    "execution": {
     "iopub.execute_input": "2020-10-12T10:42:33.487180Z",
     "iopub.status.busy": "2020-10-12T10:42:33.487180Z",
     "iopub.status.idle": "2020-10-12T10:42:33.532277Z",
     "shell.execute_reply": "2020-10-12T10:42:33.527293Z",
     "shell.execute_reply.started": "2020-10-12T10:42:33.487180Z"
    }
   },
   "outputs": [
    {
     "data": {
      "text/html": [
       "<div>\n",
       "<style scoped>\n",
       "    .dataframe tbody tr th:only-of-type {\n",
       "        vertical-align: middle;\n",
       "    }\n",
       "\n",
       "    .dataframe tbody tr th {\n",
       "        vertical-align: top;\n",
       "    }\n",
       "\n",
       "    .dataframe thead th {\n",
       "        text-align: right;\n",
       "    }\n",
       "</style>\n",
       "<table border=\"1\" class=\"dataframe\">\n",
       "  <thead>\n",
       "    <tr style=\"text-align: right;\">\n",
       "      <th></th>\n",
       "      <th>date</th>\n",
       "      <th>age</th>\n",
       "    </tr>\n",
       "  </thead>\n",
       "  <tbody>\n",
       "    <tr>\n",
       "      <th>0</th>\n",
       "      <td>2008-10-24</td>\n",
       "      <td>32.0</td>\n",
       "    </tr>\n",
       "    <tr>\n",
       "      <th>1</th>\n",
       "      <td>2008-10-28</td>\n",
       "      <td>45.0</td>\n",
       "    </tr>\n",
       "    <tr>\n",
       "      <th>2</th>\n",
       "      <td>2008-10-01</td>\n",
       "      <td>25.0</td>\n",
       "    </tr>\n",
       "  </tbody>\n",
       "</table>\n",
       "</div>"
      ],
      "text/plain": [
       "        date   age\n",
       "0 2008-10-24  32.0\n",
       "1 2008-10-28  45.0\n",
       "2 2008-10-01  25.0"
      ]
     },
     "execution_count": 43,
     "metadata": {},
     "output_type": "execute_result"
    }
   ],
   "source": [
    "leadership.loc[0:2,['date','age']] # 0-2行，date和age列"
   ]
  },
  {
   "cell_type": "code",
   "execution_count": 44,
   "metadata": {
    "execution": {
     "iopub.execute_input": "2020-10-12T10:42:33.542215Z",
     "iopub.status.busy": "2020-10-12T10:42:33.540258Z",
     "iopub.status.idle": "2020-10-12T10:42:33.611262Z",
     "shell.execute_reply": "2020-10-12T10:42:33.607271Z",
     "shell.execute_reply.started": "2020-10-12T10:42:33.541255Z"
    }
   },
   "outputs": [
    {
     "data": {
      "text/html": [
       "<div>\n",
       "<style scoped>\n",
       "    .dataframe tbody tr th:only-of-type {\n",
       "        vertical-align: middle;\n",
       "    }\n",
       "\n",
       "    .dataframe tbody tr th {\n",
       "        vertical-align: top;\n",
       "    }\n",
       "\n",
       "    .dataframe thead th {\n",
       "        text-align: right;\n",
       "    }\n",
       "</style>\n",
       "<table border=\"1\" class=\"dataframe\">\n",
       "  <thead>\n",
       "    <tr style=\"text-align: right;\">\n",
       "      <th></th>\n",
       "      <th>manager</th>\n",
       "      <th>date</th>\n",
       "      <th>country</th>\n",
       "      <th>gender</th>\n",
       "      <th>age</th>\n",
       "      <th>q1</th>\n",
       "      <th>q2</th>\n",
       "      <th>q3</th>\n",
       "      <th>q4</th>\n",
       "      <th>q5</th>\n",
       "      <th>agecat</th>\n",
       "    </tr>\n",
       "  </thead>\n",
       "  <tbody>\n",
       "    <tr>\n",
       "      <th>2</th>\n",
       "      <td>3</td>\n",
       "      <td>2008-10-01</td>\n",
       "      <td>UK</td>\n",
       "      <td>F</td>\n",
       "      <td>25.0</td>\n",
       "      <td>3</td>\n",
       "      <td>5</td>\n",
       "      <td>5</td>\n",
       "      <td>5.0</td>\n",
       "      <td>2.0</td>\n",
       "      <td>Young</td>\n",
       "    </tr>\n",
       "    <tr>\n",
       "      <th>4</th>\n",
       "      <td>5</td>\n",
       "      <td>2009-05-01</td>\n",
       "      <td>UK</td>\n",
       "      <td>F</td>\n",
       "      <td>NaN</td>\n",
       "      <td>2</td>\n",
       "      <td>2</td>\n",
       "      <td>1</td>\n",
       "      <td>2.0</td>\n",
       "      <td>1.0</td>\n",
       "      <td>NaN</td>\n",
       "    </tr>\n",
       "  </tbody>\n",
       "</table>\n",
       "</div>"
      ],
      "text/plain": [
       "   manager       date country gender   age  q1  q2  q3   q4   q5 agecat\n",
       "2        3 2008-10-01      UK      F  25.0   3   5   5  5.0  2.0  Young\n",
       "4        5 2009-05-01      UK      F   NaN   2   2   1  2.0  1.0    NaN"
      ]
     },
     "execution_count": 44,
     "metadata": {},
     "output_type": "execute_result"
    }
   ],
   "source": [
    "leadership.iloc[[2,4],:] # 2、4行，所有列"
   ]
  },
  {
   "cell_type": "markdown",
   "metadata": {},
   "source": [
    "### 剔除（丢弃）变量"
   ]
  },
  {
   "cell_type": "code",
   "execution_count": 45,
   "metadata": {
    "execution": {
     "iopub.execute_input": "2020-10-12T10:42:33.618243Z",
     "iopub.status.busy": "2020-10-12T10:42:33.616249Z",
     "iopub.status.idle": "2020-10-12T10:42:33.656142Z",
     "shell.execute_reply": "2020-10-12T10:42:33.652159Z",
     "shell.execute_reply.started": "2020-10-12T10:42:33.618243Z"
    }
   },
   "outputs": [
    {
     "data": {
      "text/plain": [
       "array([False, False, False, False, False, False, False,  True,  True,\n",
       "       False, False])"
      ]
     },
     "execution_count": 45,
     "metadata": {},
     "output_type": "execute_result"
    }
   ],
   "source": [
    "myvars = leadership.columns.isin(['q3','q4'])\n",
    "myvars"
   ]
  },
  {
   "cell_type": "code",
   "execution_count": 46,
   "metadata": {
    "execution": {
     "iopub.execute_input": "2020-10-12T10:42:33.663128Z",
     "iopub.status.busy": "2020-10-12T10:42:33.661128Z",
     "iopub.status.idle": "2020-10-12T10:42:33.737353Z",
     "shell.execute_reply": "2020-10-12T10:42:33.733353Z",
     "shell.execute_reply.started": "2020-10-12T10:42:33.663128Z"
    }
   },
   "outputs": [
    {
     "data": {
      "text/html": [
       "<div>\n",
       "<style scoped>\n",
       "    .dataframe tbody tr th:only-of-type {\n",
       "        vertical-align: middle;\n",
       "    }\n",
       "\n",
       "    .dataframe tbody tr th {\n",
       "        vertical-align: top;\n",
       "    }\n",
       "\n",
       "    .dataframe thead th {\n",
       "        text-align: right;\n",
       "    }\n",
       "</style>\n",
       "<table border=\"1\" class=\"dataframe\">\n",
       "  <thead>\n",
       "    <tr style=\"text-align: right;\">\n",
       "      <th></th>\n",
       "      <th>manager</th>\n",
       "      <th>date</th>\n",
       "      <th>country</th>\n",
       "      <th>gender</th>\n",
       "      <th>age</th>\n",
       "      <th>q1</th>\n",
       "      <th>q2</th>\n",
       "      <th>q5</th>\n",
       "      <th>agecat</th>\n",
       "    </tr>\n",
       "  </thead>\n",
       "  <tbody>\n",
       "    <tr>\n",
       "      <th>0</th>\n",
       "      <td>1</td>\n",
       "      <td>2008-10-24</td>\n",
       "      <td>US</td>\n",
       "      <td>M</td>\n",
       "      <td>32.0</td>\n",
       "      <td>5</td>\n",
       "      <td>4</td>\n",
       "      <td>5.0</td>\n",
       "      <td>Young</td>\n",
       "    </tr>\n",
       "    <tr>\n",
       "      <th>1</th>\n",
       "      <td>2</td>\n",
       "      <td>2008-10-28</td>\n",
       "      <td>US</td>\n",
       "      <td>F</td>\n",
       "      <td>45.0</td>\n",
       "      <td>3</td>\n",
       "      <td>5</td>\n",
       "      <td>5.0</td>\n",
       "      <td>Young</td>\n",
       "    </tr>\n",
       "    <tr>\n",
       "      <th>2</th>\n",
       "      <td>3</td>\n",
       "      <td>2008-10-01</td>\n",
       "      <td>UK</td>\n",
       "      <td>F</td>\n",
       "      <td>25.0</td>\n",
       "      <td>3</td>\n",
       "      <td>5</td>\n",
       "      <td>2.0</td>\n",
       "      <td>Young</td>\n",
       "    </tr>\n",
       "    <tr>\n",
       "      <th>3</th>\n",
       "      <td>4</td>\n",
       "      <td>2008-10-12</td>\n",
       "      <td>UK</td>\n",
       "      <td>M</td>\n",
       "      <td>39.0</td>\n",
       "      <td>3</td>\n",
       "      <td>3</td>\n",
       "      <td>NaN</td>\n",
       "      <td>Young</td>\n",
       "    </tr>\n",
       "    <tr>\n",
       "      <th>4</th>\n",
       "      <td>5</td>\n",
       "      <td>2009-05-01</td>\n",
       "      <td>UK</td>\n",
       "      <td>F</td>\n",
       "      <td>NaN</td>\n",
       "      <td>2</td>\n",
       "      <td>2</td>\n",
       "      <td>1.0</td>\n",
       "      <td>NaN</td>\n",
       "    </tr>\n",
       "  </tbody>\n",
       "</table>\n",
       "</div>"
      ],
      "text/plain": [
       "   manager       date country gender   age  q1  q2   q5 agecat\n",
       "0        1 2008-10-24      US      M  32.0   5   4  5.0  Young\n",
       "1        2 2008-10-28      US      F  45.0   3   5  5.0  Young\n",
       "2        3 2008-10-01      UK      F  25.0   3   5  2.0  Young\n",
       "3        4 2008-10-12      UK      M  39.0   3   3  NaN  Young\n",
       "4        5 2009-05-01      UK      F   NaN   2   2  1.0    NaN"
      ]
     },
     "execution_count": 46,
     "metadata": {},
     "output_type": "execute_result"
    }
   ],
   "source": [
    "leadership.loc[:,~myvars] # ~表示取反"
   ]
  },
  {
   "cell_type": "code",
   "execution_count": 47,
   "metadata": {
    "execution": {
     "iopub.execute_input": "2020-10-12T10:42:33.745354Z",
     "iopub.status.busy": "2020-10-12T10:42:33.742773Z",
     "iopub.status.idle": "2020-10-12T10:42:33.812506Z",
     "shell.execute_reply": "2020-10-12T10:42:33.809040Z",
     "shell.execute_reply.started": "2020-10-12T10:42:33.745354Z"
    }
   },
   "outputs": [
    {
     "data": {
      "text/html": [
       "<div>\n",
       "<style scoped>\n",
       "    .dataframe tbody tr th:only-of-type {\n",
       "        vertical-align: middle;\n",
       "    }\n",
       "\n",
       "    .dataframe tbody tr th {\n",
       "        vertical-align: top;\n",
       "    }\n",
       "\n",
       "    .dataframe thead th {\n",
       "        text-align: right;\n",
       "    }\n",
       "</style>\n",
       "<table border=\"1\" class=\"dataframe\">\n",
       "  <thead>\n",
       "    <tr style=\"text-align: right;\">\n",
       "      <th></th>\n",
       "      <th>manager</th>\n",
       "      <th>date</th>\n",
       "      <th>country</th>\n",
       "      <th>gender</th>\n",
       "      <th>age</th>\n",
       "      <th>q1</th>\n",
       "      <th>q2</th>\n",
       "      <th>q5</th>\n",
       "      <th>agecat</th>\n",
       "    </tr>\n",
       "  </thead>\n",
       "  <tbody>\n",
       "    <tr>\n",
       "      <th>0</th>\n",
       "      <td>1</td>\n",
       "      <td>2008-10-24</td>\n",
       "      <td>US</td>\n",
       "      <td>M</td>\n",
       "      <td>32.0</td>\n",
       "      <td>5</td>\n",
       "      <td>4</td>\n",
       "      <td>5.0</td>\n",
       "      <td>Young</td>\n",
       "    </tr>\n",
       "    <tr>\n",
       "      <th>1</th>\n",
       "      <td>2</td>\n",
       "      <td>2008-10-28</td>\n",
       "      <td>US</td>\n",
       "      <td>F</td>\n",
       "      <td>45.0</td>\n",
       "      <td>3</td>\n",
       "      <td>5</td>\n",
       "      <td>5.0</td>\n",
       "      <td>Young</td>\n",
       "    </tr>\n",
       "    <tr>\n",
       "      <th>2</th>\n",
       "      <td>3</td>\n",
       "      <td>2008-10-01</td>\n",
       "      <td>UK</td>\n",
       "      <td>F</td>\n",
       "      <td>25.0</td>\n",
       "      <td>3</td>\n",
       "      <td>5</td>\n",
       "      <td>2.0</td>\n",
       "      <td>Young</td>\n",
       "    </tr>\n",
       "    <tr>\n",
       "      <th>3</th>\n",
       "      <td>4</td>\n",
       "      <td>2008-10-12</td>\n",
       "      <td>UK</td>\n",
       "      <td>M</td>\n",
       "      <td>39.0</td>\n",
       "      <td>3</td>\n",
       "      <td>3</td>\n",
       "      <td>NaN</td>\n",
       "      <td>Young</td>\n",
       "    </tr>\n",
       "    <tr>\n",
       "      <th>4</th>\n",
       "      <td>5</td>\n",
       "      <td>2009-05-01</td>\n",
       "      <td>UK</td>\n",
       "      <td>F</td>\n",
       "      <td>NaN</td>\n",
       "      <td>2</td>\n",
       "      <td>2</td>\n",
       "      <td>1.0</td>\n",
       "      <td>NaN</td>\n",
       "    </tr>\n",
       "  </tbody>\n",
       "</table>\n",
       "</div>"
      ],
      "text/plain": [
       "   manager       date country gender   age  q1  q2   q5 agecat\n",
       "0        1 2008-10-24      US      M  32.0   5   4  5.0  Young\n",
       "1        2 2008-10-28      US      F  45.0   3   5  5.0  Young\n",
       "2        3 2008-10-01      UK      F  25.0   3   5  2.0  Young\n",
       "3        4 2008-10-12      UK      M  39.0   3   3  NaN  Young\n",
       "4        5 2009-05-01      UK      F   NaN   2   2  1.0    NaN"
      ]
     },
     "execution_count": 47,
     "metadata": {},
     "output_type": "execute_result"
    }
   ],
   "source": [
    "# 方法二\n",
    "leadership.drop(columns=['q3','q4'])"
   ]
  },
  {
   "cell_type": "markdown",
   "metadata": {},
   "source": [
    "### 选入观察"
   ]
  },
  {
   "cell_type": "code",
   "execution_count": 48,
   "metadata": {
    "execution": {
     "iopub.execute_input": "2020-10-12T10:42:33.819527Z",
     "iopub.status.busy": "2020-10-12T10:42:33.815534Z",
     "iopub.status.idle": "2020-10-12T10:42:33.906900Z",
     "shell.execute_reply": "2020-10-12T10:42:33.902918Z",
     "shell.execute_reply.started": "2020-10-12T10:42:33.819527Z"
    }
   },
   "outputs": [
    {
     "data": {
      "text/html": [
       "<div>\n",
       "<style scoped>\n",
       "    .dataframe tbody tr th:only-of-type {\n",
       "        vertical-align: middle;\n",
       "    }\n",
       "\n",
       "    .dataframe tbody tr th {\n",
       "        vertical-align: top;\n",
       "    }\n",
       "\n",
       "    .dataframe thead th {\n",
       "        text-align: right;\n",
       "    }\n",
       "</style>\n",
       "<table border=\"1\" class=\"dataframe\">\n",
       "  <thead>\n",
       "    <tr style=\"text-align: right;\">\n",
       "      <th></th>\n",
       "      <th>manager</th>\n",
       "      <th>date</th>\n",
       "      <th>country</th>\n",
       "      <th>gender</th>\n",
       "      <th>age</th>\n",
       "      <th>q1</th>\n",
       "      <th>q2</th>\n",
       "      <th>q3</th>\n",
       "      <th>q4</th>\n",
       "      <th>q5</th>\n",
       "      <th>agecat</th>\n",
       "    </tr>\n",
       "  </thead>\n",
       "  <tbody>\n",
       "    <tr>\n",
       "      <th>0</th>\n",
       "      <td>1</td>\n",
       "      <td>2008-10-24</td>\n",
       "      <td>US</td>\n",
       "      <td>M</td>\n",
       "      <td>32.0</td>\n",
       "      <td>5</td>\n",
       "      <td>4</td>\n",
       "      <td>5</td>\n",
       "      <td>5.0</td>\n",
       "      <td>5.0</td>\n",
       "      <td>Young</td>\n",
       "    </tr>\n",
       "    <tr>\n",
       "      <th>3</th>\n",
       "      <td>4</td>\n",
       "      <td>2008-10-12</td>\n",
       "      <td>UK</td>\n",
       "      <td>M</td>\n",
       "      <td>39.0</td>\n",
       "      <td>3</td>\n",
       "      <td>3</td>\n",
       "      <td>4</td>\n",
       "      <td>NaN</td>\n",
       "      <td>NaN</td>\n",
       "      <td>Young</td>\n",
       "    </tr>\n",
       "  </tbody>\n",
       "</table>\n",
       "</div>"
      ],
      "text/plain": [
       "   manager       date country gender   age  q1  q2  q3   q4   q5 agecat\n",
       "0        1 2008-10-24      US      M  32.0   5   4   5  5.0  5.0  Young\n",
       "3        4 2008-10-12      UK      M  39.0   3   3   4  NaN  NaN  Young"
      ]
     },
     "execution_count": 48,
     "metadata": {},
     "output_type": "execute_result"
    }
   ],
   "source": [
    "leadership.loc[(leadership.gender == 'M') & (leadership.age > 30),:]"
   ]
  },
  {
   "cell_type": "code",
   "execution_count": 49,
   "metadata": {
    "execution": {
     "iopub.execute_input": "2020-10-12T10:42:33.912967Z",
     "iopub.status.busy": "2020-10-12T10:42:33.910891Z",
     "iopub.status.idle": "2020-10-12T10:42:33.996487Z",
     "shell.execute_reply": "2020-10-12T10:42:33.992538Z",
     "shell.execute_reply.started": "2020-10-12T10:42:33.912967Z"
    }
   },
   "outputs": [
    {
     "data": {
      "text/html": [
       "<div>\n",
       "<style scoped>\n",
       "    .dataframe tbody tr th:only-of-type {\n",
       "        vertical-align: middle;\n",
       "    }\n",
       "\n",
       "    .dataframe tbody tr th {\n",
       "        vertical-align: top;\n",
       "    }\n",
       "\n",
       "    .dataframe thead th {\n",
       "        text-align: right;\n",
       "    }\n",
       "</style>\n",
       "<table border=\"1\" class=\"dataframe\">\n",
       "  <thead>\n",
       "    <tr style=\"text-align: right;\">\n",
       "      <th></th>\n",
       "      <th>manager</th>\n",
       "      <th>date</th>\n",
       "      <th>country</th>\n",
       "      <th>gender</th>\n",
       "      <th>age</th>\n",
       "      <th>q1</th>\n",
       "      <th>q2</th>\n",
       "      <th>q3</th>\n",
       "      <th>q4</th>\n",
       "      <th>q5</th>\n",
       "      <th>agecat</th>\n",
       "    </tr>\n",
       "  </thead>\n",
       "  <tbody>\n",
       "    <tr>\n",
       "      <th>4</th>\n",
       "      <td>5</td>\n",
       "      <td>2009-05-01</td>\n",
       "      <td>UK</td>\n",
       "      <td>F</td>\n",
       "      <td>NaN</td>\n",
       "      <td>2</td>\n",
       "      <td>2</td>\n",
       "      <td>1</td>\n",
       "      <td>2.0</td>\n",
       "      <td>1.0</td>\n",
       "      <td>NaN</td>\n",
       "    </tr>\n",
       "  </tbody>\n",
       "</table>\n",
       "</div>"
      ],
      "text/plain": [
       "   manager       date country gender  age  q1  q2  q3   q4   q5 agecat\n",
       "4        5 2009-05-01      UK      F  NaN   2   2   1  2.0  1.0    NaN"
      ]
     },
     "execution_count": 49,
     "metadata": {},
     "output_type": "execute_result"
    }
   ],
   "source": [
    "startdate = pd.to_datetime(\"2009-01-01\")\n",
    "enddate = pd.to_datetime(\"2009-10-31\")\n",
    "\n",
    "leadership.loc[(leadership.date >= startdate) & (leadership.date <= enddate),:]"
   ]
  },
  {
   "cell_type": "markdown",
   "metadata": {},
   "source": [
    "### query()方法"
   ]
  },
  {
   "cell_type": "code",
   "execution_count": 50,
   "metadata": {
    "execution": {
     "iopub.execute_input": "2020-10-12T10:42:34.000539Z",
     "iopub.status.busy": "2020-10-12T10:42:33.996487Z",
     "iopub.status.idle": "2020-10-12T10:42:34.076601Z",
     "shell.execute_reply": "2020-10-12T10:42:34.072620Z",
     "shell.execute_reply.started": "2020-10-12T10:42:34.000539Z"
    }
   },
   "outputs": [
    {
     "data": {
      "text/html": [
       "<div>\n",
       "<style scoped>\n",
       "    .dataframe tbody tr th:only-of-type {\n",
       "        vertical-align: middle;\n",
       "    }\n",
       "\n",
       "    .dataframe tbody tr th {\n",
       "        vertical-align: top;\n",
       "    }\n",
       "\n",
       "    .dataframe thead th {\n",
       "        text-align: right;\n",
       "    }\n",
       "</style>\n",
       "<table border=\"1\" class=\"dataframe\">\n",
       "  <thead>\n",
       "    <tr style=\"text-align: right;\">\n",
       "      <th></th>\n",
       "      <th>manager</th>\n",
       "      <th>date</th>\n",
       "      <th>country</th>\n",
       "      <th>gender</th>\n",
       "      <th>age</th>\n",
       "      <th>q1</th>\n",
       "      <th>q2</th>\n",
       "      <th>q3</th>\n",
       "      <th>q4</th>\n",
       "      <th>q5</th>\n",
       "      <th>agecat</th>\n",
       "    </tr>\n",
       "  </thead>\n",
       "  <tbody>\n",
       "    <tr>\n",
       "      <th>1</th>\n",
       "      <td>2</td>\n",
       "      <td>2008-10-28</td>\n",
       "      <td>US</td>\n",
       "      <td>F</td>\n",
       "      <td>45.0</td>\n",
       "      <td>3</td>\n",
       "      <td>5</td>\n",
       "      <td>2</td>\n",
       "      <td>5.0</td>\n",
       "      <td>5.0</td>\n",
       "      <td>Young</td>\n",
       "    </tr>\n",
       "    <tr>\n",
       "      <th>3</th>\n",
       "      <td>4</td>\n",
       "      <td>2008-10-12</td>\n",
       "      <td>UK</td>\n",
       "      <td>M</td>\n",
       "      <td>39.0</td>\n",
       "      <td>3</td>\n",
       "      <td>3</td>\n",
       "      <td>4</td>\n",
       "      <td>NaN</td>\n",
       "      <td>NaN</td>\n",
       "      <td>Young</td>\n",
       "    </tr>\n",
       "  </tbody>\n",
       "</table>\n",
       "</div>"
      ],
      "text/plain": [
       "   manager       date country gender   age  q1  q2  q3   q4   q5 agecat\n",
       "1        2 2008-10-28      US      F  45.0   3   5   2  5.0  5.0  Young\n",
       "3        4 2008-10-12      UK      M  39.0   3   3   4  NaN  NaN  Young"
      ]
     },
     "execution_count": 50,
     "metadata": {},
     "output_type": "execute_result"
    }
   ],
   "source": [
    "leadership.query(\"age >= 35 | age < 24\")"
   ]
  },
  {
   "cell_type": "code",
   "execution_count": 51,
   "metadata": {
    "execution": {
     "iopub.execute_input": "2020-10-12T10:42:34.083584Z",
     "iopub.status.busy": "2020-10-12T10:42:34.081593Z",
     "iopub.status.idle": "2020-10-12T10:42:34.157268Z",
     "shell.execute_reply": "2020-10-12T10:42:34.153601Z",
     "shell.execute_reply.started": "2020-10-12T10:42:34.083584Z"
    }
   },
   "outputs": [
    {
     "data": {
      "text/html": [
       "<div>\n",
       "<style scoped>\n",
       "    .dataframe tbody tr th:only-of-type {\n",
       "        vertical-align: middle;\n",
       "    }\n",
       "\n",
       "    .dataframe tbody tr th {\n",
       "        vertical-align: top;\n",
       "    }\n",
       "\n",
       "    .dataframe thead th {\n",
       "        text-align: right;\n",
       "    }\n",
       "</style>\n",
       "<table border=\"1\" class=\"dataframe\">\n",
       "  <thead>\n",
       "    <tr style=\"text-align: right;\">\n",
       "      <th></th>\n",
       "      <th>manager</th>\n",
       "      <th>date</th>\n",
       "      <th>country</th>\n",
       "      <th>gender</th>\n",
       "      <th>age</th>\n",
       "      <th>q1</th>\n",
       "      <th>q2</th>\n",
       "      <th>q3</th>\n",
       "      <th>q4</th>\n",
       "      <th>q5</th>\n",
       "      <th>agecat</th>\n",
       "    </tr>\n",
       "  </thead>\n",
       "  <tbody>\n",
       "    <tr>\n",
       "      <th>4</th>\n",
       "      <td>5</td>\n",
       "      <td>2009-05-01</td>\n",
       "      <td>UK</td>\n",
       "      <td>F</td>\n",
       "      <td>NaN</td>\n",
       "      <td>2</td>\n",
       "      <td>2</td>\n",
       "      <td>1</td>\n",
       "      <td>2.0</td>\n",
       "      <td>1.0</td>\n",
       "      <td>NaN</td>\n",
       "    </tr>\n",
       "  </tbody>\n",
       "</table>\n",
       "</div>"
      ],
      "text/plain": [
       "   manager       date country gender  age  q1  q2  q3   q4   q5 agecat\n",
       "4        5 2009-05-01      UK      F  NaN   2   2   1  2.0  1.0    NaN"
      ]
     },
     "execution_count": 51,
     "metadata": {},
     "output_type": "execute_result"
    }
   ],
   "source": [
    "# 引用外部变量\n",
    "leadership.query(\"@startdate <= date <= @enddate\")"
   ]
  },
  {
   "cell_type": "markdown",
   "metadata": {},
   "source": [
    "### 随机抽样"
   ]
  },
  {
   "cell_type": "code",
   "execution_count": 53,
   "metadata": {
    "execution": {
     "iopub.execute_input": "2020-10-12T10:45:29.939859Z",
     "iopub.status.busy": "2020-10-12T10:45:29.939859Z",
     "iopub.status.idle": "2020-10-12T10:45:29.990411Z",
     "shell.execute_reply": "2020-10-12T10:45:29.990411Z",
     "shell.execute_reply.started": "2020-10-12T10:45:29.939859Z"
    }
   },
   "outputs": [
    {
     "data": {
      "text/html": [
       "<div>\n",
       "<style scoped>\n",
       "    .dataframe tbody tr th:only-of-type {\n",
       "        vertical-align: middle;\n",
       "    }\n",
       "\n",
       "    .dataframe tbody tr th {\n",
       "        vertical-align: top;\n",
       "    }\n",
       "\n",
       "    .dataframe thead th {\n",
       "        text-align: right;\n",
       "    }\n",
       "</style>\n",
       "<table border=\"1\" class=\"dataframe\">\n",
       "  <thead>\n",
       "    <tr style=\"text-align: right;\">\n",
       "      <th></th>\n",
       "      <th>manager</th>\n",
       "      <th>date</th>\n",
       "      <th>country</th>\n",
       "      <th>gender</th>\n",
       "      <th>age</th>\n",
       "      <th>q1</th>\n",
       "      <th>q2</th>\n",
       "      <th>q3</th>\n",
       "      <th>q4</th>\n",
       "      <th>q5</th>\n",
       "      <th>agecat</th>\n",
       "    </tr>\n",
       "  </thead>\n",
       "  <tbody>\n",
       "    <tr>\n",
       "      <th>3</th>\n",
       "      <td>4</td>\n",
       "      <td>2008-10-12</td>\n",
       "      <td>UK</td>\n",
       "      <td>M</td>\n",
       "      <td>39.0</td>\n",
       "      <td>3</td>\n",
       "      <td>3</td>\n",
       "      <td>4</td>\n",
       "      <td>NaN</td>\n",
       "      <td>NaN</td>\n",
       "      <td>Young</td>\n",
       "    </tr>\n",
       "    <tr>\n",
       "      <th>2</th>\n",
       "      <td>3</td>\n",
       "      <td>2008-10-01</td>\n",
       "      <td>UK</td>\n",
       "      <td>F</td>\n",
       "      <td>25.0</td>\n",
       "      <td>3</td>\n",
       "      <td>5</td>\n",
       "      <td>5</td>\n",
       "      <td>5.0</td>\n",
       "      <td>2.0</td>\n",
       "      <td>Young</td>\n",
       "    </tr>\n",
       "  </tbody>\n",
       "</table>\n",
       "</div>"
      ],
      "text/plain": [
       "   manager       date country gender   age  q1  q2  q3   q4   q5 agecat\n",
       "3        4 2008-10-12      UK      M  39.0   3   3   4  NaN  NaN  Young\n",
       "2        3 2008-10-01      UK      F  25.0   3   5   5  5.0  2.0  Young"
      ]
     },
     "execution_count": 53,
     "metadata": {},
     "output_type": "execute_result"
    }
   ],
   "source": [
    "leadership.sample(n=2)"
   ]
  },
  {
   "cell_type": "code",
   "execution_count": 54,
   "metadata": {
    "execution": {
     "iopub.execute_input": "2020-10-12T10:45:49.559157Z",
     "iopub.status.busy": "2020-10-12T10:45:49.559157Z",
     "iopub.status.idle": "2020-10-12T10:45:49.608381Z",
     "shell.execute_reply": "2020-10-12T10:45:49.604391Z",
     "shell.execute_reply.started": "2020-10-12T10:45:49.559157Z"
    }
   },
   "outputs": [
    {
     "data": {
      "text/html": [
       "<div>\n",
       "<style scoped>\n",
       "    .dataframe tbody tr th:only-of-type {\n",
       "        vertical-align: middle;\n",
       "    }\n",
       "\n",
       "    .dataframe tbody tr th {\n",
       "        vertical-align: top;\n",
       "    }\n",
       "\n",
       "    .dataframe thead th {\n",
       "        text-align: right;\n",
       "    }\n",
       "</style>\n",
       "<table border=\"1\" class=\"dataframe\">\n",
       "  <thead>\n",
       "    <tr style=\"text-align: right;\">\n",
       "      <th></th>\n",
       "      <th>manager</th>\n",
       "      <th>date</th>\n",
       "      <th>country</th>\n",
       "      <th>gender</th>\n",
       "      <th>age</th>\n",
       "      <th>q1</th>\n",
       "      <th>q2</th>\n",
       "      <th>q3</th>\n",
       "      <th>q4</th>\n",
       "      <th>q5</th>\n",
       "      <th>agecat</th>\n",
       "    </tr>\n",
       "  </thead>\n",
       "  <tbody>\n",
       "    <tr>\n",
       "      <th>3</th>\n",
       "      <td>4</td>\n",
       "      <td>2008-10-12</td>\n",
       "      <td>UK</td>\n",
       "      <td>M</td>\n",
       "      <td>39.0</td>\n",
       "      <td>3</td>\n",
       "      <td>3</td>\n",
       "      <td>4</td>\n",
       "      <td>NaN</td>\n",
       "      <td>NaN</td>\n",
       "      <td>Young</td>\n",
       "    </tr>\n",
       "    <tr>\n",
       "      <th>1</th>\n",
       "      <td>2</td>\n",
       "      <td>2008-10-28</td>\n",
       "      <td>US</td>\n",
       "      <td>F</td>\n",
       "      <td>45.0</td>\n",
       "      <td>3</td>\n",
       "      <td>5</td>\n",
       "      <td>2</td>\n",
       "      <td>5.0</td>\n",
       "      <td>5.0</td>\n",
       "      <td>Young</td>\n",
       "    </tr>\n",
       "  </tbody>\n",
       "</table>\n",
       "</div>"
      ],
      "text/plain": [
       "   manager       date country gender   age  q1  q2  q3   q4   q5 agecat\n",
       "3        4 2008-10-12      UK      M  39.0   3   3   4  NaN  NaN  Young\n",
       "1        2 2008-10-28      US      F  45.0   3   5   2  5.0  5.0  Young"
      ]
     },
     "execution_count": 54,
     "metadata": {},
     "output_type": "execute_result"
    }
   ],
   "source": [
    "leadership.sample(frac=0.4)"
   ]
  },
  {
   "cell_type": "code",
   "execution_count": null,
   "metadata": {},
   "outputs": [],
   "source": []
  }
 ],
 "metadata": {
  "kernelspec": {
   "display_name": "Python 3",
   "language": "python",
   "name": "python3"
  },
  "language_info": {
   "codemirror_mode": {
    "name": "ipython",
    "version": 3
   },
   "file_extension": ".py",
   "mimetype": "text/x-python",
   "name": "python",
   "nbconvert_exporter": "python",
   "pygments_lexer": "ipython3",
   "version": "3.7.7"
  }
 },
 "nbformat": 4,
 "nbformat_minor": 4
}
