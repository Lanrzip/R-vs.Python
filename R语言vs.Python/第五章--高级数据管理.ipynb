{
 "cells": [
  {
   "cell_type": "markdown",
   "metadata": {},
   "source": [
    "# 高级数据管理"
   ]
  },
  {
   "cell_type": "markdown",
   "metadata": {},
   "source": [
    "## 数值和字符处理函数"
   ]
  },
  {
   "cell_type": "markdown",
   "metadata": {},
   "source": [
    "### 数学函数"
   ]
  },
  {
   "cell_type": "markdown",
   "metadata": {},
   "source": [
    "|               函数               |            描述            |\n",
    "| :------------------------------: | :------------------------: |\n",
    "|            np.abs(x)             |           绝对值           |\n",
    "|            np.sqrt(x)            |           平方根           |\n",
    "|            np.ceil(x)            |      大于x的最小整数       |\n",
    "|           np.floor(x)            |      小于x的最大整数       |\n",
    "|           np.trunc(x)            |    向0截取x中的整数部分    |\n",
    "|     np.round(x, decimals=2)      |   将x舍入为指定位的小数    |\n",
    "|     np.cos(x)/sin(x)/tan(x)      |       余弦/正弦/正切       |\n",
    "| np.arccos(x)/arcsin(x)/acrtan(x) |    反余弦/反正弦/反正切    |\n",
    "|    np.cosh(x)/sinh(x)/tanh(x)    | 双曲正弦/双曲余弦/双曲正切 |\n",
    "|            np.log(x)             |       以e为底x的对数       |\n",
    "|           np.log10(x)            |          以10为底          |\n",
    "|            np.log2(x)            |          以2为底           |\n",
    "|            np.exp(x)             |       指数函数$e^x$        |"
   ]
  },
  {
   "cell_type": "markdown",
   "metadata": {},
   "source": [
    "### 统计函数"
   ]
  },
  {
   "cell_type": "markdown",
   "metadata": {},
   "source": [
    "|         函数          |  描述   |\n",
    "| :-------------------: | :-----: |\n",
    "|      np.mean(x)       |  均值   |\n",
    "|     np.median(x)      | 中位数  |\n",
    "|       np.std(x)       | 标准差  |\n",
    "|       np.var(x)       |  方差   |\n",
    "| np.quantile(x, q=0.5) | q分位数 |\n",
    "|       np.sum(x)       |  求和   |\n",
    "|    np.diff(x, n=1)    | n阶差分 |\n",
    "|       np.min(x)       | 最小值  |\n",
    "|       np.max(x)       | 最大值  |"
   ]
  },
  {
   "cell_type": "markdown",
   "metadata": {},
   "source": [
    "**数据的缩放**"
   ]
  },
  {
   "cell_type": "code",
   "execution_count": 84,
   "metadata": {
    "execution": {
     "iopub.execute_input": "2020-10-13T11:33:10.311262Z",
     "iopub.status.busy": "2020-10-13T11:33:10.310219Z",
     "iopub.status.idle": "2020-10-13T11:33:12.330583Z",
     "shell.execute_reply": "2020-10-13T11:33:12.327612Z",
     "shell.execute_reply.started": "2020-10-13T11:33:10.311262Z"
    }
   },
   "outputs": [],
   "source": [
    "from sklearn import preprocessing\n",
    "import numpy as np\n",
    "\n",
    "X_train = np.array([[ 1., -1.,  2.],\n",
    "                    [ 2.,  0.,  0.],\n",
    "                    [ 0.,  1., -1.]])"
   ]
  },
  {
   "cell_type": "code",
   "execution_count": 69,
   "metadata": {
    "execution": {
     "iopub.execute_input": "2020-10-12T11:33:25.913272Z",
     "iopub.status.busy": "2020-10-12T11:33:25.912325Z",
     "iopub.status.idle": "2020-10-12T11:33:25.931563Z",
     "shell.execute_reply": "2020-10-12T11:33:25.928572Z",
     "shell.execute_reply.started": "2020-10-12T11:33:25.913272Z"
    }
   },
   "outputs": [
    {
     "data": {
      "text/plain": [
       "array([[ 0.        , -1.22474487,  1.33630621],\n",
       "       [ 1.22474487,  0.        , -0.26726124],\n",
       "       [-1.22474487,  1.22474487, -1.06904497]])"
      ]
     },
     "execution_count": 69,
     "metadata": {},
     "output_type": "execute_result"
    }
   ],
   "source": [
    "# 标准化\n",
    "X_scaled = preprocessing.scale(X_train)\n",
    "X_scaled"
   ]
  },
  {
   "cell_type": "code",
   "execution_count": 70,
   "metadata": {
    "execution": {
     "iopub.execute_input": "2020-10-12T11:33:49.039809Z",
     "iopub.status.busy": "2020-10-12T11:33:49.037382Z",
     "iopub.status.idle": "2020-10-12T11:33:49.060998Z",
     "shell.execute_reply": "2020-10-12T11:33:49.057338Z",
     "shell.execute_reply.started": "2020-10-12T11:33:49.039809Z"
    }
   },
   "outputs": [
    {
     "name": "stdout",
     "output_type": "stream",
     "text": [
      "[0. 0. 0.]\n",
      "[1. 1. 1.]\n"
     ]
    }
   ],
   "source": [
    "print(X_scaled.mean(axis=0))\n",
    "print(X_scaled.std(axis=0))"
   ]
  },
  {
   "cell_type": "code",
   "execution_count": 71,
   "metadata": {
    "execution": {
     "iopub.execute_input": "2020-10-12T11:36:17.544919Z",
     "iopub.status.busy": "2020-10-12T11:36:17.543927Z",
     "iopub.status.idle": "2020-10-12T11:36:17.565252Z",
     "shell.execute_reply": "2020-10-12T11:36:17.562294Z",
     "shell.execute_reply.started": "2020-10-12T11:36:17.544919Z"
    }
   },
   "outputs": [
    {
     "data": {
      "text/plain": [
       "array([[0.5       , 0.        , 1.        ],\n",
       "       [1.        , 0.5       , 0.33333333],\n",
       "       [0.        , 1.        , 0.        ]])"
      ]
     },
     "execution_count": 71,
     "metadata": {},
     "output_type": "execute_result"
    }
   ],
   "source": [
    "# 归一化\n",
    "min_max_scaler = preprocessing.MinMaxScaler()\n",
    "X_train_minmax = min_max_scaler.fit_transform(X_train)\n",
    "X_train_minmax"
   ]
  },
  {
   "cell_type": "markdown",
   "metadata": {},
   "source": [
    "### 概率函数(正态分布为例)"
   ]
  },
  {
   "cell_type": "code",
   "execution_count": 9,
   "metadata": {
    "execution": {
     "iopub.execute_input": "2020-10-13T10:37:02.642389Z",
     "iopub.status.busy": "2020-10-13T10:37:02.641391Z",
     "iopub.status.idle": "2020-10-13T10:37:02.653359Z",
     "shell.execute_reply": "2020-10-13T10:37:02.650367Z",
     "shell.execute_reply.started": "2020-10-13T10:37:02.642389Z"
    }
   },
   "outputs": [],
   "source": [
    "from scipy.stats import norm\n",
    "import matplotlib.pyplot as plt\n",
    "import numpy as np"
   ]
  },
  {
   "cell_type": "markdown",
   "metadata": {},
   "source": [
    "- rvs：产生服从指定分布的随机数\n",
    "- pdf：求概率密度函数值\n",
    "- cdf：求累积分布函数值\n",
    "- sf：求残存函数值(1-cdf)\n",
    "- ppf：求下侧分位数函数\n",
    "- isf：求上侧分位数函数"
   ]
  },
  {
   "cell_type": "markdown",
   "metadata": {},
   "source": [
    "**rvs随机数**"
   ]
  },
  {
   "cell_type": "code",
   "execution_count": 5,
   "metadata": {
    "execution": {
     "iopub.execute_input": "2020-10-13T10:34:16.549414Z",
     "iopub.status.busy": "2020-10-13T10:34:16.547417Z",
     "iopub.status.idle": "2020-10-13T10:34:18.160112Z",
     "shell.execute_reply": "2020-10-13T10:34:18.157113Z",
     "shell.execute_reply.started": "2020-10-13T10:34:16.549414Z"
    }
   },
   "outputs": [
    {
     "data": {
      "image/png": "[encoded data removed]",
      "text/plain": [
       "<Figure size 432x288 with 1 Axes>"
      ]
     },
     "metadata": {
      "needs_background": "light"
     },
     "output_type": "display_data"
    }
   ],
   "source": [
    "x = norm.rvs(loc=0, scale=1, size=10000) # 均值、方差个数\n",
    "plt.hist(x, bins=100, density=True)\n",
    "plt.show()"
   ]
  },
  {
   "cell_type": "markdown",
   "metadata": {},
   "source": [
    "**pdf概率密度函数**"
   ]
  },
  {
   "cell_type": "code",
   "execution_count": 6,
   "metadata": {
    "execution": {
     "iopub.execute_input": "2020-10-13T10:35:51.978530Z",
     "iopub.status.busy": "2020-10-13T10:35:51.977533Z",
     "iopub.status.idle": "2020-10-13T10:35:52.023419Z",
     "shell.execute_reply": "2020-10-13T10:35:52.020420Z",
     "shell.execute_reply.started": "2020-10-13T10:35:51.978530Z"
    }
   },
   "outputs": [
    {
     "data": {
      "text/plain": [
       "0.3989422804014327"
      ]
     },
     "execution_count": 6,
     "metadata": {},
     "output_type": "execute_result"
    }
   ],
   "source": [
    "norm.pdf(x=0, loc=0, scale=1)"
   ]
  },
  {
   "cell_type": "code",
   "execution_count": 11,
   "metadata": {
    "execution": {
     "iopub.execute_input": "2020-10-13T10:37:57.407181Z",
     "iopub.status.busy": "2020-10-13T10:37:57.406184Z",
     "iopub.status.idle": "2020-10-13T10:37:57.919822Z",
     "shell.execute_reply": "2020-10-13T10:37:57.916870Z",
     "shell.execute_reply.started": "2020-10-13T10:37:57.407181Z"
    }
   },
   "outputs": [
    {
     "data": {
      "image/png": "[encoded data removed]",
      "text/plain": [
       "<Figure size 432x288 with 1 Axes>"
      ]
     },
     "metadata": {
      "needs_background": "light"
     },
     "output_type": "display_data"
    }
   ],
   "source": [
    "x = np.linspace(-5,5, 1000) # 生成[-5,5]之间相同间隔的1000个数\n",
    "y = norm.pdf(x, loc=0, scale=1)\n",
    "plt.plot(x,y)\n",
    "plt.show()"
   ]
  },
  {
   "cell_type": "markdown",
   "metadata": {},
   "source": [
    "**cdf累积分布函数**"
   ]
  },
  {
   "cell_type": "code",
   "execution_count": 12,
   "metadata": {
    "execution": {
     "iopub.execute_input": "2020-10-13T10:38:55.784177Z",
     "iopub.status.busy": "2020-10-13T10:38:55.783182Z",
     "iopub.status.idle": "2020-10-13T10:38:55.836035Z",
     "shell.execute_reply": "2020-10-13T10:38:55.834041Z",
     "shell.execute_reply.started": "2020-10-13T10:38:55.784177Z"
    }
   },
   "outputs": [
    {
     "data": {
      "text/plain": [
       "0.5"
      ]
     },
     "execution_count": 12,
     "metadata": {},
     "output_type": "execute_result"
    }
   ],
   "source": [
    "norm.cdf(x=0, loc=0, scale=1)"
   ]
  },
  {
   "cell_type": "code",
   "execution_count": 13,
   "metadata": {
    "execution": {
     "iopub.execute_input": "2020-10-13T10:39:08.925073Z",
     "iopub.status.busy": "2020-10-13T10:39:08.924078Z",
     "iopub.status.idle": "2020-10-13T10:39:09.460641Z",
     "shell.execute_reply": "2020-10-13T10:39:09.456651Z",
     "shell.execute_reply.started": "2020-10-13T10:39:08.925073Z"
    }
   },
   "outputs": [
    {
     "data": {
      "image/png": "[encoded data removed]",
      "text/plain": [
       "<Figure size 432x288 with 1 Axes>"
      ]
     },
     "metadata": {
      "needs_background": "light"
     },
     "output_type": "display_data"
    }
   ],
   "source": [
    "x = np.linspace(-5,5, 1000)\n",
    "y = norm.cdf(x, loc=0, scale=1)\n",
    "plt.plot(x,y)\n",
    "plt.show()"
   ]
  },
  {
   "cell_type": "markdown",
   "metadata": {},
   "source": [
    "**sf残存函数**"
   ]
  },
  {
   "cell_type": "code",
   "execution_count": 14,
   "metadata": {
    "execution": {
     "iopub.execute_input": "2020-10-13T10:39:40.528503Z",
     "iopub.status.busy": "2020-10-13T10:39:40.527502Z",
     "iopub.status.idle": "2020-10-13T10:39:41.083017Z",
     "shell.execute_reply": "2020-10-13T10:39:41.080023Z",
     "shell.execute_reply.started": "2020-10-13T10:39:40.528503Z"
    }
   },
   "outputs": [
    {
     "data": {
      "image/png": "[encoded data removed]",
      "text/plain": [
       "<Figure size 432x288 with 1 Axes>"
      ]
     },
     "metadata": {
      "needs_background": "light"
     },
     "output_type": "display_data"
    }
   ],
   "source": [
    "x = np.linspace(-5,5, 1000)\n",
    "y = norm.sf(x, loc=0, scale=1)\n",
    "plt.plot(x,y)\n",
    "plt.show()"
   ]
  },
  {
   "cell_type": "markdown",
   "metadata": {},
   "source": [
    "**ppf下侧分位数**"
   ]
  },
  {
   "cell_type": "code",
   "execution_count": 16,
   "metadata": {
    "execution": {
     "iopub.execute_input": "2020-10-13T10:41:55.092496Z",
     "iopub.status.busy": "2020-10-13T10:41:55.091496Z",
     "iopub.status.idle": "2020-10-13T10:41:55.112435Z",
     "shell.execute_reply": "2020-10-13T10:41:55.110441Z",
     "shell.execute_reply.started": "2020-10-13T10:41:55.092496Z"
    }
   },
   "outputs": [
    {
     "data": {
      "text/plain": [
       "1.959963984540054"
      ]
     },
     "execution_count": 16,
     "metadata": {},
     "output_type": "execute_result"
    }
   ],
   "source": [
    "norm.ppf(q=0.975, loc=0, scale=1)"
   ]
  },
  {
   "cell_type": "markdown",
   "metadata": {},
   "source": [
    "**isf上侧分位数**"
   ]
  },
  {
   "cell_type": "code",
   "execution_count": 17,
   "metadata": {
    "execution": {
     "iopub.execute_input": "2020-10-13T10:42:25.992829Z",
     "iopub.status.busy": "2020-10-13T10:42:25.990833Z",
     "iopub.status.idle": "2020-10-13T10:42:26.012782Z",
     "shell.execute_reply": "2020-10-13T10:42:26.008794Z",
     "shell.execute_reply.started": "2020-10-13T10:42:25.991839Z"
    }
   },
   "outputs": [
    {
     "data": {
      "text/plain": [
       "-1.959963984540054"
      ]
     },
     "execution_count": 17,
     "metadata": {},
     "output_type": "execute_result"
    }
   ],
   "source": [
    "norm.isf(q=0.975, loc=0, scale=1)"
   ]
  },
  {
   "cell_type": "markdown",
   "metadata": {},
   "source": [
    "**其余常见分布**"
   ]
  },
  {
   "cell_type": "code",
   "execution_count": 18,
   "metadata": {
    "execution": {
     "iopub.execute_input": "2020-10-13T10:45:45.121853Z",
     "iopub.status.busy": "2020-10-13T10:45:45.120855Z",
     "iopub.status.idle": "2020-10-13T10:45:50.313866Z",
     "shell.execute_reply": "2020-10-13T10:45:50.310879Z",
     "shell.execute_reply.started": "2020-10-13T10:45:45.121853Z"
    }
   },
   "outputs": [
    {
     "data": {
      "text/html": [
       "<div>\n",
       "<style scoped>\n",
       "    .dataframe tbody tr th:only-of-type {\n",
       "        vertical-align: middle;\n",
       "    }\n",
       "\n",
       "    .dataframe tbody tr th {\n",
       "        vertical-align: top;\n",
       "    }\n",
       "\n",
       "    .dataframe thead th {\n",
       "        text-align: right;\n",
       "    }\n",
       "</style>\n",
       "<table border=\"1\" class=\"dataframe\">\n",
       "  <thead>\n",
       "    <tr style=\"text-align: right;\">\n",
       "      <th></th>\n",
       "      <th>名称</th>\n",
       "      <th>含义</th>\n",
       "    </tr>\n",
       "  </thead>\n",
       "  <tbody>\n",
       "    <tr>\n",
       "      <th>0</th>\n",
       "      <td>beta</td>\n",
       "      <td>beta分布</td>\n",
       "    </tr>\n",
       "    <tr>\n",
       "      <th>1</th>\n",
       "      <td>f</td>\n",
       "      <td>F分布</td>\n",
       "    </tr>\n",
       "    <tr>\n",
       "      <th>2</th>\n",
       "      <td>gamma</td>\n",
       "      <td>gam分布</td>\n",
       "    </tr>\n",
       "    <tr>\n",
       "      <th>3</th>\n",
       "      <td>poisson</td>\n",
       "      <td>泊松分布</td>\n",
       "    </tr>\n",
       "    <tr>\n",
       "      <th>4</th>\n",
       "      <td>hypergeom</td>\n",
       "      <td>超几何分布</td>\n",
       "    </tr>\n",
       "    <tr>\n",
       "      <th>5</th>\n",
       "      <td>lognorm</td>\n",
       "      <td>对数正态分布</td>\n",
       "    </tr>\n",
       "    <tr>\n",
       "      <th>6</th>\n",
       "      <td>binom</td>\n",
       "      <td>二项分布</td>\n",
       "    </tr>\n",
       "    <tr>\n",
       "      <th>7</th>\n",
       "      <td>uniform</td>\n",
       "      <td>均匀分布</td>\n",
       "    </tr>\n",
       "    <tr>\n",
       "      <th>8</th>\n",
       "      <td>chi2</td>\n",
       "      <td>卡方分布</td>\n",
       "    </tr>\n",
       "    <tr>\n",
       "      <th>9</th>\n",
       "      <td>cauchy</td>\n",
       "      <td>柯西分布</td>\n",
       "    </tr>\n",
       "    <tr>\n",
       "      <th>10</th>\n",
       "      <td>laplace</td>\n",
       "      <td>拉普拉斯分布</td>\n",
       "    </tr>\n",
       "    <tr>\n",
       "      <th>11</th>\n",
       "      <td>rayleigh</td>\n",
       "      <td>瑞利分布</td>\n",
       "    </tr>\n",
       "    <tr>\n",
       "      <th>12</th>\n",
       "      <td>t</td>\n",
       "      <td>T分布</td>\n",
       "    </tr>\n",
       "    <tr>\n",
       "      <th>13</th>\n",
       "      <td>norm</td>\n",
       "      <td>正态分布</td>\n",
       "    </tr>\n",
       "    <tr>\n",
       "      <th>14</th>\n",
       "      <td>expon</td>\n",
       "      <td>指数分布</td>\n",
       "    </tr>\n",
       "  </tbody>\n",
       "</table>\n",
       "</div>"
      ],
      "text/plain": [
       "           名称      含义\n",
       "0        beta  beta分布\n",
       "1           f     F分布\n",
       "2       gamma   gam分布\n",
       "3     poisson    泊松分布\n",
       "4   hypergeom   超几何分布\n",
       "5     lognorm  对数正态分布\n",
       "6       binom    二项分布\n",
       "7     uniform    均匀分布\n",
       "8        chi2    卡方分布\n",
       "9      cauchy    柯西分布\n",
       "10    laplace  拉普拉斯分布\n",
       "11   rayleigh    瑞利分布\n",
       "12          t     T分布\n",
       "13       norm    正态分布\n",
       "14      expon    指数分布"
      ]
     },
     "execution_count": 18,
     "metadata": {},
     "output_type": "execute_result"
    }
   ],
   "source": [
    "import pandas as pd\n",
    "\n",
    "pd.read_csv(\"常见分布表.csv\")"
   ]
  },
  {
   "cell_type": "code",
   "execution_count": 19,
   "metadata": {
    "execution": {
     "iopub.execute_input": "2020-10-13T10:46:51.747560Z",
     "iopub.status.busy": "2020-10-13T10:46:51.746560Z",
     "iopub.status.idle": "2020-10-13T10:46:52.388043Z",
     "shell.execute_reply": "2020-10-13T10:46:52.386049Z",
     "shell.execute_reply.started": "2020-10-13T10:46:51.746560Z"
    }
   },
   "outputs": [
    {
     "data": {
      "text/plain": [
       "0.0"
      ]
     },
     "execution_count": 19,
     "metadata": {},
     "output_type": "execute_result"
    }
   ],
   "source": [
    "# 示例\n",
    "from scipy.stats import binom\n",
    "binom.ppf(0.05, 5, 0.1)"
   ]
  },
  {
   "cell_type": "markdown",
   "metadata": {},
   "source": [
    "### 字符处理函数"
   ]
  },
  {
   "cell_type": "code",
   "execution_count": 35,
   "metadata": {
    "execution": {
     "iopub.execute_input": "2020-10-13T10:55:46.515967Z",
     "iopub.status.busy": "2020-10-13T10:55:46.513651Z",
     "iopub.status.idle": "2020-10-13T10:55:46.528923Z",
     "shell.execute_reply": "2020-10-13T10:55:46.525931Z",
     "shell.execute_reply.started": "2020-10-13T10:55:46.514978Z"
    }
   },
   "outputs": [],
   "source": [
    "import pandas as pd\n",
    "\n",
    "s = \"aaa234bCDef\""
   ]
  },
  {
   "cell_type": "markdown",
   "metadata": {},
   "source": [
    "**Python内置函数**"
   ]
  },
  {
   "cell_type": "code",
   "execution_count": 36,
   "metadata": {
    "execution": {
     "iopub.execute_input": "2020-10-13T10:55:47.133005Z",
     "iopub.status.busy": "2020-10-13T10:55:47.131003Z",
     "iopub.status.idle": "2020-10-13T10:55:47.154352Z",
     "shell.execute_reply": "2020-10-13T10:55:47.149959Z",
     "shell.execute_reply.started": "2020-10-13T10:55:47.133005Z"
    }
   },
   "outputs": [
    {
     "data": {
      "text/plain": [
       "'222222a234bCDef'"
      ]
     },
     "execution_count": 36,
     "metadata": {},
     "output_type": "execute_result"
    }
   ],
   "source": [
    "s.replace('a', '222', 2) # 替换前两个a为222"
   ]
  },
  {
   "cell_type": "code",
   "execution_count": 37,
   "metadata": {
    "execution": {
     "iopub.execute_input": "2020-10-13T10:55:47.283243Z",
     "iopub.status.busy": "2020-10-13T10:55:47.281247Z",
     "iopub.status.idle": "2020-10-13T10:55:47.301803Z",
     "shell.execute_reply": "2020-10-13T10:55:47.299815Z",
     "shell.execute_reply.started": "2020-10-13T10:55:47.283243Z"
    }
   },
   "outputs": [
    {
     "data": {
      "text/plain": [
       "'Aaa234Bcdef'"
      ]
     },
     "execution_count": 37,
     "metadata": {},
     "output_type": "execute_result"
    }
   ],
   "source": [
    "s.title() # 首字母大小"
   ]
  },
  {
   "cell_type": "code",
   "execution_count": 38,
   "metadata": {
    "execution": {
     "iopub.execute_input": "2020-10-13T10:55:47.470619Z",
     "iopub.status.busy": "2020-10-13T10:55:47.468630Z",
     "iopub.status.idle": "2020-10-13T10:55:47.491740Z",
     "shell.execute_reply": "2020-10-13T10:55:47.487750Z",
     "shell.execute_reply.started": "2020-10-13T10:55:47.470619Z"
    }
   },
   "outputs": [
    {
     "data": {
      "text/plain": [
       "'AAA234BCDEF'"
      ]
     },
     "execution_count": 38,
     "metadata": {},
     "output_type": "execute_result"
    }
   ],
   "source": [
    "s.upper() # 全部大写"
   ]
  },
  {
   "cell_type": "code",
   "execution_count": 39,
   "metadata": {
    "execution": {
     "iopub.execute_input": "2020-10-13T10:55:47.524051Z",
     "iopub.status.busy": "2020-10-13T10:55:47.522740Z",
     "iopub.status.idle": "2020-10-13T10:55:47.543848Z",
     "shell.execute_reply": "2020-10-13T10:55:47.539699Z",
     "shell.execute_reply.started": "2020-10-13T10:55:47.524051Z"
    }
   },
   "outputs": [
    {
     "data": {
      "text/plain": [
       "'aaa234bcdef'"
      ]
     },
     "execution_count": 39,
     "metadata": {},
     "output_type": "execute_result"
    }
   ],
   "source": [
    "s.lower() # 全部小写"
   ]
  },
  {
   "cell_type": "code",
   "execution_count": 40,
   "metadata": {
    "execution": {
     "iopub.execute_input": "2020-10-13T10:55:47.660157Z",
     "iopub.status.busy": "2020-10-13T10:55:47.659160Z",
     "iopub.status.idle": "2020-10-13T10:55:47.680566Z",
     "shell.execute_reply": "2020-10-13T10:55:47.675586Z",
     "shell.execute_reply.started": "2020-10-13T10:55:47.660157Z"
    }
   },
   "outputs": [
    {
     "data": {
      "text/plain": [
       "['aaa234b', 'Def']"
      ]
     },
     "execution_count": 40,
     "metadata": {},
     "output_type": "execute_result"
    }
   ],
   "source": [
    "s.split(\"C\") # 以`C`分割字符串"
   ]
  },
  {
   "cell_type": "markdown",
   "metadata": {},
   "source": [
    "**正则**"
   ]
  },
  {
   "cell_type": "code",
   "execution_count": 41,
   "metadata": {
    "execution": {
     "iopub.execute_input": "2020-10-13T10:55:47.914734Z",
     "iopub.status.busy": "2020-10-13T10:55:47.913716Z",
     "iopub.status.idle": "2020-10-13T10:55:47.927079Z",
     "shell.execute_reply": "2020-10-13T10:55:47.922714Z",
     "shell.execute_reply.started": "2020-10-13T10:55:47.914734Z"
    }
   },
   "outputs": [],
   "source": [
    "import re"
   ]
  },
  {
   "cell_type": "code",
   "execution_count": 45,
   "metadata": {
    "execution": {
     "iopub.execute_input": "2020-10-13T10:58:02.714823Z",
     "iopub.status.busy": "2020-10-13T10:58:02.713815Z",
     "iopub.status.idle": "2020-10-13T10:58:02.730942Z",
     "shell.execute_reply": "2020-10-13T10:58:02.727950Z",
     "shell.execute_reply.started": "2020-10-13T10:58:02.713815Z"
    }
   },
   "outputs": [
    {
     "data": {
      "text/plain": [
       "'aaabCDef'"
      ]
     },
     "execution_count": 45,
     "metadata": {},
     "output_type": "execute_result"
    }
   ],
   "source": [
    "# 替换\n",
    "re.sub(\"\\d\", '', s) # re.sub(pattern, repl, x)；将所有数字替换为空"
   ]
  },
  {
   "cell_type": "code",
   "execution_count": 46,
   "metadata": {
    "execution": {
     "iopub.execute_input": "2020-10-13T10:58:24.680192Z",
     "iopub.status.busy": "2020-10-13T10:58:24.677201Z",
     "iopub.status.idle": "2020-10-13T10:58:24.704474Z",
     "shell.execute_reply": "2020-10-13T10:58:24.700555Z",
     "shell.execute_reply.started": "2020-10-13T10:58:24.679196Z"
    }
   },
   "outputs": [
    {
     "data": {
      "text/plain": [
       "['a', 'a', 'a', 'b', 'e', 'f']"
      ]
     },
     "execution_count": 46,
     "metadata": {},
     "output_type": "execute_result"
    }
   ],
   "source": [
    "# 搜索\n",
    "re.findall(\"[a-z]\", s) # 搜索所有a-z的小写字母"
   ]
  },
  {
   "cell_type": "markdown",
   "metadata": {},
   "source": [
    "### 其他实用函数"
   ]
  },
  {
   "cell_type": "code",
   "execution_count": 52,
   "metadata": {
    "execution": {
     "iopub.execute_input": "2020-10-13T11:00:41.312873Z",
     "iopub.status.busy": "2020-10-13T11:00:41.311824Z",
     "iopub.status.idle": "2020-10-13T11:00:41.330283Z",
     "shell.execute_reply": "2020-10-13T11:00:41.326293Z",
     "shell.execute_reply.started": "2020-10-13T11:00:41.311824Z"
    }
   },
   "outputs": [
    {
     "data": {
      "text/plain": [
       "11"
      ]
     },
     "execution_count": 52,
     "metadata": {},
     "output_type": "execute_result"
    }
   ],
   "source": [
    "len(s) # 求长度"
   ]
  },
  {
   "cell_type": "code",
   "execution_count": 53,
   "metadata": {
    "execution": {
     "iopub.execute_input": "2020-10-13T11:00:41.490896Z",
     "iopub.status.busy": "2020-10-13T11:00:41.489891Z",
     "iopub.status.idle": "2020-10-13T11:00:41.513225Z",
     "shell.execute_reply": "2020-10-13T11:00:41.509236Z",
     "shell.execute_reply.started": "2020-10-13T11:00:41.490896Z"
    }
   },
   "outputs": [
    {
     "data": {
      "text/plain": [
       "array([1, 3, 5, 7, 9])"
      ]
     },
     "execution_count": 53,
     "metadata": {},
     "output_type": "execute_result"
    }
   ],
   "source": [
    "np.arange(1,10,2)"
   ]
  },
  {
   "cell_type": "code",
   "execution_count": 59,
   "metadata": {
    "execution": {
     "iopub.execute_input": "2020-10-13T11:04:15.661987Z",
     "iopub.status.busy": "2020-10-13T11:04:15.660990Z",
     "iopub.status.idle": "2020-10-13T11:04:15.681940Z",
     "shell.execute_reply": "2020-10-13T11:04:15.678949Z",
     "shell.execute_reply.started": "2020-10-13T11:04:15.661987Z"
    }
   },
   "outputs": [
    {
     "data": {
      "text/plain": [
       "array([1, 1, 1, 2, 2, 2, 3, 3, 3])"
      ]
     },
     "execution_count": 59,
     "metadata": {},
     "output_type": "execute_result"
    }
   ],
   "source": [
    "np.repeat([1,2,3], 3)"
   ]
  },
  {
   "cell_type": "code",
   "execution_count": 62,
   "metadata": {
    "execution": {
     "iopub.execute_input": "2020-10-13T11:06:06.254504Z",
     "iopub.status.busy": "2020-10-13T11:06:06.253209Z",
     "iopub.status.idle": "2020-10-13T11:06:06.275135Z",
     "shell.execute_reply": "2020-10-13T11:06:06.271146Z",
     "shell.execute_reply.started": "2020-10-13T11:06:06.254504Z"
    }
   },
   "outputs": [
    {
     "data": {
      "text/plain": [
       "array([  1.  ,  25.75,  50.5 ,  75.25, 100.  ])"
      ]
     },
     "execution_count": 62,
     "metadata": {},
     "output_type": "execute_result"
    }
   ],
   "source": [
    "np.linspace(1, 100, num=5) # 1到100之间生成间隔相同的5个数"
   ]
  },
  {
   "cell_type": "code",
   "execution_count": 66,
   "metadata": {
    "execution": {
     "iopub.execute_input": "2020-10-13T11:10:02.623672Z",
     "iopub.status.busy": "2020-10-13T11:10:02.622662Z",
     "iopub.status.idle": "2020-10-13T11:10:02.642609Z",
     "shell.execute_reply": "2020-10-13T11:10:02.639616Z",
     "shell.execute_reply.started": "2020-10-13T11:10:02.623672Z"
    }
   },
   "outputs": [
    {
     "data": {
      "text/plain": [
       "\"Hello Bob . Is't R GREAT?\""
      ]
     },
     "execution_count": 66,
     "metadata": {},
     "output_type": "execute_result"
    }
   ],
   "source": [
    "name = \"Bob\"\n",
    "\" \".join([\"Hello\", name, \".\", \"Is't R\", \"GREAT?\"])"
   ]
  },
  {
   "cell_type": "markdown",
   "metadata": {},
   "source": [
    "### 将函数应用于矩阵和数据框"
   ]
  },
  {
   "cell_type": "code",
   "execution_count": 67,
   "metadata": {
    "execution": {
     "iopub.execute_input": "2020-10-13T11:25:04.228347Z",
     "iopub.status.busy": "2020-10-13T11:25:04.227349Z",
     "iopub.status.idle": "2020-10-13T11:25:04.246665Z",
     "shell.execute_reply": "2020-10-13T11:25:04.243956Z",
     "shell.execute_reply.started": "2020-10-13T11:25:04.228347Z"
    }
   },
   "outputs": [
    {
     "data": {
      "text/plain": [
       "2.23606797749979"
      ]
     },
     "execution_count": 67,
     "metadata": {},
     "output_type": "execute_result"
    }
   ],
   "source": [
    "a = 5\n",
    "np.sqrt(a)"
   ]
  },
  {
   "cell_type": "code",
   "execution_count": 68,
   "metadata": {
    "execution": {
     "iopub.execute_input": "2020-10-13T11:25:40.930427Z",
     "iopub.status.busy": "2020-10-13T11:25:40.928434Z",
     "iopub.status.idle": "2020-10-13T11:25:40.949993Z",
     "shell.execute_reply": "2020-10-13T11:25:40.946002Z",
     "shell.execute_reply.started": "2020-10-13T11:25:40.930427Z"
    }
   },
   "outputs": [
    {
     "data": {
      "text/plain": [
       "array([1., 6., 3.])"
      ]
     },
     "execution_count": 68,
     "metadata": {},
     "output_type": "execute_result"
    }
   ],
   "source": [
    "b = [1.243, 5.654, 2.99]\n",
    "np.round(b)"
   ]
  },
  {
   "cell_type": "code",
   "execution_count": 72,
   "metadata": {
    "execution": {
     "iopub.execute_input": "2020-10-13T11:27:17.859312Z",
     "iopub.status.busy": "2020-10-13T11:27:17.858315Z",
     "iopub.status.idle": "2020-10-13T11:27:17.882258Z",
     "shell.execute_reply": "2020-10-13T11:27:17.879259Z",
     "shell.execute_reply.started": "2020-10-13T11:27:17.859312Z"
    }
   },
   "outputs": [
    {
     "data": {
      "text/plain": [
       "array([[0.22250006, 0.08723575, 0.61586896, 0.70203992],\n",
       "       [0.95731816, 0.1725265 , 0.2262521 , 0.72655558],\n",
       "       [0.27453094, 0.42672861, 0.26270992, 0.50157116]])"
      ]
     },
     "execution_count": 72,
     "metadata": {},
     "output_type": "execute_result"
    }
   ],
   "source": [
    "c = np.random.uniform(0, 1, (3,4))\n",
    "c"
   ]
  },
  {
   "cell_type": "code",
   "execution_count": 73,
   "metadata": {
    "execution": {
     "iopub.execute_input": "2020-10-13T11:27:19.023194Z",
     "iopub.status.busy": "2020-10-13T11:27:19.021200Z",
     "iopub.status.idle": "2020-10-13T11:27:19.045920Z",
     "shell.execute_reply": "2020-10-13T11:27:19.041654Z",
     "shell.execute_reply.started": "2020-10-13T11:27:19.023194Z"
    }
   },
   "outputs": [
    {
     "data": {
      "text/plain": [
       "array([[-1.50282791, -2.43914105, -0.48472106, -0.353765  ],\n",
       "       [-0.04361949, -1.75720441, -1.4861054 , -0.3194403 ],\n",
       "       [-1.29269132, -0.85160704, -1.33670483, -0.6900098 ]])"
      ]
     },
     "execution_count": 73,
     "metadata": {},
     "output_type": "execute_result"
    }
   ],
   "source": [
    "np.log(c)"
   ]
  },
  {
   "cell_type": "code",
   "execution_count": 74,
   "metadata": {
    "execution": {
     "iopub.execute_input": "2020-10-13T11:27:29.751955Z",
     "iopub.status.busy": "2020-10-13T11:27:29.749961Z",
     "iopub.status.idle": "2020-10-13T11:27:29.770251Z",
     "shell.execute_reply": "2020-10-13T11:27:29.767265Z",
     "shell.execute_reply.started": "2020-10-13T11:27:29.751955Z"
    }
   },
   "outputs": [
    {
     "data": {
      "text/plain": [
       "0.43131980511563234"
      ]
     },
     "execution_count": 74,
     "metadata": {},
     "output_type": "execute_result"
    }
   ],
   "source": [
    "np.mean(c)"
   ]
  },
  {
   "cell_type": "code",
   "execution_count": 79,
   "metadata": {
    "execution": {
     "iopub.execute_input": "2020-10-13T11:28:28.834687Z",
     "iopub.status.busy": "2020-10-13T11:28:28.833411Z",
     "iopub.status.idle": "2020-10-13T11:28:28.853333Z",
     "shell.execute_reply": "2020-10-13T11:28:28.849343Z",
     "shell.execute_reply.started": "2020-10-13T11:28:28.834687Z"
    }
   },
   "outputs": [
    {
     "data": {
      "text/plain": [
       "array([0.48478305, 0.22883029, 0.36827699, 0.64338889])"
      ]
     },
     "execution_count": 79,
     "metadata": {},
     "output_type": "execute_result"
    }
   ],
   "source": [
    "np.mean(c, axis=0) # 每一列的均值"
   ]
  },
  {
   "cell_type": "code",
   "execution_count": 80,
   "metadata": {
    "execution": {
     "iopub.execute_input": "2020-10-13T11:28:29.096316Z",
     "iopub.status.busy": "2020-10-13T11:28:29.095328Z",
     "iopub.status.idle": "2020-10-13T11:28:29.114801Z",
     "shell.execute_reply": "2020-10-13T11:28:29.111821Z",
     "shell.execute_reply.started": "2020-10-13T11:28:29.096316Z"
    }
   },
   "outputs": [
    {
     "data": {
      "text/plain": [
       "array([0.40691117, 0.52066309, 0.36638516])"
      ]
     },
     "execution_count": 80,
     "metadata": {},
     "output_type": "execute_result"
    }
   ],
   "source": [
    "np.mean(c, axis=1) # 每一行的均值"
   ]
  },
  {
   "cell_type": "markdown",
   "metadata": {},
   "source": [
    "## 数据处理难题的一套解决方案"
   ]
  },
  {
   "cell_type": "code",
   "execution_count": 2,
   "metadata": {
    "execution": {
     "iopub.execute_input": "2020-10-13T12:22:40.087610Z",
     "iopub.status.busy": "2020-10-13T12:22:40.086658Z",
     "iopub.status.idle": "2020-10-13T12:22:42.840677Z",
     "shell.execute_reply": "2020-10-13T12:22:42.837727Z",
     "shell.execute_reply.started": "2020-10-13T12:22:40.087610Z"
    }
   },
   "outputs": [],
   "source": [
    "from sklearn.preprocessing import scale\n",
    "import pandas as pd\n",
    "import numpy as np\n",
    "\n",
    "# 设置保留2位小数\n",
    "np.set_printoptions(precision=2, suppress=True)\n",
    "pd.set_option('display.float_format',lambda x : '%.2f' % x)"
   ]
  },
  {
   "cell_type": "code",
   "execution_count": 121,
   "metadata": {
    "execution": {
     "iopub.execute_input": "2020-10-13T12:03:00.408917Z",
     "iopub.status.busy": "2020-10-13T12:03:00.407920Z",
     "iopub.status.idle": "2020-10-13T12:03:00.465595Z",
     "shell.execute_reply": "2020-10-13T12:03:00.462555Z",
     "shell.execute_reply.started": "2020-10-13T12:03:00.408917Z"
    }
   },
   "outputs": [
    {
     "data": {
      "text/html": [
       "<div>\n",
       "<style scoped>\n",
       "    .dataframe tbody tr th:only-of-type {\n",
       "        vertical-align: middle;\n",
       "    }\n",
       "\n",
       "    .dataframe tbody tr th {\n",
       "        vertical-align: top;\n",
       "    }\n",
       "\n",
       "    .dataframe thead th {\n",
       "        text-align: right;\n",
       "    }\n",
       "</style>\n",
       "<table border=\"1\" class=\"dataframe\">\n",
       "  <thead>\n",
       "    <tr style=\"text-align: right;\">\n",
       "      <th></th>\n",
       "      <th>student</th>\n",
       "      <th>math</th>\n",
       "      <th>science</th>\n",
       "      <th>english</th>\n",
       "    </tr>\n",
       "  </thead>\n",
       "  <tbody>\n",
       "    <tr>\n",
       "      <th>0</th>\n",
       "      <td>John Davis</td>\n",
       "      <td>502</td>\n",
       "      <td>95</td>\n",
       "      <td>25</td>\n",
       "    </tr>\n",
       "    <tr>\n",
       "      <th>1</th>\n",
       "      <td>Angela Williams</td>\n",
       "      <td>600</td>\n",
       "      <td>99</td>\n",
       "      <td>22</td>\n",
       "    </tr>\n",
       "    <tr>\n",
       "      <th>2</th>\n",
       "      <td>Bullwinkle Moose</td>\n",
       "      <td>412</td>\n",
       "      <td>80</td>\n",
       "      <td>18</td>\n",
       "    </tr>\n",
       "    <tr>\n",
       "      <th>3</th>\n",
       "      <td>David Jones</td>\n",
       "      <td>358</td>\n",
       "      <td>82</td>\n",
       "      <td>15</td>\n",
       "    </tr>\n",
       "    <tr>\n",
       "      <th>4</th>\n",
       "      <td>Janice Markhammer</td>\n",
       "      <td>495</td>\n",
       "      <td>75</td>\n",
       "      <td>20</td>\n",
       "    </tr>\n",
       "    <tr>\n",
       "      <th>5</th>\n",
       "      <td>Cheryl Cushing</td>\n",
       "      <td>512</td>\n",
       "      <td>85</td>\n",
       "      <td>28</td>\n",
       "    </tr>\n",
       "    <tr>\n",
       "      <th>6</th>\n",
       "      <td>Reuven Ytzrhak</td>\n",
       "      <td>410</td>\n",
       "      <td>80</td>\n",
       "      <td>15</td>\n",
       "    </tr>\n",
       "    <tr>\n",
       "      <th>7</th>\n",
       "      <td>Greg Knox</td>\n",
       "      <td>625</td>\n",
       "      <td>95</td>\n",
       "      <td>30</td>\n",
       "    </tr>\n",
       "    <tr>\n",
       "      <th>8</th>\n",
       "      <td>Joel England</td>\n",
       "      <td>573</td>\n",
       "      <td>89</td>\n",
       "      <td>27</td>\n",
       "    </tr>\n",
       "    <tr>\n",
       "      <th>9</th>\n",
       "      <td>Mary Rayburn</td>\n",
       "      <td>522</td>\n",
       "      <td>86</td>\n",
       "      <td>18</td>\n",
       "    </tr>\n",
       "  </tbody>\n",
       "</table>\n",
       "</div>"
      ],
      "text/plain": [
       "             student  math  science  english\n",
       "0         John Davis   502       95       25\n",
       "1    Angela Williams   600       99       22\n",
       "2   Bullwinkle Moose   412       80       18\n",
       "3        David Jones   358       82       15\n",
       "4  Janice Markhammer   495       75       20\n",
       "5     Cheryl Cushing   512       85       28\n",
       "6     Reuven Ytzrhak   410       80       15\n",
       "7          Greg Knox   625       95       30\n",
       "8       Joel England   573       89       27\n",
       "9       Mary Rayburn   522       86       18"
      ]
     },
     "execution_count": 121,
     "metadata": {},
     "output_type": "execute_result"
    }
   ],
   "source": [
    "student = [\"John Davis\", \"Angela Williams\", \"Bullwinkle Moose\",\n",
    "            \"David Jones\", \"Janice Markhammer\", \"Cheryl Cushing\",\n",
    "            \"Reuven Ytzrhak\", \"Greg Knox\", \"Joel England\",\n",
    "            \"Mary Rayburn\"]\n",
    "math = [502, 600, 412, 358, 495, 512, 410, 625, 573, 522]\n",
    "science = [95, 99, 80, 82, 75, 85, 80, 95, 89, 86]\n",
    "english = [25, 22, 18, 15, 20, 28, 15, 30, 27, 18]\n",
    "roster = pd.DataFrame({'student': student,\n",
    "                        'math': math,\n",
    "                        'science': science,\n",
    "                        'english': english})\n",
    "roster"
   ]
  },
  {
   "cell_type": "code",
   "execution_count": 122,
   "metadata": {
    "execution": {
     "iopub.execute_input": "2020-10-13T12:03:00.718142Z",
     "iopub.status.busy": "2020-10-13T12:03:00.717142Z",
     "iopub.status.idle": "2020-10-13T12:03:00.785325Z",
     "shell.execute_reply": "2020-10-13T12:03:00.782337Z",
     "shell.execute_reply.started": "2020-10-13T12:03:00.718142Z"
    }
   },
   "outputs": [
    {
     "data": {
      "text/html": [
       "<div>\n",
       "<style scoped>\n",
       "    .dataframe tbody tr th:only-of-type {\n",
       "        vertical-align: middle;\n",
       "    }\n",
       "\n",
       "    .dataframe tbody tr th {\n",
       "        vertical-align: top;\n",
       "    }\n",
       "\n",
       "    .dataframe thead th {\n",
       "        text-align: right;\n",
       "    }\n",
       "</style>\n",
       "<table border=\"1\" class=\"dataframe\">\n",
       "  <thead>\n",
       "    <tr style=\"text-align: right;\">\n",
       "      <th></th>\n",
       "      <th>student</th>\n",
       "      <th>math</th>\n",
       "      <th>science</th>\n",
       "      <th>english</th>\n",
       "      <th>score</th>\n",
       "    </tr>\n",
       "  </thead>\n",
       "  <tbody>\n",
       "    <tr>\n",
       "      <th>0</th>\n",
       "      <td>John Davis</td>\n",
       "      <td>502</td>\n",
       "      <td>95</td>\n",
       "      <td>25</td>\n",
       "      <td>0.59</td>\n",
       "    </tr>\n",
       "    <tr>\n",
       "      <th>1</th>\n",
       "      <td>Angela Williams</td>\n",
       "      <td>600</td>\n",
       "      <td>99</td>\n",
       "      <td>22</td>\n",
       "      <td>0.97</td>\n",
       "    </tr>\n",
       "    <tr>\n",
       "      <th>2</th>\n",
       "      <td>Bullwinkle Moose</td>\n",
       "      <td>412</td>\n",
       "      <td>80</td>\n",
       "      <td>18</td>\n",
       "      <td>-0.90</td>\n",
       "    </tr>\n",
       "    <tr>\n",
       "      <th>3</th>\n",
       "      <td>David Jones</td>\n",
       "      <td>358</td>\n",
       "      <td>82</td>\n",
       "      <td>15</td>\n",
       "      <td>-1.22</td>\n",
       "    </tr>\n",
       "    <tr>\n",
       "      <th>4</th>\n",
       "      <td>Janice Markhammer</td>\n",
       "      <td>495</td>\n",
       "      <td>75</td>\n",
       "      <td>20</td>\n",
       "      <td>-0.66</td>\n",
       "    </tr>\n",
       "    <tr>\n",
       "      <th>5</th>\n",
       "      <td>Cheryl Cushing</td>\n",
       "      <td>512</td>\n",
       "      <td>85</td>\n",
       "      <td>28</td>\n",
       "      <td>0.37</td>\n",
       "    </tr>\n",
       "    <tr>\n",
       "      <th>6</th>\n",
       "      <td>Reuven Ytzrhak</td>\n",
       "      <td>410</td>\n",
       "      <td>80</td>\n",
       "      <td>15</td>\n",
       "      <td>-1.10</td>\n",
       "    </tr>\n",
       "    <tr>\n",
       "      <th>7</th>\n",
       "      <td>Greg Knox</td>\n",
       "      <td>625</td>\n",
       "      <td>95</td>\n",
       "      <td>30</td>\n",
       "      <td>1.41</td>\n",
       "    </tr>\n",
       "    <tr>\n",
       "      <th>8</th>\n",
       "      <td>Joel England</td>\n",
       "      <td>573</td>\n",
       "      <td>89</td>\n",
       "      <td>27</td>\n",
       "      <td>0.74</td>\n",
       "    </tr>\n",
       "    <tr>\n",
       "      <th>9</th>\n",
       "      <td>Mary Rayburn</td>\n",
       "      <td>522</td>\n",
       "      <td>86</td>\n",
       "      <td>18</td>\n",
       "      <td>-0.19</td>\n",
       "    </tr>\n",
       "  </tbody>\n",
       "</table>\n",
       "</div>"
      ],
      "text/plain": [
       "             student  math  science  english  score\n",
       "0         John Davis   502       95       25   0.59\n",
       "1    Angela Williams   600       99       22   0.97\n",
       "2   Bullwinkle Moose   412       80       18  -0.90\n",
       "3        David Jones   358       82       15  -1.22\n",
       "4  Janice Markhammer   495       75       20  -0.66\n",
       "5     Cheryl Cushing   512       85       28   0.37\n",
       "6     Reuven Ytzrhak   410       80       15  -1.10\n",
       "7          Greg Knox   625       95       30   1.41\n",
       "8       Joel England   573       89       27   0.74\n",
       "9       Mary Rayburn   522       86       18  -0.19"
      ]
     },
     "execution_count": 122,
     "metadata": {},
     "output_type": "execute_result"
    }
   ],
   "source": [
    "z = scale(roster.iloc[:, 1:])\n",
    "score = np.mean(z, axis=1)\n",
    "roster['score'] = score\n",
    "roster"
   ]
  },
  {
   "cell_type": "code",
   "execution_count": 123,
   "metadata": {
    "execution": {
     "iopub.execute_input": "2020-10-13T12:03:00.923869Z",
     "iopub.status.busy": "2020-10-13T12:03:00.922047Z",
     "iopub.status.idle": "2020-10-13T12:03:00.951174Z",
     "shell.execute_reply": "2020-10-13T12:03:00.947191Z",
     "shell.execute_reply.started": "2020-10-13T12:03:00.923869Z"
    }
   },
   "outputs": [
    {
     "data": {
      "text/plain": [
       "array([ 0.78,  0.46, -0.38, -0.94])"
      ]
     },
     "execution_count": 123,
     "metadata": {},
     "output_type": "execute_result"
    }
   ],
   "source": [
    "y = np.quantile(score, q=[.8, .6, .4, .2])\n",
    "y"
   ]
  },
  {
   "cell_type": "code",
   "execution_count": 124,
   "metadata": {
    "execution": {
     "iopub.execute_input": "2020-10-13T12:03:01.187957Z",
     "iopub.status.busy": "2020-10-13T12:03:01.185967Z",
     "iopub.status.idle": "2020-10-13T12:03:01.275620Z",
     "shell.execute_reply": "2020-10-13T12:03:01.271630Z",
     "shell.execute_reply.started": "2020-10-13T12:03:01.187957Z"
    }
   },
   "outputs": [
    {
     "data": {
      "text/html": [
       "<div>\n",
       "<style scoped>\n",
       "    .dataframe tbody tr th:only-of-type {\n",
       "        vertical-align: middle;\n",
       "    }\n",
       "\n",
       "    .dataframe tbody tr th {\n",
       "        vertical-align: top;\n",
       "    }\n",
       "\n",
       "    .dataframe thead th {\n",
       "        text-align: right;\n",
       "    }\n",
       "</style>\n",
       "<table border=\"1\" class=\"dataframe\">\n",
       "  <thead>\n",
       "    <tr style=\"text-align: right;\">\n",
       "      <th></th>\n",
       "      <th>student</th>\n",
       "      <th>math</th>\n",
       "      <th>science</th>\n",
       "      <th>english</th>\n",
       "      <th>score</th>\n",
       "      <th>grade</th>\n",
       "    </tr>\n",
       "  </thead>\n",
       "  <tbody>\n",
       "    <tr>\n",
       "      <th>0</th>\n",
       "      <td>John Davis</td>\n",
       "      <td>502</td>\n",
       "      <td>95</td>\n",
       "      <td>25</td>\n",
       "      <td>0.59</td>\n",
       "      <td>B</td>\n",
       "    </tr>\n",
       "    <tr>\n",
       "      <th>1</th>\n",
       "      <td>Angela Williams</td>\n",
       "      <td>600</td>\n",
       "      <td>99</td>\n",
       "      <td>22</td>\n",
       "      <td>0.97</td>\n",
       "      <td>A</td>\n",
       "    </tr>\n",
       "    <tr>\n",
       "      <th>2</th>\n",
       "      <td>Bullwinkle Moose</td>\n",
       "      <td>412</td>\n",
       "      <td>80</td>\n",
       "      <td>18</td>\n",
       "      <td>-0.90</td>\n",
       "      <td>D</td>\n",
       "    </tr>\n",
       "    <tr>\n",
       "      <th>3</th>\n",
       "      <td>David Jones</td>\n",
       "      <td>358</td>\n",
       "      <td>82</td>\n",
       "      <td>15</td>\n",
       "      <td>-1.22</td>\n",
       "      <td>F</td>\n",
       "    </tr>\n",
       "    <tr>\n",
       "      <th>4</th>\n",
       "      <td>Janice Markhammer</td>\n",
       "      <td>495</td>\n",
       "      <td>75</td>\n",
       "      <td>20</td>\n",
       "      <td>-0.66</td>\n",
       "      <td>D</td>\n",
       "    </tr>\n",
       "    <tr>\n",
       "      <th>5</th>\n",
       "      <td>Cheryl Cushing</td>\n",
       "      <td>512</td>\n",
       "      <td>85</td>\n",
       "      <td>28</td>\n",
       "      <td>0.37</td>\n",
       "      <td>C</td>\n",
       "    </tr>\n",
       "    <tr>\n",
       "      <th>6</th>\n",
       "      <td>Reuven Ytzrhak</td>\n",
       "      <td>410</td>\n",
       "      <td>80</td>\n",
       "      <td>15</td>\n",
       "      <td>-1.10</td>\n",
       "      <td>F</td>\n",
       "    </tr>\n",
       "    <tr>\n",
       "      <th>7</th>\n",
       "      <td>Greg Knox</td>\n",
       "      <td>625</td>\n",
       "      <td>95</td>\n",
       "      <td>30</td>\n",
       "      <td>1.41</td>\n",
       "      <td>A</td>\n",
       "    </tr>\n",
       "    <tr>\n",
       "      <th>8</th>\n",
       "      <td>Joel England</td>\n",
       "      <td>573</td>\n",
       "      <td>89</td>\n",
       "      <td>27</td>\n",
       "      <td>0.74</td>\n",
       "      <td>B</td>\n",
       "    </tr>\n",
       "    <tr>\n",
       "      <th>9</th>\n",
       "      <td>Mary Rayburn</td>\n",
       "      <td>522</td>\n",
       "      <td>86</td>\n",
       "      <td>18</td>\n",
       "      <td>-0.19</td>\n",
       "      <td>C</td>\n",
       "    </tr>\n",
       "  </tbody>\n",
       "</table>\n",
       "</div>"
      ],
      "text/plain": [
       "             student  math  science  english  score grade\n",
       "0         John Davis   502       95       25   0.59     B\n",
       "1    Angela Williams   600       99       22   0.97     A\n",
       "2   Bullwinkle Moose   412       80       18  -0.90     D\n",
       "3        David Jones   358       82       15  -1.22     F\n",
       "4  Janice Markhammer   495       75       20  -0.66     D\n",
       "5     Cheryl Cushing   512       85       28   0.37     C\n",
       "6     Reuven Ytzrhak   410       80       15  -1.10     F\n",
       "7          Greg Knox   625       95       30   1.41     A\n",
       "8       Joel England   573       89       27   0.74     B\n",
       "9       Mary Rayburn   522       86       18  -0.19     C"
      ]
     },
     "execution_count": 124,
     "metadata": {},
     "output_type": "execute_result"
    }
   ],
   "source": [
    "def my_func(x):\n",
    "    if x >= y[0]:\n",
    "        s = \"A\"\n",
    "    elif y[1] <= x <= y[0]:\n",
    "        s = \"B\"\n",
    "    elif y[2] <= x <= y[1]:\n",
    "        s = \"C\"\n",
    "    elif y[3] <= x <= y[2]:\n",
    "        s = \"D\"\n",
    "    elif x <= y[3]:\n",
    "        s = \"F\"\n",
    "    else:\n",
    "        s = x\n",
    "    return s\n",
    "\n",
    "roster['grade'] = roster['score'].apply(my_func)\n",
    "roster"
   ]
  },
  {
   "cell_type": "code",
   "execution_count": 125,
   "metadata": {
    "execution": {
     "iopub.execute_input": "2020-10-13T12:03:03.197381Z",
     "iopub.status.busy": "2020-10-13T12:03:03.196395Z",
     "iopub.status.idle": "2020-10-13T12:03:03.262233Z",
     "shell.execute_reply": "2020-10-13T12:03:03.260244Z",
     "shell.execute_reply.started": "2020-10-13T12:03:03.197381Z"
    }
   },
   "outputs": [
    {
     "data": {
      "text/html": [
       "<div>\n",
       "<style scoped>\n",
       "    .dataframe tbody tr th:only-of-type {\n",
       "        vertical-align: middle;\n",
       "    }\n",
       "\n",
       "    .dataframe tbody tr th {\n",
       "        vertical-align: top;\n",
       "    }\n",
       "\n",
       "    .dataframe thead th {\n",
       "        text-align: right;\n",
       "    }\n",
       "</style>\n",
       "<table border=\"1\" class=\"dataframe\">\n",
       "  <thead>\n",
       "    <tr style=\"text-align: right;\">\n",
       "      <th></th>\n",
       "      <th>firstname</th>\n",
       "      <th>lastname</th>\n",
       "      <th>math</th>\n",
       "      <th>science</th>\n",
       "      <th>english</th>\n",
       "      <th>score</th>\n",
       "      <th>grade</th>\n",
       "    </tr>\n",
       "  </thead>\n",
       "  <tbody>\n",
       "    <tr>\n",
       "      <th>0</th>\n",
       "      <td>John</td>\n",
       "      <td>Davis</td>\n",
       "      <td>502</td>\n",
       "      <td>95</td>\n",
       "      <td>25</td>\n",
       "      <td>0.59</td>\n",
       "      <td>B</td>\n",
       "    </tr>\n",
       "    <tr>\n",
       "      <th>1</th>\n",
       "      <td>Angela</td>\n",
       "      <td>Williams</td>\n",
       "      <td>600</td>\n",
       "      <td>99</td>\n",
       "      <td>22</td>\n",
       "      <td>0.97</td>\n",
       "      <td>A</td>\n",
       "    </tr>\n",
       "    <tr>\n",
       "      <th>2</th>\n",
       "      <td>Bullwinkle</td>\n",
       "      <td>Moose</td>\n",
       "      <td>412</td>\n",
       "      <td>80</td>\n",
       "      <td>18</td>\n",
       "      <td>-0.90</td>\n",
       "      <td>D</td>\n",
       "    </tr>\n",
       "    <tr>\n",
       "      <th>3</th>\n",
       "      <td>David</td>\n",
       "      <td>Jones</td>\n",
       "      <td>358</td>\n",
       "      <td>82</td>\n",
       "      <td>15</td>\n",
       "      <td>-1.22</td>\n",
       "      <td>F</td>\n",
       "    </tr>\n",
       "    <tr>\n",
       "      <th>4</th>\n",
       "      <td>Janice</td>\n",
       "      <td>Markhammer</td>\n",
       "      <td>495</td>\n",
       "      <td>75</td>\n",
       "      <td>20</td>\n",
       "      <td>-0.66</td>\n",
       "      <td>D</td>\n",
       "    </tr>\n",
       "    <tr>\n",
       "      <th>5</th>\n",
       "      <td>Cheryl</td>\n",
       "      <td>Cushing</td>\n",
       "      <td>512</td>\n",
       "      <td>85</td>\n",
       "      <td>28</td>\n",
       "      <td>0.37</td>\n",
       "      <td>C</td>\n",
       "    </tr>\n",
       "    <tr>\n",
       "      <th>6</th>\n",
       "      <td>Reuven</td>\n",
       "      <td>Ytzrhak</td>\n",
       "      <td>410</td>\n",
       "      <td>80</td>\n",
       "      <td>15</td>\n",
       "      <td>-1.10</td>\n",
       "      <td>F</td>\n",
       "    </tr>\n",
       "    <tr>\n",
       "      <th>7</th>\n",
       "      <td>Greg</td>\n",
       "      <td>Knox</td>\n",
       "      <td>625</td>\n",
       "      <td>95</td>\n",
       "      <td>30</td>\n",
       "      <td>1.41</td>\n",
       "      <td>A</td>\n",
       "    </tr>\n",
       "    <tr>\n",
       "      <th>8</th>\n",
       "      <td>Joel</td>\n",
       "      <td>England</td>\n",
       "      <td>573</td>\n",
       "      <td>89</td>\n",
       "      <td>27</td>\n",
       "      <td>0.74</td>\n",
       "      <td>B</td>\n",
       "    </tr>\n",
       "    <tr>\n",
       "      <th>9</th>\n",
       "      <td>Mary</td>\n",
       "      <td>Rayburn</td>\n",
       "      <td>522</td>\n",
       "      <td>86</td>\n",
       "      <td>18</td>\n",
       "      <td>-0.19</td>\n",
       "      <td>C</td>\n",
       "    </tr>\n",
       "  </tbody>\n",
       "</table>\n",
       "</div>"
      ],
      "text/plain": [
       "    firstname    lastname  math  science  english  score grade\n",
       "0        John       Davis   502       95       25   0.59     B\n",
       "1      Angela    Williams   600       99       22   0.97     A\n",
       "2  Bullwinkle       Moose   412       80       18  -0.90     D\n",
       "3       David       Jones   358       82       15  -1.22     F\n",
       "4      Janice  Markhammer   495       75       20  -0.66     D\n",
       "5      Cheryl     Cushing   512       85       28   0.37     C\n",
       "6      Reuven     Ytzrhak   410       80       15  -1.10     F\n",
       "7        Greg        Knox   625       95       30   1.41     A\n",
       "8        Joel     England   573       89       27   0.74     B\n",
       "9        Mary     Rayburn   522       86       18  -0.19     C"
      ]
     },
     "execution_count": 125,
     "metadata": {},
     "output_type": "execute_result"
    }
   ],
   "source": [
    "fullname = roster.student.str.split(' ', expand=True)\n",
    "roster = fullname.join(roster.iloc[:,1:])\n",
    "roster.rename(columns={0:'firstname', 1:'lastname'}, inplace=True)\n",
    "roster"
   ]
  },
  {
   "cell_type": "code",
   "execution_count": 126,
   "metadata": {
    "execution": {
     "iopub.execute_input": "2020-10-13T12:04:00.668186Z",
     "iopub.status.busy": "2020-10-13T12:04:00.667188Z",
     "iopub.status.idle": "2020-10-13T12:04:00.779450Z",
     "shell.execute_reply": "2020-10-13T12:04:00.776458Z",
     "shell.execute_reply.started": "2020-10-13T12:04:00.668186Z"
    }
   },
   "outputs": [
    {
     "data": {
      "text/html": [
       "<div>\n",
       "<style scoped>\n",
       "    .dataframe tbody tr th:only-of-type {\n",
       "        vertical-align: middle;\n",
       "    }\n",
       "\n",
       "    .dataframe tbody tr th {\n",
       "        vertical-align: top;\n",
       "    }\n",
       "\n",
       "    .dataframe thead th {\n",
       "        text-align: right;\n",
       "    }\n",
       "</style>\n",
       "<table border=\"1\" class=\"dataframe\">\n",
       "  <thead>\n",
       "    <tr style=\"text-align: right;\">\n",
       "      <th></th>\n",
       "      <th>firstname</th>\n",
       "      <th>lastname</th>\n",
       "      <th>math</th>\n",
       "      <th>science</th>\n",
       "      <th>english</th>\n",
       "      <th>score</th>\n",
       "      <th>grade</th>\n",
       "    </tr>\n",
       "  </thead>\n",
       "  <tbody>\n",
       "    <tr>\n",
       "      <th>5</th>\n",
       "      <td>Cheryl</td>\n",
       "      <td>Cushing</td>\n",
       "      <td>512</td>\n",
       "      <td>85</td>\n",
       "      <td>28</td>\n",
       "      <td>0.37</td>\n",
       "      <td>C</td>\n",
       "    </tr>\n",
       "    <tr>\n",
       "      <th>0</th>\n",
       "      <td>John</td>\n",
       "      <td>Davis</td>\n",
       "      <td>502</td>\n",
       "      <td>95</td>\n",
       "      <td>25</td>\n",
       "      <td>0.59</td>\n",
       "      <td>B</td>\n",
       "    </tr>\n",
       "    <tr>\n",
       "      <th>8</th>\n",
       "      <td>Joel</td>\n",
       "      <td>England</td>\n",
       "      <td>573</td>\n",
       "      <td>89</td>\n",
       "      <td>27</td>\n",
       "      <td>0.74</td>\n",
       "      <td>B</td>\n",
       "    </tr>\n",
       "    <tr>\n",
       "      <th>3</th>\n",
       "      <td>David</td>\n",
       "      <td>Jones</td>\n",
       "      <td>358</td>\n",
       "      <td>82</td>\n",
       "      <td>15</td>\n",
       "      <td>-1.22</td>\n",
       "      <td>F</td>\n",
       "    </tr>\n",
       "    <tr>\n",
       "      <th>7</th>\n",
       "      <td>Greg</td>\n",
       "      <td>Knox</td>\n",
       "      <td>625</td>\n",
       "      <td>95</td>\n",
       "      <td>30</td>\n",
       "      <td>1.41</td>\n",
       "      <td>A</td>\n",
       "    </tr>\n",
       "    <tr>\n",
       "      <th>4</th>\n",
       "      <td>Janice</td>\n",
       "      <td>Markhammer</td>\n",
       "      <td>495</td>\n",
       "      <td>75</td>\n",
       "      <td>20</td>\n",
       "      <td>-0.66</td>\n",
       "      <td>D</td>\n",
       "    </tr>\n",
       "    <tr>\n",
       "      <th>2</th>\n",
       "      <td>Bullwinkle</td>\n",
       "      <td>Moose</td>\n",
       "      <td>412</td>\n",
       "      <td>80</td>\n",
       "      <td>18</td>\n",
       "      <td>-0.90</td>\n",
       "      <td>D</td>\n",
       "    </tr>\n",
       "    <tr>\n",
       "      <th>9</th>\n",
       "      <td>Mary</td>\n",
       "      <td>Rayburn</td>\n",
       "      <td>522</td>\n",
       "      <td>86</td>\n",
       "      <td>18</td>\n",
       "      <td>-0.19</td>\n",
       "      <td>C</td>\n",
       "    </tr>\n",
       "    <tr>\n",
       "      <th>1</th>\n",
       "      <td>Angela</td>\n",
       "      <td>Williams</td>\n",
       "      <td>600</td>\n",
       "      <td>99</td>\n",
       "      <td>22</td>\n",
       "      <td>0.97</td>\n",
       "      <td>A</td>\n",
       "    </tr>\n",
       "    <tr>\n",
       "      <th>6</th>\n",
       "      <td>Reuven</td>\n",
       "      <td>Ytzrhak</td>\n",
       "      <td>410</td>\n",
       "      <td>80</td>\n",
       "      <td>15</td>\n",
       "      <td>-1.10</td>\n",
       "      <td>F</td>\n",
       "    </tr>\n",
       "  </tbody>\n",
       "</table>\n",
       "</div>"
      ],
      "text/plain": [
       "    firstname    lastname  math  science  english  score grade\n",
       "5      Cheryl     Cushing   512       85       28   0.37     C\n",
       "0        John       Davis   502       95       25   0.59     B\n",
       "8        Joel     England   573       89       27   0.74     B\n",
       "3       David       Jones   358       82       15  -1.22     F\n",
       "7        Greg        Knox   625       95       30   1.41     A\n",
       "4      Janice  Markhammer   495       75       20  -0.66     D\n",
       "2  Bullwinkle       Moose   412       80       18  -0.90     D\n",
       "9        Mary     Rayburn   522       86       18  -0.19     C\n",
       "1      Angela    Williams   600       99       22   0.97     A\n",
       "6      Reuven     Ytzrhak   410       80       15  -1.10     F"
      ]
     },
     "execution_count": 126,
     "metadata": {},
     "output_type": "execute_result"
    }
   ],
   "source": [
    "roster.sort_values(by=['lastname','firstname'])"
   ]
  },
  {
   "cell_type": "markdown",
   "metadata": {},
   "source": [
    "## **控制流与用户自编函数"
   ]
  },
  {
   "cell_type": "markdown",
   "metadata": {},
   "source": [
    "## 整合与重构"
   ]
  },
  {
   "cell_type": "code",
   "execution_count": 1,
   "metadata": {
    "execution": {
     "iopub.execute_input": "2020-10-13T12:25:29.805612Z",
     "iopub.status.busy": "2020-10-13T12:25:29.804616Z",
     "iopub.status.idle": "2020-10-13T12:25:31.198308Z",
     "shell.execute_reply": "2020-10-13T12:25:31.194607Z",
     "shell.execute_reply.started": "2020-10-13T12:25:29.805612Z"
    }
   },
   "outputs": [
    {
     "data": {
      "text/html": [
       "<div>\n",
       "<style scoped>\n",
       "    .dataframe tbody tr th:only-of-type {\n",
       "        vertical-align: middle;\n",
       "    }\n",
       "\n",
       "    .dataframe tbody tr th {\n",
       "        vertical-align: top;\n",
       "    }\n",
       "\n",
       "    .dataframe thead th {\n",
       "        text-align: right;\n",
       "    }\n",
       "</style>\n",
       "<table border=\"1\" class=\"dataframe\">\n",
       "  <thead>\n",
       "    <tr style=\"text-align: right;\">\n",
       "      <th></th>\n",
       "      <th>mpg</th>\n",
       "      <th>cyl</th>\n",
       "      <th>disp</th>\n",
       "      <th>hp</th>\n",
       "      <th>drat</th>\n",
       "      <th>wt</th>\n",
       "      <th>qsec</th>\n",
       "      <th>vs</th>\n",
       "      <th>am</th>\n",
       "      <th>gear</th>\n",
       "      <th>carb</th>\n",
       "    </tr>\n",
       "  </thead>\n",
       "  <tbody>\n",
       "    <tr>\n",
       "      <th>Mazda RX4</th>\n",
       "      <td>21.0</td>\n",
       "      <td>6</td>\n",
       "      <td>160.0</td>\n",
       "      <td>110</td>\n",
       "      <td>3.90</td>\n",
       "      <td>2.620</td>\n",
       "      <td>16.46</td>\n",
       "      <td>0</td>\n",
       "      <td>1</td>\n",
       "      <td>4</td>\n",
       "      <td>4</td>\n",
       "    </tr>\n",
       "    <tr>\n",
       "      <th>Mazda RX4 Wag</th>\n",
       "      <td>21.0</td>\n",
       "      <td>6</td>\n",
       "      <td>160.0</td>\n",
       "      <td>110</td>\n",
       "      <td>3.90</td>\n",
       "      <td>2.875</td>\n",
       "      <td>17.02</td>\n",
       "      <td>0</td>\n",
       "      <td>1</td>\n",
       "      <td>4</td>\n",
       "      <td>4</td>\n",
       "    </tr>\n",
       "    <tr>\n",
       "      <th>Datsun 710</th>\n",
       "      <td>22.8</td>\n",
       "      <td>4</td>\n",
       "      <td>108.0</td>\n",
       "      <td>93</td>\n",
       "      <td>3.85</td>\n",
       "      <td>2.320</td>\n",
       "      <td>18.61</td>\n",
       "      <td>1</td>\n",
       "      <td>1</td>\n",
       "      <td>4</td>\n",
       "      <td>1</td>\n",
       "    </tr>\n",
       "    <tr>\n",
       "      <th>Hornet 4 Drive</th>\n",
       "      <td>21.4</td>\n",
       "      <td>6</td>\n",
       "      <td>258.0</td>\n",
       "      <td>110</td>\n",
       "      <td>3.08</td>\n",
       "      <td>3.215</td>\n",
       "      <td>19.44</td>\n",
       "      <td>1</td>\n",
       "      <td>0</td>\n",
       "      <td>3</td>\n",
       "      <td>1</td>\n",
       "    </tr>\n",
       "    <tr>\n",
       "      <th>Hornet Sportabout</th>\n",
       "      <td>18.7</td>\n",
       "      <td>8</td>\n",
       "      <td>360.0</td>\n",
       "      <td>175</td>\n",
       "      <td>3.15</td>\n",
       "      <td>3.440</td>\n",
       "      <td>17.02</td>\n",
       "      <td>0</td>\n",
       "      <td>0</td>\n",
       "      <td>3</td>\n",
       "      <td>2</td>\n",
       "    </tr>\n",
       "  </tbody>\n",
       "</table>\n",
       "</div>"
      ],
      "text/plain": [
       "                    mpg  cyl   disp   hp  drat     wt   qsec  vs  am  gear  \\\n",
       "Mazda RX4          21.0    6  160.0  110  3.90  2.620  16.46   0   1     4   \n",
       "Mazda RX4 Wag      21.0    6  160.0  110  3.90  2.875  17.02   0   1     4   \n",
       "Datsun 710         22.8    4  108.0   93  3.85  2.320  18.61   1   1     4   \n",
       "Hornet 4 Drive     21.4    6  258.0  110  3.08  3.215  19.44   1   0     3   \n",
       "Hornet Sportabout  18.7    8  360.0  175  3.15  3.440  17.02   0   0     3   \n",
       "\n",
       "                   carb  \n",
       "Mazda RX4             4  \n",
       "Mazda RX4 Wag         4  \n",
       "Datsun 710            1  \n",
       "Hornet 4 Drive        1  \n",
       "Hornet Sportabout     2  "
      ]
     },
     "execution_count": 1,
     "metadata": {},
     "output_type": "execute_result"
    }
   ],
   "source": [
    "import pandas as pd\n",
    "\n",
    "cars = pd.read_csv(\"mtcars.csv\", index_col=0)\n",
    "cars.head()"
   ]
  },
  {
   "cell_type": "markdown",
   "metadata": {},
   "source": [
    "### 转置"
   ]
  },
  {
   "cell_type": "code",
   "execution_count": 2,
   "metadata": {
    "execution": {
     "iopub.execute_input": "2020-10-13T12:25:36.636585Z",
     "iopub.status.busy": "2020-10-13T12:25:36.635547Z",
     "iopub.status.idle": "2020-10-13T12:25:36.745343Z",
     "shell.execute_reply": "2020-10-13T12:25:36.742841Z",
     "shell.execute_reply.started": "2020-10-13T12:25:36.636585Z"
    }
   },
   "outputs": [
    {
     "data": {
      "text/html": [
       "<div>\n",
       "<style scoped>\n",
       "    .dataframe tbody tr th:only-of-type {\n",
       "        vertical-align: middle;\n",
       "    }\n",
       "\n",
       "    .dataframe tbody tr th {\n",
       "        vertical-align: top;\n",
       "    }\n",
       "\n",
       "    .dataframe thead th {\n",
       "        text-align: right;\n",
       "    }\n",
       "</style>\n",
       "<table border=\"1\" class=\"dataframe\">\n",
       "  <thead>\n",
       "    <tr style=\"text-align: right;\">\n",
       "      <th></th>\n",
       "      <th>Mazda RX4</th>\n",
       "      <th>Mazda RX4 Wag</th>\n",
       "      <th>Datsun 710</th>\n",
       "      <th>Hornet 4 Drive</th>\n",
       "      <th>Hornet Sportabout</th>\n",
       "      <th>Valiant</th>\n",
       "      <th>Duster 360</th>\n",
       "      <th>Merc 240D</th>\n",
       "      <th>Merc 230</th>\n",
       "      <th>Merc 280</th>\n",
       "      <th>...</th>\n",
       "      <th>AMC Javelin</th>\n",
       "      <th>Camaro Z28</th>\n",
       "      <th>Pontiac Firebird</th>\n",
       "      <th>Fiat X1-9</th>\n",
       "      <th>Porsche 914-2</th>\n",
       "      <th>Lotus Europa</th>\n",
       "      <th>Ford Pantera L</th>\n",
       "      <th>Ferrari Dino</th>\n",
       "      <th>Maserati Bora</th>\n",
       "      <th>Volvo 142E</th>\n",
       "    </tr>\n",
       "  </thead>\n",
       "  <tbody>\n",
       "    <tr>\n",
       "      <th>mpg</th>\n",
       "      <td>21.00</td>\n",
       "      <td>21.000</td>\n",
       "      <td>22.80</td>\n",
       "      <td>21.400</td>\n",
       "      <td>18.70</td>\n",
       "      <td>18.10</td>\n",
       "      <td>14.30</td>\n",
       "      <td>24.40</td>\n",
       "      <td>22.80</td>\n",
       "      <td>19.20</td>\n",
       "      <td>...</td>\n",
       "      <td>15.200</td>\n",
       "      <td>13.30</td>\n",
       "      <td>19.200</td>\n",
       "      <td>27.300</td>\n",
       "      <td>26.00</td>\n",
       "      <td>30.400</td>\n",
       "      <td>15.80</td>\n",
       "      <td>19.70</td>\n",
       "      <td>15.00</td>\n",
       "      <td>21.40</td>\n",
       "    </tr>\n",
       "    <tr>\n",
       "      <th>cyl</th>\n",
       "      <td>6.00</td>\n",
       "      <td>6.000</td>\n",
       "      <td>4.00</td>\n",
       "      <td>6.000</td>\n",
       "      <td>8.00</td>\n",
       "      <td>6.00</td>\n",
       "      <td>8.00</td>\n",
       "      <td>4.00</td>\n",
       "      <td>4.00</td>\n",
       "      <td>6.00</td>\n",
       "      <td>...</td>\n",
       "      <td>8.000</td>\n",
       "      <td>8.00</td>\n",
       "      <td>8.000</td>\n",
       "      <td>4.000</td>\n",
       "      <td>4.00</td>\n",
       "      <td>4.000</td>\n",
       "      <td>8.00</td>\n",
       "      <td>6.00</td>\n",
       "      <td>8.00</td>\n",
       "      <td>4.00</td>\n",
       "    </tr>\n",
       "    <tr>\n",
       "      <th>disp</th>\n",
       "      <td>160.00</td>\n",
       "      <td>160.000</td>\n",
       "      <td>108.00</td>\n",
       "      <td>258.000</td>\n",
       "      <td>360.00</td>\n",
       "      <td>225.00</td>\n",
       "      <td>360.00</td>\n",
       "      <td>146.70</td>\n",
       "      <td>140.80</td>\n",
       "      <td>167.60</td>\n",
       "      <td>...</td>\n",
       "      <td>304.000</td>\n",
       "      <td>350.00</td>\n",
       "      <td>400.000</td>\n",
       "      <td>79.000</td>\n",
       "      <td>120.30</td>\n",
       "      <td>95.100</td>\n",
       "      <td>351.00</td>\n",
       "      <td>145.00</td>\n",
       "      <td>301.00</td>\n",
       "      <td>121.00</td>\n",
       "    </tr>\n",
       "    <tr>\n",
       "      <th>hp</th>\n",
       "      <td>110.00</td>\n",
       "      <td>110.000</td>\n",
       "      <td>93.00</td>\n",
       "      <td>110.000</td>\n",
       "      <td>175.00</td>\n",
       "      <td>105.00</td>\n",
       "      <td>245.00</td>\n",
       "      <td>62.00</td>\n",
       "      <td>95.00</td>\n",
       "      <td>123.00</td>\n",
       "      <td>...</td>\n",
       "      <td>150.000</td>\n",
       "      <td>245.00</td>\n",
       "      <td>175.000</td>\n",
       "      <td>66.000</td>\n",
       "      <td>91.00</td>\n",
       "      <td>113.000</td>\n",
       "      <td>264.00</td>\n",
       "      <td>175.00</td>\n",
       "      <td>335.00</td>\n",
       "      <td>109.00</td>\n",
       "    </tr>\n",
       "    <tr>\n",
       "      <th>drat</th>\n",
       "      <td>3.90</td>\n",
       "      <td>3.900</td>\n",
       "      <td>3.85</td>\n",
       "      <td>3.080</td>\n",
       "      <td>3.15</td>\n",
       "      <td>2.76</td>\n",
       "      <td>3.21</td>\n",
       "      <td>3.69</td>\n",
       "      <td>3.92</td>\n",
       "      <td>3.92</td>\n",
       "      <td>...</td>\n",
       "      <td>3.150</td>\n",
       "      <td>3.73</td>\n",
       "      <td>3.080</td>\n",
       "      <td>4.080</td>\n",
       "      <td>4.43</td>\n",
       "      <td>3.770</td>\n",
       "      <td>4.22</td>\n",
       "      <td>3.62</td>\n",
       "      <td>3.54</td>\n",
       "      <td>4.11</td>\n",
       "    </tr>\n",
       "    <tr>\n",
       "      <th>wt</th>\n",
       "      <td>2.62</td>\n",
       "      <td>2.875</td>\n",
       "      <td>2.32</td>\n",
       "      <td>3.215</td>\n",
       "      <td>3.44</td>\n",
       "      <td>3.46</td>\n",
       "      <td>3.57</td>\n",
       "      <td>3.19</td>\n",
       "      <td>3.15</td>\n",
       "      <td>3.44</td>\n",
       "      <td>...</td>\n",
       "      <td>3.435</td>\n",
       "      <td>3.84</td>\n",
       "      <td>3.845</td>\n",
       "      <td>1.935</td>\n",
       "      <td>2.14</td>\n",
       "      <td>1.513</td>\n",
       "      <td>3.17</td>\n",
       "      <td>2.77</td>\n",
       "      <td>3.57</td>\n",
       "      <td>2.78</td>\n",
       "    </tr>\n",
       "    <tr>\n",
       "      <th>qsec</th>\n",
       "      <td>16.46</td>\n",
       "      <td>17.020</td>\n",
       "      <td>18.61</td>\n",
       "      <td>19.440</td>\n",
       "      <td>17.02</td>\n",
       "      <td>20.22</td>\n",
       "      <td>15.84</td>\n",
       "      <td>20.00</td>\n",
       "      <td>22.90</td>\n",
       "      <td>18.30</td>\n",
       "      <td>...</td>\n",
       "      <td>17.300</td>\n",
       "      <td>15.41</td>\n",
       "      <td>17.050</td>\n",
       "      <td>18.900</td>\n",
       "      <td>16.70</td>\n",
       "      <td>16.900</td>\n",
       "      <td>14.50</td>\n",
       "      <td>15.50</td>\n",
       "      <td>14.60</td>\n",
       "      <td>18.60</td>\n",
       "    </tr>\n",
       "    <tr>\n",
       "      <th>vs</th>\n",
       "      <td>0.00</td>\n",
       "      <td>0.000</td>\n",
       "      <td>1.00</td>\n",
       "      <td>1.000</td>\n",
       "      <td>0.00</td>\n",
       "      <td>1.00</td>\n",
       "      <td>0.00</td>\n",
       "      <td>1.00</td>\n",
       "      <td>1.00</td>\n",
       "      <td>1.00</td>\n",
       "      <td>...</td>\n",
       "      <td>0.000</td>\n",
       "      <td>0.00</td>\n",
       "      <td>0.000</td>\n",
       "      <td>1.000</td>\n",
       "      <td>0.00</td>\n",
       "      <td>1.000</td>\n",
       "      <td>0.00</td>\n",
       "      <td>0.00</td>\n",
       "      <td>0.00</td>\n",
       "      <td>1.00</td>\n",
       "    </tr>\n",
       "    <tr>\n",
       "      <th>am</th>\n",
       "      <td>1.00</td>\n",
       "      <td>1.000</td>\n",
       "      <td>1.00</td>\n",
       "      <td>0.000</td>\n",
       "      <td>0.00</td>\n",
       "      <td>0.00</td>\n",
       "      <td>0.00</td>\n",
       "      <td>0.00</td>\n",
       "      <td>0.00</td>\n",
       "      <td>0.00</td>\n",
       "      <td>...</td>\n",
       "      <td>0.000</td>\n",
       "      <td>0.00</td>\n",
       "      <td>0.000</td>\n",
       "      <td>1.000</td>\n",
       "      <td>1.00</td>\n",
       "      <td>1.000</td>\n",
       "      <td>1.00</td>\n",
       "      <td>1.00</td>\n",
       "      <td>1.00</td>\n",
       "      <td>1.00</td>\n",
       "    </tr>\n",
       "    <tr>\n",
       "      <th>gear</th>\n",
       "      <td>4.00</td>\n",
       "      <td>4.000</td>\n",
       "      <td>4.00</td>\n",
       "      <td>3.000</td>\n",
       "      <td>3.00</td>\n",
       "      <td>3.00</td>\n",
       "      <td>3.00</td>\n",
       "      <td>4.00</td>\n",
       "      <td>4.00</td>\n",
       "      <td>4.00</td>\n",
       "      <td>...</td>\n",
       "      <td>3.000</td>\n",
       "      <td>3.00</td>\n",
       "      <td>3.000</td>\n",
       "      <td>4.000</td>\n",
       "      <td>5.00</td>\n",
       "      <td>5.000</td>\n",
       "      <td>5.00</td>\n",
       "      <td>5.00</td>\n",
       "      <td>5.00</td>\n",
       "      <td>4.00</td>\n",
       "    </tr>\n",
       "    <tr>\n",
       "      <th>carb</th>\n",
       "      <td>4.00</td>\n",
       "      <td>4.000</td>\n",
       "      <td>1.00</td>\n",
       "      <td>1.000</td>\n",
       "      <td>2.00</td>\n",
       "      <td>1.00</td>\n",
       "      <td>4.00</td>\n",
       "      <td>2.00</td>\n",
       "      <td>2.00</td>\n",
       "      <td>4.00</td>\n",
       "      <td>...</td>\n",
       "      <td>2.000</td>\n",
       "      <td>4.00</td>\n",
       "      <td>2.000</td>\n",
       "      <td>1.000</td>\n",
       "      <td>2.00</td>\n",
       "      <td>2.000</td>\n",
       "      <td>4.00</td>\n",
       "      <td>6.00</td>\n",
       "      <td>8.00</td>\n",
       "      <td>2.00</td>\n",
       "    </tr>\n",
       "  </tbody>\n",
       "</table>\n",
       "<p>11 rows × 32 columns</p>\n",
       "</div>"
      ],
      "text/plain": [
       "      Mazda RX4  Mazda RX4 Wag  Datsun 710  Hornet 4 Drive  Hornet Sportabout  \\\n",
       "mpg       21.00         21.000       22.80          21.400              18.70   \n",
       "cyl        6.00          6.000        4.00           6.000               8.00   \n",
       "disp     160.00        160.000      108.00         258.000             360.00   \n",
       "hp       110.00        110.000       93.00         110.000             175.00   \n",
       "drat       3.90          3.900        3.85           3.080               3.15   \n",
       "wt         2.62          2.875        2.32           3.215               3.44   \n",
       "qsec      16.46         17.020       18.61          19.440              17.02   \n",
       "vs         0.00          0.000        1.00           1.000               0.00   \n",
       "am         1.00          1.000        1.00           0.000               0.00   \n",
       "gear       4.00          4.000        4.00           3.000               3.00   \n",
       "carb       4.00          4.000        1.00           1.000               2.00   \n",
       "\n",
       "      Valiant  Duster 360  Merc 240D  Merc 230  Merc 280  ...  AMC Javelin  \\\n",
       "mpg     18.10       14.30      24.40     22.80     19.20  ...       15.200   \n",
       "cyl      6.00        8.00       4.00      4.00      6.00  ...        8.000   \n",
       "disp   225.00      360.00     146.70    140.80    167.60  ...      304.000   \n",
       "hp     105.00      245.00      62.00     95.00    123.00  ...      150.000   \n",
       "drat     2.76        3.21       3.69      3.92      3.92  ...        3.150   \n",
       "wt       3.46        3.57       3.19      3.15      3.44  ...        3.435   \n",
       "qsec    20.22       15.84      20.00     22.90     18.30  ...       17.300   \n",
       "vs       1.00        0.00       1.00      1.00      1.00  ...        0.000   \n",
       "am       0.00        0.00       0.00      0.00      0.00  ...        0.000   \n",
       "gear     3.00        3.00       4.00      4.00      4.00  ...        3.000   \n",
       "carb     1.00        4.00       2.00      2.00      4.00  ...        2.000   \n",
       "\n",
       "      Camaro Z28  Pontiac Firebird  Fiat X1-9  Porsche 914-2  Lotus Europa  \\\n",
       "mpg        13.30            19.200     27.300          26.00        30.400   \n",
       "cyl         8.00             8.000      4.000           4.00         4.000   \n",
       "disp      350.00           400.000     79.000         120.30        95.100   \n",
       "hp        245.00           175.000     66.000          91.00       113.000   \n",
       "drat        3.73             3.080      4.080           4.43         3.770   \n",
       "wt          3.84             3.845      1.935           2.14         1.513   \n",
       "qsec       15.41            17.050     18.900          16.70        16.900   \n",
       "vs          0.00             0.000      1.000           0.00         1.000   \n",
       "am          0.00             0.000      1.000           1.00         1.000   \n",
       "gear        3.00             3.000      4.000           5.00         5.000   \n",
       "carb        4.00             2.000      1.000           2.00         2.000   \n",
       "\n",
       "      Ford Pantera L  Ferrari Dino  Maserati Bora  Volvo 142E  \n",
       "mpg            15.80         19.70          15.00       21.40  \n",
       "cyl             8.00          6.00           8.00        4.00  \n",
       "disp          351.00        145.00         301.00      121.00  \n",
       "hp            264.00        175.00         335.00      109.00  \n",
       "drat            4.22          3.62           3.54        4.11  \n",
       "wt              3.17          2.77           3.57        2.78  \n",
       "qsec           14.50         15.50          14.60       18.60  \n",
       "vs              0.00          0.00           0.00        1.00  \n",
       "am              1.00          1.00           1.00        1.00  \n",
       "gear            5.00          5.00           5.00        4.00  \n",
       "carb            4.00          6.00           8.00        2.00  \n",
       "\n",
       "[11 rows x 32 columns]"
      ]
     },
     "execution_count": 2,
     "metadata": {},
     "output_type": "execute_result"
    }
   ],
   "source": [
    "cars.T"
   ]
  },
  {
   "cell_type": "markdown",
   "metadata": {},
   "source": [
    "### 整合数据"
   ]
  },
  {
   "cell_type": "code",
   "execution_count": 6,
   "metadata": {
    "execution": {
     "iopub.execute_input": "2020-10-13T12:26:55.638509Z",
     "iopub.status.busy": "2020-10-13T12:26:55.637514Z",
     "iopub.status.idle": "2020-10-13T12:26:55.703956Z",
     "shell.execute_reply": "2020-10-13T12:26:55.700275Z",
     "shell.execute_reply.started": "2020-10-13T12:26:55.638509Z"
    }
   },
   "outputs": [
    {
     "data": {
      "text/html": [
       "<div>\n",
       "<style scoped>\n",
       "    .dataframe tbody tr th:only-of-type {\n",
       "        vertical-align: middle;\n",
       "    }\n",
       "\n",
       "    .dataframe tbody tr th {\n",
       "        vertical-align: top;\n",
       "    }\n",
       "\n",
       "    .dataframe thead th {\n",
       "        text-align: right;\n",
       "    }\n",
       "</style>\n",
       "<table border=\"1\" class=\"dataframe\">\n",
       "  <thead>\n",
       "    <tr style=\"text-align: right;\">\n",
       "      <th></th>\n",
       "      <th></th>\n",
       "      <th>mpg</th>\n",
       "      <th>disp</th>\n",
       "      <th>hp</th>\n",
       "      <th>drat</th>\n",
       "      <th>wt</th>\n",
       "      <th>qsec</th>\n",
       "      <th>vs</th>\n",
       "      <th>am</th>\n",
       "      <th>carb</th>\n",
       "    </tr>\n",
       "    <tr>\n",
       "      <th>cyl</th>\n",
       "      <th>gear</th>\n",
       "      <th></th>\n",
       "      <th></th>\n",
       "      <th></th>\n",
       "      <th></th>\n",
       "      <th></th>\n",
       "      <th></th>\n",
       "      <th></th>\n",
       "      <th></th>\n",
       "      <th></th>\n",
       "    </tr>\n",
       "  </thead>\n",
       "  <tbody>\n",
       "    <tr>\n",
       "      <th rowspan=\"3\" valign=\"top\">4</th>\n",
       "      <th>3</th>\n",
       "      <td>21.500</td>\n",
       "      <td>120.100000</td>\n",
       "      <td>97.000000</td>\n",
       "      <td>3.700000</td>\n",
       "      <td>2.465000</td>\n",
       "      <td>20.0100</td>\n",
       "      <td>1.0</td>\n",
       "      <td>0.00</td>\n",
       "      <td>1.000000</td>\n",
       "    </tr>\n",
       "    <tr>\n",
       "      <th>4</th>\n",
       "      <td>26.925</td>\n",
       "      <td>102.625000</td>\n",
       "      <td>76.000000</td>\n",
       "      <td>4.110000</td>\n",
       "      <td>2.378125</td>\n",
       "      <td>19.6125</td>\n",
       "      <td>1.0</td>\n",
       "      <td>0.75</td>\n",
       "      <td>1.500000</td>\n",
       "    </tr>\n",
       "    <tr>\n",
       "      <th>5</th>\n",
       "      <td>28.200</td>\n",
       "      <td>107.700000</td>\n",
       "      <td>102.000000</td>\n",
       "      <td>4.100000</td>\n",
       "      <td>1.826500</td>\n",
       "      <td>16.8000</td>\n",
       "      <td>0.5</td>\n",
       "      <td>1.00</td>\n",
       "      <td>2.000000</td>\n",
       "    </tr>\n",
       "    <tr>\n",
       "      <th rowspan=\"3\" valign=\"top\">6</th>\n",
       "      <th>3</th>\n",
       "      <td>19.750</td>\n",
       "      <td>241.500000</td>\n",
       "      <td>107.500000</td>\n",
       "      <td>2.920000</td>\n",
       "      <td>3.337500</td>\n",
       "      <td>19.8300</td>\n",
       "      <td>1.0</td>\n",
       "      <td>0.00</td>\n",
       "      <td>1.000000</td>\n",
       "    </tr>\n",
       "    <tr>\n",
       "      <th>4</th>\n",
       "      <td>19.750</td>\n",
       "      <td>163.800000</td>\n",
       "      <td>116.500000</td>\n",
       "      <td>3.910000</td>\n",
       "      <td>3.093750</td>\n",
       "      <td>17.6700</td>\n",
       "      <td>0.5</td>\n",
       "      <td>0.50</td>\n",
       "      <td>4.000000</td>\n",
       "    </tr>\n",
       "    <tr>\n",
       "      <th>5</th>\n",
       "      <td>19.700</td>\n",
       "      <td>145.000000</td>\n",
       "      <td>175.000000</td>\n",
       "      <td>3.620000</td>\n",
       "      <td>2.770000</td>\n",
       "      <td>15.5000</td>\n",
       "      <td>0.0</td>\n",
       "      <td>1.00</td>\n",
       "      <td>6.000000</td>\n",
       "    </tr>\n",
       "    <tr>\n",
       "      <th rowspan=\"2\" valign=\"top\">8</th>\n",
       "      <th>3</th>\n",
       "      <td>15.050</td>\n",
       "      <td>357.616667</td>\n",
       "      <td>194.166667</td>\n",
       "      <td>3.120833</td>\n",
       "      <td>4.104083</td>\n",
       "      <td>17.1425</td>\n",
       "      <td>0.0</td>\n",
       "      <td>0.00</td>\n",
       "      <td>3.083333</td>\n",
       "    </tr>\n",
       "    <tr>\n",
       "      <th>5</th>\n",
       "      <td>15.400</td>\n",
       "      <td>326.000000</td>\n",
       "      <td>299.500000</td>\n",
       "      <td>3.880000</td>\n",
       "      <td>3.370000</td>\n",
       "      <td>14.5500</td>\n",
       "      <td>0.0</td>\n",
       "      <td>1.00</td>\n",
       "      <td>6.000000</td>\n",
       "    </tr>\n",
       "  </tbody>\n",
       "</table>\n",
       "</div>"
      ],
      "text/plain": [
       "             mpg        disp          hp      drat        wt     qsec   vs  \\\n",
       "cyl gear                                                                     \n",
       "4   3     21.500  120.100000   97.000000  3.700000  2.465000  20.0100  1.0   \n",
       "    4     26.925  102.625000   76.000000  4.110000  2.378125  19.6125  1.0   \n",
       "    5     28.200  107.700000  102.000000  4.100000  1.826500  16.8000  0.5   \n",
       "6   3     19.750  241.500000  107.500000  2.920000  3.337500  19.8300  1.0   \n",
       "    4     19.750  163.800000  116.500000  3.910000  3.093750  17.6700  0.5   \n",
       "    5     19.700  145.000000  175.000000  3.620000  2.770000  15.5000  0.0   \n",
       "8   3     15.050  357.616667  194.166667  3.120833  4.104083  17.1425  0.0   \n",
       "    5     15.400  326.000000  299.500000  3.880000  3.370000  14.5500  0.0   \n",
       "\n",
       "            am      carb  \n",
       "cyl gear                  \n",
       "4   3     0.00  1.000000  \n",
       "    4     0.75  1.500000  \n",
       "    5     1.00  2.000000  \n",
       "6   3     0.00  1.000000  \n",
       "    4     0.50  4.000000  \n",
       "    5     1.00  6.000000  \n",
       "8   3     0.00  3.083333  \n",
       "    5     1.00  6.000000  "
      ]
     },
     "execution_count": 6,
     "metadata": {},
     "output_type": "execute_result"
    }
   ],
   "source": [
    "aggdata = cars.groupby(['cyl','gear']).mean()\n",
    "aggdata"
   ]
  },
  {
   "cell_type": "markdown",
   "metadata": {},
   "source": [
    "### pivot"
   ]
  },
  {
   "cell_type": "code",
   "execution_count": 9,
   "metadata": {
    "execution": {
     "iopub.execute_input": "2020-10-13T12:30:41.540661Z",
     "iopub.status.busy": "2020-10-13T12:30:41.539662Z",
     "iopub.status.idle": "2020-10-13T12:30:41.587014Z",
     "shell.execute_reply": "2020-10-13T12:30:41.583137Z",
     "shell.execute_reply.started": "2020-10-13T12:30:41.540661Z"
    }
   },
   "outputs": [
    {
     "data": {
      "text/html": [
       "<div>\n",
       "<style scoped>\n",
       "    .dataframe tbody tr th:only-of-type {\n",
       "        vertical-align: middle;\n",
       "    }\n",
       "\n",
       "    .dataframe tbody tr th {\n",
       "        vertical-align: top;\n",
       "    }\n",
       "\n",
       "    .dataframe thead th {\n",
       "        text-align: right;\n",
       "    }\n",
       "</style>\n",
       "<table border=\"1\" class=\"dataframe\">\n",
       "  <thead>\n",
       "    <tr style=\"text-align: right;\">\n",
       "      <th></th>\n",
       "      <th>id</th>\n",
       "      <th>time</th>\n",
       "      <th>x1</th>\n",
       "      <th>x2</th>\n",
       "    </tr>\n",
       "  </thead>\n",
       "  <tbody>\n",
       "    <tr>\n",
       "      <th>0</th>\n",
       "      <td>1</td>\n",
       "      <td>1</td>\n",
       "      <td>5</td>\n",
       "      <td>6</td>\n",
       "    </tr>\n",
       "    <tr>\n",
       "      <th>1</th>\n",
       "      <td>1</td>\n",
       "      <td>2</td>\n",
       "      <td>3</td>\n",
       "      <td>5</td>\n",
       "    </tr>\n",
       "    <tr>\n",
       "      <th>2</th>\n",
       "      <td>2</td>\n",
       "      <td>1</td>\n",
       "      <td>6</td>\n",
       "      <td>1</td>\n",
       "    </tr>\n",
       "    <tr>\n",
       "      <th>3</th>\n",
       "      <td>2</td>\n",
       "      <td>2</td>\n",
       "      <td>2</td>\n",
       "      <td>4</td>\n",
       "    </tr>\n",
       "  </tbody>\n",
       "</table>\n",
       "</div>"
      ],
      "text/plain": [
       "   id  time  x1  x2\n",
       "0   1     1   5   6\n",
       "1   1     2   3   5\n",
       "2   2     1   6   1\n",
       "3   2     2   2   4"
      ]
     },
     "execution_count": 9,
     "metadata": {},
     "output_type": "execute_result"
    }
   ],
   "source": [
    "ID = [1, 1, 2, 2]\n",
    "Time = [1, 2, 1, 2]\n",
    "X1 = [5, 3, 6, 2]\n",
    "X2 = [6, 5, 1, 4]\n",
    "\n",
    "mydata = pd.DataFrame({'id': ID,\n",
    "                       'time': Time,\n",
    "                       'x1': X1,\n",
    "                       'x2': X2})\n",
    "mydata"
   ]
  },
  {
   "cell_type": "markdown",
   "metadata": {},
   "source": [
    "**融合**"
   ]
  },
  {
   "cell_type": "code",
   "execution_count": 14,
   "metadata": {
    "execution": {
     "iopub.execute_input": "2020-10-13T12:38:29.632514Z",
     "iopub.status.busy": "2020-10-13T12:38:29.631517Z",
     "iopub.status.idle": "2020-10-13T12:38:29.683147Z",
     "shell.execute_reply": "2020-10-13T12:38:29.681116Z",
     "shell.execute_reply.started": "2020-10-13T12:38:29.632514Z"
    }
   },
   "outputs": [
    {
     "data": {
      "text/html": [
       "<div>\n",
       "<style scoped>\n",
       "    .dataframe tbody tr th:only-of-type {\n",
       "        vertical-align: middle;\n",
       "    }\n",
       "\n",
       "    .dataframe tbody tr th {\n",
       "        vertical-align: top;\n",
       "    }\n",
       "\n",
       "    .dataframe thead th {\n",
       "        text-align: right;\n",
       "    }\n",
       "</style>\n",
       "<table border=\"1\" class=\"dataframe\">\n",
       "  <thead>\n",
       "    <tr style=\"text-align: right;\">\n",
       "      <th></th>\n",
       "      <th>id</th>\n",
       "      <th>time</th>\n",
       "      <th>variable</th>\n",
       "      <th>value</th>\n",
       "    </tr>\n",
       "  </thead>\n",
       "  <tbody>\n",
       "    <tr>\n",
       "      <th>0</th>\n",
       "      <td>1</td>\n",
       "      <td>1</td>\n",
       "      <td>x1</td>\n",
       "      <td>5</td>\n",
       "    </tr>\n",
       "    <tr>\n",
       "      <th>1</th>\n",
       "      <td>1</td>\n",
       "      <td>2</td>\n",
       "      <td>x1</td>\n",
       "      <td>3</td>\n",
       "    </tr>\n",
       "    <tr>\n",
       "      <th>2</th>\n",
       "      <td>2</td>\n",
       "      <td>1</td>\n",
       "      <td>x1</td>\n",
       "      <td>6</td>\n",
       "    </tr>\n",
       "    <tr>\n",
       "      <th>3</th>\n",
       "      <td>2</td>\n",
       "      <td>2</td>\n",
       "      <td>x1</td>\n",
       "      <td>2</td>\n",
       "    </tr>\n",
       "    <tr>\n",
       "      <th>4</th>\n",
       "      <td>1</td>\n",
       "      <td>1</td>\n",
       "      <td>x2</td>\n",
       "      <td>6</td>\n",
       "    </tr>\n",
       "    <tr>\n",
       "      <th>5</th>\n",
       "      <td>1</td>\n",
       "      <td>2</td>\n",
       "      <td>x2</td>\n",
       "      <td>5</td>\n",
       "    </tr>\n",
       "    <tr>\n",
       "      <th>6</th>\n",
       "      <td>2</td>\n",
       "      <td>1</td>\n",
       "      <td>x2</td>\n",
       "      <td>1</td>\n",
       "    </tr>\n",
       "    <tr>\n",
       "      <th>7</th>\n",
       "      <td>2</td>\n",
       "      <td>2</td>\n",
       "      <td>x2</td>\n",
       "      <td>4</td>\n",
       "    </tr>\n",
       "  </tbody>\n",
       "</table>\n",
       "</div>"
      ],
      "text/plain": [
       "   id  time variable  value\n",
       "0   1     1       x1      5\n",
       "1   1     2       x1      3\n",
       "2   2     1       x1      6\n",
       "3   2     2       x1      2\n",
       "4   1     1       x2      6\n",
       "5   1     2       x2      5\n",
       "6   2     1       x2      1\n",
       "7   2     2       x2      4"
      ]
     },
     "execution_count": 14,
     "metadata": {},
     "output_type": "execute_result"
    }
   ],
   "source": [
    "md = pd.melt(mydata, id_vars=['id','time'])\n",
    "md"
   ]
  },
  {
   "cell_type": "markdown",
   "metadata": {},
   "source": [
    "**重铸**"
   ]
  },
  {
   "cell_type": "code",
   "execution_count": 20,
   "metadata": {
    "execution": {
     "iopub.execute_input": "2020-10-13T12:43:21.462670Z",
     "iopub.status.busy": "2020-10-13T12:43:21.461673Z",
     "iopub.status.idle": "2020-10-13T12:43:21.529013Z",
     "shell.execute_reply": "2020-10-13T12:43:21.527022Z",
     "shell.execute_reply.started": "2020-10-13T12:43:21.462670Z"
    }
   },
   "outputs": [
    {
     "data": {
      "text/html": [
       "<div>\n",
       "<style scoped>\n",
       "    .dataframe tbody tr th:only-of-type {\n",
       "        vertical-align: middle;\n",
       "    }\n",
       "\n",
       "    .dataframe tbody tr th {\n",
       "        vertical-align: top;\n",
       "    }\n",
       "\n",
       "    .dataframe thead th {\n",
       "        text-align: right;\n",
       "    }\n",
       "</style>\n",
       "<table border=\"1\" class=\"dataframe\">\n",
       "  <thead>\n",
       "    <tr style=\"text-align: right;\">\n",
       "      <th>variable</th>\n",
       "      <th>x1</th>\n",
       "      <th>x2</th>\n",
       "    </tr>\n",
       "    <tr>\n",
       "      <th>id</th>\n",
       "      <th></th>\n",
       "      <th></th>\n",
       "    </tr>\n",
       "  </thead>\n",
       "  <tbody>\n",
       "    <tr>\n",
       "      <th>1</th>\n",
       "      <td>4.0</td>\n",
       "      <td>5.5</td>\n",
       "    </tr>\n",
       "    <tr>\n",
       "      <th>2</th>\n",
       "      <td>4.0</td>\n",
       "      <td>2.5</td>\n",
       "    </tr>\n",
       "  </tbody>\n",
       "</table>\n",
       "</div>"
      ],
      "text/plain": [
       "variable   x1   x2\n",
       "id                \n",
       "1         4.0  5.5\n",
       "2         4.0  2.5"
      ]
     },
     "execution_count": 20,
     "metadata": {},
     "output_type": "execute_result"
    }
   ],
   "source": [
    "pd.pivot_table(md, index='id', columns='variable', values='value',\n",
    "               aggfunc='mean')"
   ]
  },
  {
   "cell_type": "code",
   "execution_count": 22,
   "metadata": {
    "execution": {
     "iopub.execute_input": "2020-10-13T12:44:27.284807Z",
     "iopub.status.busy": "2020-10-13T12:44:27.283455Z",
     "iopub.status.idle": "2020-10-13T12:44:27.345472Z",
     "shell.execute_reply": "2020-10-13T12:44:27.341735Z",
     "shell.execute_reply.started": "2020-10-13T12:44:27.284807Z"
    }
   },
   "outputs": [
    {
     "data": {
      "text/html": [
       "<div>\n",
       "<style scoped>\n",
       "    .dataframe tbody tr th:only-of-type {\n",
       "        vertical-align: middle;\n",
       "    }\n",
       "\n",
       "    .dataframe tbody tr th {\n",
       "        vertical-align: top;\n",
       "    }\n",
       "\n",
       "    .dataframe thead th {\n",
       "        text-align: right;\n",
       "    }\n",
       "</style>\n",
       "<table border=\"1\" class=\"dataframe\">\n",
       "  <thead>\n",
       "    <tr style=\"text-align: right;\">\n",
       "      <th>variable</th>\n",
       "      <th>x1</th>\n",
       "      <th>x2</th>\n",
       "    </tr>\n",
       "    <tr>\n",
       "      <th>time</th>\n",
       "      <th></th>\n",
       "      <th></th>\n",
       "    </tr>\n",
       "  </thead>\n",
       "  <tbody>\n",
       "    <tr>\n",
       "      <th>1</th>\n",
       "      <td>5.5</td>\n",
       "      <td>3.5</td>\n",
       "    </tr>\n",
       "    <tr>\n",
       "      <th>2</th>\n",
       "      <td>2.5</td>\n",
       "      <td>4.5</td>\n",
       "    </tr>\n",
       "  </tbody>\n",
       "</table>\n",
       "</div>"
      ],
      "text/plain": [
       "variable   x1   x2\n",
       "time              \n",
       "1         5.5  3.5\n",
       "2         2.5  4.5"
      ]
     },
     "execution_count": 22,
     "metadata": {},
     "output_type": "execute_result"
    }
   ],
   "source": [
    "pd.pivot_table(md, index='time', columns='variable', values='value')"
   ]
  },
  {
   "cell_type": "code",
   "execution_count": 23,
   "metadata": {
    "execution": {
     "iopub.execute_input": "2020-10-13T12:44:51.129282Z",
     "iopub.status.busy": "2020-10-13T12:44:51.128285Z",
     "iopub.status.idle": "2020-10-13T12:44:51.205634Z",
     "shell.execute_reply": "2020-10-13T12:44:51.193668Z",
     "shell.execute_reply.started": "2020-10-13T12:44:51.129282Z"
    }
   },
   "outputs": [
    {
     "data": {
      "text/html": [
       "<div>\n",
       "<style scoped>\n",
       "    .dataframe tbody tr th:only-of-type {\n",
       "        vertical-align: middle;\n",
       "    }\n",
       "\n",
       "    .dataframe tbody tr th {\n",
       "        vertical-align: top;\n",
       "    }\n",
       "\n",
       "    .dataframe thead th {\n",
       "        text-align: right;\n",
       "    }\n",
       "</style>\n",
       "<table border=\"1\" class=\"dataframe\">\n",
       "  <thead>\n",
       "    <tr style=\"text-align: right;\">\n",
       "      <th>time</th>\n",
       "      <th>1</th>\n",
       "      <th>2</th>\n",
       "    </tr>\n",
       "    <tr>\n",
       "      <th>id</th>\n",
       "      <th></th>\n",
       "      <th></th>\n",
       "    </tr>\n",
       "  </thead>\n",
       "  <tbody>\n",
       "    <tr>\n",
       "      <th>1</th>\n",
       "      <td>5.5</td>\n",
       "      <td>4.0</td>\n",
       "    </tr>\n",
       "    <tr>\n",
       "      <th>2</th>\n",
       "      <td>3.5</td>\n",
       "      <td>3.0</td>\n",
       "    </tr>\n",
       "  </tbody>\n",
       "</table>\n",
       "</div>"
      ],
      "text/plain": [
       "time    1    2\n",
       "id            \n",
       "1     5.5  4.0\n",
       "2     3.5  3.0"
      ]
     },
     "execution_count": 23,
     "metadata": {},
     "output_type": "execute_result"
    }
   ],
   "source": [
    "pd.pivot_table(md, index='id', columns='time', values='value')"
   ]
  },
  {
   "cell_type": "code",
   "execution_count": 24,
   "metadata": {
    "execution": {
     "iopub.execute_input": "2020-10-13T12:45:57.491334Z",
     "iopub.status.busy": "2020-10-13T12:45:57.489340Z",
     "iopub.status.idle": "2020-10-13T12:45:57.568056Z",
     "shell.execute_reply": "2020-10-13T12:45:57.563066Z",
     "shell.execute_reply.started": "2020-10-13T12:45:57.491334Z"
    }
   },
   "outputs": [
    {
     "data": {
      "text/html": [
       "<div>\n",
       "<style scoped>\n",
       "    .dataframe tbody tr th:only-of-type {\n",
       "        vertical-align: middle;\n",
       "    }\n",
       "\n",
       "    .dataframe tbody tr th {\n",
       "        vertical-align: top;\n",
       "    }\n",
       "\n",
       "    .dataframe thead th {\n",
       "        text-align: right;\n",
       "    }\n",
       "</style>\n",
       "<table border=\"1\" class=\"dataframe\">\n",
       "  <thead>\n",
       "    <tr style=\"text-align: right;\">\n",
       "      <th></th>\n",
       "      <th>variable</th>\n",
       "      <th>x1</th>\n",
       "      <th>x2</th>\n",
       "    </tr>\n",
       "    <tr>\n",
       "      <th>id</th>\n",
       "      <th>time</th>\n",
       "      <th></th>\n",
       "      <th></th>\n",
       "    </tr>\n",
       "  </thead>\n",
       "  <tbody>\n",
       "    <tr>\n",
       "      <th rowspan=\"2\" valign=\"top\">1</th>\n",
       "      <th>1</th>\n",
       "      <td>5</td>\n",
       "      <td>6</td>\n",
       "    </tr>\n",
       "    <tr>\n",
       "      <th>2</th>\n",
       "      <td>3</td>\n",
       "      <td>5</td>\n",
       "    </tr>\n",
       "    <tr>\n",
       "      <th rowspan=\"2\" valign=\"top\">2</th>\n",
       "      <th>1</th>\n",
       "      <td>6</td>\n",
       "      <td>1</td>\n",
       "    </tr>\n",
       "    <tr>\n",
       "      <th>2</th>\n",
       "      <td>2</td>\n",
       "      <td>4</td>\n",
       "    </tr>\n",
       "  </tbody>\n",
       "</table>\n",
       "</div>"
      ],
      "text/plain": [
       "variable  x1  x2\n",
       "id time         \n",
       "1  1       5   6\n",
       "   2       3   5\n",
       "2  1       6   1\n",
       "   2       2   4"
      ]
     },
     "execution_count": 24,
     "metadata": {},
     "output_type": "execute_result"
    }
   ],
   "source": [
    "pd.pivot_table(md, index=['id','time'], columns='variable', values='value')"
   ]
  },
  {
   "cell_type": "code",
   "execution_count": 25,
   "metadata": {
    "execution": {
     "iopub.execute_input": "2020-10-13T12:46:17.288638Z",
     "iopub.status.busy": "2020-10-13T12:46:17.287595Z",
     "iopub.status.idle": "2020-10-13T12:46:17.358448Z",
     "shell.execute_reply": "2020-10-13T12:46:17.349471Z",
     "shell.execute_reply.started": "2020-10-13T12:46:17.288638Z"
    }
   },
   "outputs": [
    {
     "data": {
      "text/html": [
       "<div>\n",
       "<style scoped>\n",
       "    .dataframe tbody tr th:only-of-type {\n",
       "        vertical-align: middle;\n",
       "    }\n",
       "\n",
       "    .dataframe tbody tr th {\n",
       "        vertical-align: top;\n",
       "    }\n",
       "\n",
       "    .dataframe thead th {\n",
       "        text-align: right;\n",
       "    }\n",
       "</style>\n",
       "<table border=\"1\" class=\"dataframe\">\n",
       "  <thead>\n",
       "    <tr style=\"text-align: right;\">\n",
       "      <th></th>\n",
       "      <th>time</th>\n",
       "      <th>1</th>\n",
       "      <th>2</th>\n",
       "    </tr>\n",
       "    <tr>\n",
       "      <th>id</th>\n",
       "      <th>variable</th>\n",
       "      <th></th>\n",
       "      <th></th>\n",
       "    </tr>\n",
       "  </thead>\n",
       "  <tbody>\n",
       "    <tr>\n",
       "      <th rowspan=\"2\" valign=\"top\">1</th>\n",
       "      <th>x1</th>\n",
       "      <td>5</td>\n",
       "      <td>3</td>\n",
       "    </tr>\n",
       "    <tr>\n",
       "      <th>x2</th>\n",
       "      <td>6</td>\n",
       "      <td>5</td>\n",
       "    </tr>\n",
       "    <tr>\n",
       "      <th rowspan=\"2\" valign=\"top\">2</th>\n",
       "      <th>x1</th>\n",
       "      <td>6</td>\n",
       "      <td>2</td>\n",
       "    </tr>\n",
       "    <tr>\n",
       "      <th>x2</th>\n",
       "      <td>1</td>\n",
       "      <td>4</td>\n",
       "    </tr>\n",
       "  </tbody>\n",
       "</table>\n",
       "</div>"
      ],
      "text/plain": [
       "time         1  2\n",
       "id variable      \n",
       "1  x1        5  3\n",
       "   x2        6  5\n",
       "2  x1        6  2\n",
       "   x2        1  4"
      ]
     },
     "execution_count": 25,
     "metadata": {},
     "output_type": "execute_result"
    }
   ],
   "source": [
    "pd.pivot_table(md, index=['id','variable'], columns='time', values='value')"
   ]
  },
  {
   "cell_type": "code",
   "execution_count": 27,
   "metadata": {
    "execution": {
     "iopub.execute_input": "2020-10-13T12:46:50.710120Z",
     "iopub.status.busy": "2020-10-13T12:46:50.709123Z",
     "iopub.status.idle": "2020-10-13T12:46:50.787473Z",
     "shell.execute_reply": "2020-10-13T12:46:50.785523Z",
     "shell.execute_reply.started": "2020-10-13T12:46:50.710120Z"
    }
   },
   "outputs": [
    {
     "data": {
      "text/html": [
       "<div>\n",
       "<style scoped>\n",
       "    .dataframe tbody tr th:only-of-type {\n",
       "        vertical-align: middle;\n",
       "    }\n",
       "\n",
       "    .dataframe tbody tr th {\n",
       "        vertical-align: top;\n",
       "    }\n",
       "\n",
       "    .dataframe thead tr th {\n",
       "        text-align: left;\n",
       "    }\n",
       "\n",
       "    .dataframe thead tr:last-of-type th {\n",
       "        text-align: right;\n",
       "    }\n",
       "</style>\n",
       "<table border=\"1\" class=\"dataframe\">\n",
       "  <thead>\n",
       "    <tr>\n",
       "      <th>variable</th>\n",
       "      <th colspan=\"2\" halign=\"left\">x1</th>\n",
       "      <th colspan=\"2\" halign=\"left\">x2</th>\n",
       "    </tr>\n",
       "    <tr>\n",
       "      <th>time</th>\n",
       "      <th>1</th>\n",
       "      <th>2</th>\n",
       "      <th>1</th>\n",
       "      <th>2</th>\n",
       "    </tr>\n",
       "    <tr>\n",
       "      <th>id</th>\n",
       "      <th></th>\n",
       "      <th></th>\n",
       "      <th></th>\n",
       "      <th></th>\n",
       "    </tr>\n",
       "  </thead>\n",
       "  <tbody>\n",
       "    <tr>\n",
       "      <th>1</th>\n",
       "      <td>5</td>\n",
       "      <td>3</td>\n",
       "      <td>6</td>\n",
       "      <td>5</td>\n",
       "    </tr>\n",
       "    <tr>\n",
       "      <th>2</th>\n",
       "      <td>6</td>\n",
       "      <td>2</td>\n",
       "      <td>1</td>\n",
       "      <td>4</td>\n",
       "    </tr>\n",
       "  </tbody>\n",
       "</table>\n",
       "</div>"
      ],
      "text/plain": [
       "variable x1    x2   \n",
       "time      1  2  1  2\n",
       "id                  \n",
       "1         5  3  6  5\n",
       "2         6  2  1  4"
      ]
     },
     "execution_count": 27,
     "metadata": {},
     "output_type": "execute_result"
    }
   ],
   "source": [
    "pd.pivot_table(md, index='id', columns=['variable','time'], values='value')"
   ]
  },
  {
   "cell_type": "code",
   "execution_count": null,
   "metadata": {},
   "outputs": [],
   "source": []
  }
 ],
 "metadata": {
  "kernelspec": {
   "display_name": "Python 3",
   "language": "python",
   "name": "python3"
  },
  "language_info": {
   "codemirror_mode": {
    "name": "ipython",
    "version": 3
   },
   "file_extension": ".py",
   "mimetype": "text/x-python",
   "name": "python",
   "nbconvert_exporter": "python",
   "pygments_lexer": "ipython3",
   "version": "3.7.7"
  }
 },
 "nbformat": 4,
 "nbformat_minor": 4
}
